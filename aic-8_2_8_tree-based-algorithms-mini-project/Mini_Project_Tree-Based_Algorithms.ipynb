{
  "nbformat": 4,
  "nbformat_minor": 0,
  "metadata": {
    "colab": {
      "name": "Mini_Project_Tree-Based_Algorithms.ipynb",
      "version": "0.3.2",
      "provenance": []
    },
    "language_info": {
      "codemirror_mode": {
        "name": "ipython",
        "version": 3
      },
      "file_extension": ".py",
      "mimetype": "text/x-python",
      "name": "python",
      "nbconvert_exporter": "python",
      "pygments_lexer": "ipython3",
      "version": "3.7.3"
    },
    "kernelspec": {
      "display_name": "Python 3",
      "language": "python",
      "name": "python3"
    }
  },
  "cells": [
    {
      "cell_type": "markdown",
      "metadata": {
        "id": "L4RTD8FvdOMZ",
        "colab_type": "text"
      },
      "source": [
        "# Mini Project: Tree-Based Algorithms"
      ]
    },
    {
      "cell_type": "markdown",
      "metadata": {
        "id": "kLOYpXFTdOMc",
        "colab_type": "text"
      },
      "source": [
        "## The \"German Credit\" Dataset"
      ]
    },
    {
      "cell_type": "markdown",
      "metadata": {
        "id": "2MUodPtYdOMc",
        "colab_type": "text"
      },
      "source": [
        "### Dataset Details"
      ]
    },
    {
      "cell_type": "markdown",
      "metadata": {
        "id": "AoeHuFaWdOMd",
        "colab_type": "text"
      },
      "source": [
        "This dataset has two classes (these would be considered labels in Machine Learning terms) to describe the worthiness of a personal loan: \"Good\" or \"Bad\". There are predictors related to attributes, such as: checking account status, duration, credit history, purpose of the loan, amount of the loan, savings accounts or bonds, employment duration, installment rate in percentage of disposable income, personal information, other debtors/guarantors, residence duration, property, age, other installment plans, housing, number of existing credits, job information, number of people being liable to provide maintenance for, telephone, and foreign worker status.\n",
        "\n",
        "Many of these predictors are discrete and have been expanded into several 0/1 indicator variables (a.k.a. they have been one-hot-encoded).\n",
        "\n",
        "This dataset has been kindly provided by Professor Dr. Hans Hofmann of the University of Hamburg, and can also be found on the UCI Machine Learning Repository."
      ]
    },
    {
      "cell_type": "markdown",
      "metadata": {
        "id": "MbmdauBqdOMd",
        "colab_type": "text"
      },
      "source": [
        "\n",
        "\n",
        "\n"
      ]
    },
    {
      "cell_type": "markdown",
      "metadata": {
        "id": "aBiy2DkLdOMe",
        "colab_type": "text"
      },
      "source": [
        "## Decision Trees"
      ]
    },
    {
      "cell_type": "markdown",
      "metadata": {
        "id": "y5hA-SWkdOMf",
        "colab_type": "text"
      },
      "source": [
        " As we have learned in the previous lectures, Decision Trees as a family of algorithms (irrespective to the particular implementation) are powerful algorithms that can produce models with a predictive accuracy higher than that produced by linear models, such as Linear or Logistic Regression. Primarily, this is due to the fact the DT's can model nonlinear relationships, and also have a number of tuning paramters, that allow for the practicioner to achieve the best possible model. An added bonus is the ability to visualize the trained Decision Tree model, which allows for some insight into how the model has produced the predictions that it has. One caveat here, to keep in mind, is that sometimes, due to the size of the dataset (both in the sense of the number of records, as well as the number of features), the visualization might prove to be very large and complex, increasing the difficulty of interpretation."
      ]
    },
    {
      "cell_type": "markdown",
      "metadata": {
        "id": "RIAG4FfzdOMf",
        "colab_type": "text"
      },
      "source": [
        "To give you a very good example of how Decision Trees can be visualized and interpreted, we would strongly recommend that, before continuing on with solving the problems in this Mini Project, you take the time to read this fanstastic, detailed and informative blog post: http://explained.ai/decision-tree-viz/index.html"
      ]
    },
    {
      "cell_type": "markdown",
      "metadata": {
        "id": "YllrPcJadOMg",
        "colab_type": "text"
      },
      "source": [
        "## Building Your First Decision Tree Model"
      ]
    },
    {
      "cell_type": "markdown",
      "metadata": {
        "id": "coj2qJ15dOMg",
        "colab_type": "text"
      },
      "source": [
        "So, now it's time to jump straight into the heart of the matter. Your first task, is to build a Decision Tree model, using the aforementioned \"German Credit\" dataset, which contains 1,000 records, and 62 columns (one of them presents the labels, and the other 61 present the potential features for the model.)"
      ]
    },
    {
      "cell_type": "markdown",
      "metadata": {
        "id": "Y9nUdbjcdOMh",
        "colab_type": "text"
      },
      "source": [
        "For this task, you will be using the scikit-learn library, which comes already pre-installed with the Anaconda Python distribution. In case you're not using that, you can easily install it using pip."
      ]
    },
    {
      "cell_type": "markdown",
      "metadata": {
        "id": "RkltQrmvdOMi",
        "colab_type": "text"
      },
      "source": [
        "Before embarking on creating your first model, we would strongly encourage you to read the short tutorial for Decision Trees in scikit-learn (http://scikit-learn.org/stable/modules/tree.html), and then dive a bit deeper into the documentation of the algorithm itself (http://scikit-learn.org/stable/modules/generated/sklearn.tree.DecisionTreeClassifier.html). "
      ]
    },
    {
      "cell_type": "markdown",
      "metadata": {
        "id": "ZzoQQGGFdOMi",
        "colab_type": "text"
      },
      "source": [
        "Also, since you want to be able to present the results of your model, we suggest you take a look at the tutorial for accuracy metrics for classification models (http://scikit-learn.org/stable/modules/model_evaluation.html#classification-report) as well as the more detailed documentation (http://scikit-learn.org/stable/modules/generated/sklearn.metrics.classification_report.html).\n",
        "\n",
        "Finally, an *amazing* resource that explains the various classification model accuracy metrics, as well as the relationships between them, can be found on Wikipedia: https://en.wikipedia.org/wiki/Confusion_matrix"
      ]
    },
    {
      "cell_type": "markdown",
      "metadata": {
        "id": "lbqB5blHdOMj",
        "colab_type": "text"
      },
      "source": [
        "(Note: as you've already learned in the Logistic Regression mini project, a standard practice in Machine Learning for achieving the best possible result when training a model is to use hyperparameter tuning, through Grid Search and k-fold Cross Validation. We strongly encourage you to use it here as well, not just because it's standard practice, but also becuase it's not going to be computationally to intensive, due to the size of the dataset that you're working with. Our suggestion here is that you split the data into 70% training, and 30% testing. Then, do the hyperparameter tuning and Cross Validation on the training set, and afterwards to a final test on the testing set.)"
      ]
    },
    {
      "cell_type": "markdown",
      "metadata": {
        "id": "vNPbW9ltdOMj",
        "colab_type": "text"
      },
      "source": [
        "### Now we pass the torch onto you! You can start building your first Decision Tree model! :)"
      ]
    },
    {
      "cell_type": "code",
      "metadata": {
        "id": "3iqI6nTbdOMk",
        "colab_type": "code",
        "colab": {}
      },
      "source": [
        "import pandas as pd\n",
        "from sklearn.tree import DecisionTreeClassifier\n",
        "from sklearn.metrics import classification_report\n",
        "from sklearn.model_selection import train_test_split\n",
        "from sklearn.model_selection import GridSearchCV"
      ],
      "execution_count": 0,
      "outputs": []
    },
    {
      "cell_type": "code",
      "metadata": {
        "id": "ww_whpZCdOMn",
        "colab_type": "code",
        "colab": {
          "base_uri": "https://localhost:8080/",
          "height": 1000
        },
        "outputId": "a90d56c8-b0e6-43cf-e9c5-87a0f1e2749e"
      },
      "source": [
        "# Your code here! :)\n",
        "df = pd.read_csv('GermanCredit.csv')\n",
        "df.info()"
      ],
      "execution_count": 5,
      "outputs": [
        {
          "output_type": "stream",
          "text": [
            "<class 'pandas.core.frame.DataFrame'>\n",
            "RangeIndex: 1000 entries, 0 to 999\n",
            "Data columns (total 62 columns):\n",
            "Duration                                  1000 non-null int64\n",
            "Amount                                    1000 non-null int64\n",
            "InstallmentRatePercentage                 1000 non-null int64\n",
            "ResidenceDuration                         1000 non-null int64\n",
            "Age                                       1000 non-null int64\n",
            "NumberExistingCredits                     1000 non-null int64\n",
            "NumberPeopleMaintenance                   1000 non-null int64\n",
            "Telephone                                 1000 non-null int64\n",
            "ForeignWorker                             1000 non-null int64\n",
            "Class                                     1000 non-null object\n",
            "CheckingAccountStatus.lt.0                1000 non-null int64\n",
            "CheckingAccountStatus.0.to.200            1000 non-null int64\n",
            "CheckingAccountStatus.gt.200              1000 non-null int64\n",
            "CheckingAccountStatus.none                1000 non-null int64\n",
            "CreditHistory.NoCredit.AllPaid            1000 non-null int64\n",
            "CreditHistory.ThisBank.AllPaid            1000 non-null int64\n",
            "CreditHistory.PaidDuly                    1000 non-null int64\n",
            "CreditHistory.Delay                       1000 non-null int64\n",
            "CreditHistory.Critical                    1000 non-null int64\n",
            "Purpose.NewCar                            1000 non-null int64\n",
            "Purpose.UsedCar                           1000 non-null int64\n",
            "Purpose.Furniture.Equipment               1000 non-null int64\n",
            "Purpose.Radio.Television                  1000 non-null int64\n",
            "Purpose.DomesticAppliance                 1000 non-null int64\n",
            "Purpose.Repairs                           1000 non-null int64\n",
            "Purpose.Education                         1000 non-null int64\n",
            "Purpose.Vacation                          1000 non-null int64\n",
            "Purpose.Retraining                        1000 non-null int64\n",
            "Purpose.Business                          1000 non-null int64\n",
            "Purpose.Other                             1000 non-null int64\n",
            "SavingsAccountBonds.lt.100                1000 non-null int64\n",
            "SavingsAccountBonds.100.to.500            1000 non-null int64\n",
            "SavingsAccountBonds.500.to.1000           1000 non-null int64\n",
            "SavingsAccountBonds.gt.1000               1000 non-null int64\n",
            "SavingsAccountBonds.Unknown               1000 non-null int64\n",
            "EmploymentDuration.lt.1                   1000 non-null int64\n",
            "EmploymentDuration.1.to.4                 1000 non-null int64\n",
            "EmploymentDuration.4.to.7                 1000 non-null int64\n",
            "EmploymentDuration.gt.7                   1000 non-null int64\n",
            "EmploymentDuration.Unemployed             1000 non-null int64\n",
            "Personal.Male.Divorced.Seperated          1000 non-null int64\n",
            "Personal.Female.NotSingle                 1000 non-null int64\n",
            "Personal.Male.Single                      1000 non-null int64\n",
            "Personal.Male.Married.Widowed             1000 non-null int64\n",
            "Personal.Female.Single                    1000 non-null int64\n",
            "OtherDebtorsGuarantors.None               1000 non-null int64\n",
            "OtherDebtorsGuarantors.CoApplicant        1000 non-null int64\n",
            "OtherDebtorsGuarantors.Guarantor          1000 non-null int64\n",
            "Property.RealEstate                       1000 non-null int64\n",
            "Property.Insurance                        1000 non-null int64\n",
            "Property.CarOther                         1000 non-null int64\n",
            "Property.Unknown                          1000 non-null int64\n",
            "OtherInstallmentPlans.Bank                1000 non-null int64\n",
            "OtherInstallmentPlans.Stores              1000 non-null int64\n",
            "OtherInstallmentPlans.None                1000 non-null int64\n",
            "Housing.Rent                              1000 non-null int64\n",
            "Housing.Own                               1000 non-null int64\n",
            "Housing.ForFree                           1000 non-null int64\n",
            "Job.UnemployedUnskilled                   1000 non-null int64\n",
            "Job.UnskilledResident                     1000 non-null int64\n",
            "Job.SkilledEmployee                       1000 non-null int64\n",
            "Job.Management.SelfEmp.HighlyQualified    1000 non-null int64\n",
            "dtypes: int64(61), object(1)\n",
            "memory usage: 484.5+ KB\n"
          ],
          "name": "stdout"
        }
      ]
    },
    {
      "cell_type": "code",
      "metadata": {
        "id": "efNOsZGxi2Vq",
        "colab_type": "code",
        "colab": {
          "base_uri": "https://localhost:8080/",
          "height": 134
        },
        "outputId": "97d3599e-aad7-4ffe-d2a1-9d86e48002a8"
      },
      "source": [
        "df.loc[0:5, 'Class']"
      ],
      "execution_count": 7,
      "outputs": [
        {
          "output_type": "execute_result",
          "data": {
            "text/plain": [
              "0    Good\n",
              "1     Bad\n",
              "2    Good\n",
              "3    Good\n",
              "4     Bad\n",
              "5    Good\n",
              "Name: Class, dtype: object"
            ]
          },
          "metadata": {
            "tags": []
          },
          "execution_count": 7
        }
      ]
    },
    {
      "cell_type": "markdown",
      "metadata": {
        "id": "6_yfgO0NdOMp",
        "colab_type": "text"
      },
      "source": [
        "### After you've built the best model you can, now it's time to visualize it!"
      ]
    },
    {
      "cell_type": "markdown",
      "metadata": {
        "id": "hHf9lxmadOMq",
        "colab_type": "text"
      },
      "source": [
        "Rememeber that amazing blog post from a few paragraphs ago, that demonstrated how to visualize and interpret the results of your Decision Tree model. We've seen that this can perform very well, but let's see how it does on the \"German Credit\" dataset that we're working on, due to it being a bit larger than the one used by the blog authors."
      ]
    },
    {
      "cell_type": "markdown",
      "metadata": {
        "id": "vAFRjCGDdOMr",
        "colab_type": "text"
      },
      "source": [
        "First, we're going to need to install their package. If you're using Anaconda, this can be done easily by running:"
      ]
    },
    {
      "cell_type": "code",
      "metadata": {
        "id": "pmo2uznydOMs",
        "colab_type": "code",
        "colab": {
          "base_uri": "https://localhost:8080/",
          "height": 440
        },
        "outputId": "70014f53-ef5b-4639-c937-0dde605bdd2c"
      },
      "source": [
        "! pip install dtreeviz"
      ],
      "execution_count": 3,
      "outputs": [
        {
          "output_type": "stream",
          "text": [
            "Collecting dtreeviz\n",
            "  Downloading https://files.pythonhosted.org/packages/b0/df/2e1781a94da6fb588bead00f23881bf66692ecfcfda00f44665dc3f2105e/dtreeviz-0.4.tar.gz\n",
            "Requirement already satisfied: graphviz>=0.9 in /usr/local/lib/python3.6/dist-packages (from dtreeviz) (0.10.1)\n",
            "Requirement already satisfied: pandas in /usr/local/lib/python3.6/dist-packages (from dtreeviz) (0.24.2)\n",
            "Requirement already satisfied: numpy in /usr/local/lib/python3.6/dist-packages (from dtreeviz) (1.16.4)\n",
            "Requirement already satisfied: scikit-learn in /usr/local/lib/python3.6/dist-packages (from dtreeviz) (0.21.2)\n",
            "Requirement already satisfied: matplotlib in /usr/local/lib/python3.6/dist-packages (from dtreeviz) (3.0.3)\n",
            "Collecting colour (from dtreeviz)\n",
            "  Downloading https://files.pythonhosted.org/packages/74/46/e81907704ab203206769dee1385dc77e1407576ff8f50a0681d0a6b541be/colour-0.1.5-py2.py3-none-any.whl\n",
            "Requirement already satisfied: pytz>=2011k in /usr/local/lib/python3.6/dist-packages (from pandas->dtreeviz) (2018.9)\n",
            "Requirement already satisfied: python-dateutil>=2.5.0 in /usr/local/lib/python3.6/dist-packages (from pandas->dtreeviz) (2.5.3)\n",
            "Requirement already satisfied: joblib>=0.11 in /usr/local/lib/python3.6/dist-packages (from scikit-learn->dtreeviz) (0.13.2)\n",
            "Requirement already satisfied: scipy>=0.17.0 in /usr/local/lib/python3.6/dist-packages (from scikit-learn->dtreeviz) (1.3.0)\n",
            "Requirement already satisfied: pyparsing!=2.0.4,!=2.1.2,!=2.1.6,>=2.0.1 in /usr/local/lib/python3.6/dist-packages (from matplotlib->dtreeviz) (2.4.0)\n",
            "Requirement already satisfied: cycler>=0.10 in /usr/local/lib/python3.6/dist-packages (from matplotlib->dtreeviz) (0.10.0)\n",
            "Requirement already satisfied: kiwisolver>=1.0.1 in /usr/local/lib/python3.6/dist-packages (from matplotlib->dtreeviz) (1.1.0)\n",
            "Requirement already satisfied: six>=1.5 in /usr/local/lib/python3.6/dist-packages (from python-dateutil>=2.5.0->pandas->dtreeviz) (1.12.0)\n",
            "Requirement already satisfied: setuptools in /usr/local/lib/python3.6/dist-packages (from kiwisolver>=1.0.1->matplotlib->dtreeviz) (41.0.1)\n",
            "Building wheels for collected packages: dtreeviz\n",
            "  Building wheel for dtreeviz (setup.py) ... \u001b[?25l\u001b[?25hdone\n",
            "  Stored in directory: /root/.cache/pip/wheels/f5/a9/98/36f14337796dffe1f838479fbf4c5feeff282a1a01f5688dd6\n",
            "Successfully built dtreeviz\n",
            "Installing collected packages: colour, dtreeviz\n",
            "Successfully installed colour-0.1.5 dtreeviz-0.4\n"
          ],
          "name": "stdout"
        }
      ]
    },
    {
      "cell_type": "markdown",
      "metadata": {
        "id": "8qbl9ao4dOMt",
        "colab_type": "text"
      },
      "source": [
        "If for any reason this way of installing doesn't work for you straight out of the box, please refer to the more detailed documentation here: https://github.com/parrt/dtreeviz"
      ]
    },
    {
      "cell_type": "markdown",
      "metadata": {
        "id": "dG3lgkqudOMu",
        "colab_type": "text"
      },
      "source": [
        "Now you're ready to visualize your Decision Tree model! Please feel free to use the blog post for guidance and inspiration!"
      ]
    },
    {
      "cell_type": "code",
      "metadata": {
        "id": "BJRAHjRRdOMw",
        "colab_type": "code",
        "colab": {}
      },
      "source": [
        "# Your code here! :)"
      ],
      "execution_count": 0,
      "outputs": []
    },
    {
      "cell_type": "markdown",
      "metadata": {
        "id": "GdHZu4brdOMy",
        "colab_type": "text"
      },
      "source": [
        "## Random Forests"
      ]
    },
    {
      "cell_type": "markdown",
      "metadata": {
        "id": "3vTdCqwsdOMz",
        "colab_type": "text"
      },
      "source": [
        "As discussed in the lecture videos, Decision Tree algorithms also have certain undesireable properties. Mainly the have low bias, which is good, but tend to have high variance - which is *not* so good (more about this problem here: https://en.wikipedia.org/wiki/Bias%E2%80%93variance_tradeoff)."
      ]
    },
    {
      "cell_type": "markdown",
      "metadata": {
        "id": "CrsuqcdxdOM0",
        "colab_type": "text"
      },
      "source": [
        "Noticing these problems, the late Professor Leo Breiman, in 2001, developed the Random Forests algorithm, which mitigates these problems, while at the same time providing even higher predictive accuracy than the majority of Decision Tree algorithm implementations. While the curriculum contains two excellent lectures on Random Forests, if you're interested, you can dive into the original paper here: https://link.springer.com/content/pdf/10.1023%2FA%3A1010933404324.pdf."
      ]
    },
    {
      "cell_type": "markdown",
      "metadata": {
        "id": "2aOgq2izdOM0",
        "colab_type": "text"
      },
      "source": [
        "In the next part of this assignment, your are going to use the same \"German Credit\" dataset to train, tune, and measure the performance of a Random Forests model. You will also see certain functionalities that this model, even though it's a bit of a \"black box\", provides for some degree of interpretability."
      ]
    },
    {
      "cell_type": "markdown",
      "metadata": {
        "id": "tVnqAqoXdOM1",
        "colab_type": "text"
      },
      "source": [
        "First, let's build a Random Forests model, using the same best practices that you've used for your Decision Trees model. You can reuse the things you've already imported there, so no need to do any re-imports, new train/test splits, or loading up the data again."
      ]
    },
    {
      "cell_type": "code",
      "metadata": {
        "id": "21v9xPzIdOM2",
        "colab_type": "code",
        "colab": {}
      },
      "source": [
        "from sklearn.ensemble import RandomForestClassifier"
      ],
      "execution_count": 0,
      "outputs": []
    },
    {
      "cell_type": "code",
      "metadata": {
        "id": "U5FjRuMzdOM4",
        "colab_type": "code",
        "colab": {}
      },
      "source": [
        "# Your code here! :)"
      ],
      "execution_count": 0,
      "outputs": []
    },
    {
      "cell_type": "markdown",
      "metadata": {
        "id": "rJU5ho9jdOM6",
        "colab_type": "text"
      },
      "source": [
        "As mentioned, there are certain ways to \"peek\" into a model created by the Random Forests algorithm. The first, and most popular one, is the Feature Importance calculation functionality. This allows the ML practitioner to see an ordering of the importance of the features that have contributed the most to the predictive accuracy of the model. \n",
        "\n",
        "You can see how to use this in the scikit-learn documentation (http://scikit-learn.org/stable/modules/generated/sklearn.ensemble.RandomForestClassifier.html#sklearn.ensemble.RandomForestClassifier.feature_importances_). Now, if you tried this, you would just get an ordered table of not directly interpretable numeric values. Thus, it's much more useful to show the feature importance in a visual way. You can see an example of how that's done here: http://scikit-learn.org/stable/auto_examples/ensemble/plot_forest_importances.html#sphx-glr-auto-examples-ensemble-plot-forest-importances-py\n",
        "\n",
        "Now you try! Let's visualize the importance of features from your Random Forests model!"
      ]
    },
    {
      "cell_type": "code",
      "metadata": {
        "id": "x_zTiumTdOM6",
        "colab_type": "code",
        "colab": {}
      },
      "source": [
        "# Your code here"
      ],
      "execution_count": 0,
      "outputs": []
    },
    {
      "cell_type": "markdown",
      "metadata": {
        "id": "K_tv4IfRdOM8",
        "colab_type": "text"
      },
      "source": [
        "A final method for gaining some insight into the inner working of your Random Forests models is a so-called Partial Dependence Plot. The Partial Dependence Plot (PDP or PD plot) shows the marginal effect of a feature on the predicted outcome of a previously fit model. The prediction function is fixed at a few values of the chosen features and averaged over the other features. A partial dependence plot can show if the relationship between the target and a feature is linear, monotonic or more complex. \n",
        "\n",
        "In scikit-learn, PDPs are implemented and available for certain algorithms, but at this point (version 0.20.0) they are not yet implemented for Random Forests. Thankfully, there is an add-on package called **PDPbox** (https://pdpbox.readthedocs.io/en/latest/) which adds this functionality to Random Forests. The package is easy to install through pip."
      ]
    },
    {
      "cell_type": "code",
      "metadata": {
        "id": "2J50arfIdOM8",
        "colab_type": "code",
        "colab": {}
      },
      "source": [
        "! pip install pdpbox"
      ],
      "execution_count": 0,
      "outputs": []
    },
    {
      "cell_type": "markdown",
      "metadata": {
        "id": "fI4dw3_xdOM-",
        "colab_type": "text"
      },
      "source": [
        "While we encourage you to read the documentation for the package (and reading package documentation in general is a good habit to develop), the authors of the package have also written an excellent blog post on how to use it, showing examples on different algorithms from scikit-learn (the Random Forests example is towards the end of the blog post): https://briangriner.github.io/Partial_Dependence_Plots_presentation-BrianGriner-PrincetonPublicLibrary-4.14.18-updated-4.22.18.html"
      ]
    },
    {
      "cell_type": "markdown",
      "metadata": {
        "id": "HO5lWONbdOM-",
        "colab_type": "text"
      },
      "source": [
        "So, armed with this new knowledge, feel free to pick a few features, and make a couple of Partial Dependence Plots of your own!"
      ]
    },
    {
      "cell_type": "code",
      "metadata": {
        "id": "Q3c8z29OdOM_",
        "colab_type": "code",
        "colab": {}
      },
      "source": [
        "# Your code here!"
      ],
      "execution_count": 0,
      "outputs": []
    },
    {
      "cell_type": "markdown",
      "metadata": {
        "id": "SAdxyb4KdONA",
        "colab_type": "text"
      },
      "source": [
        "## (Optional) Advanced Boosting-Based Algorithms"
      ]
    },
    {
      "cell_type": "markdown",
      "metadata": {
        "id": "33JOeZB1dONB",
        "colab_type": "text"
      },
      "source": [
        "As explained in the video lectures, the next generation of algorithms after Random Forests (that use Bagging, a.k.a. Bootstrap Aggregation) were developed using Boosting, and the first one of these were Gradient Boosted Machines, which are implemented in scikit-learn (http://scikit-learn.org/stable/modules/ensemble.html#gradient-tree-boosting)."
      ]
    },
    {
      "cell_type": "markdown",
      "metadata": {
        "id": "GFVry4pSdONC",
        "colab_type": "text"
      },
      "source": [
        "Still, in recent years, a number of variations on GBMs have been developed by different research amd industry groups, all of them bringing improvements, both in speed, accuracy and functionality to the original Gradient Boosting algorithms.\n",
        "\n",
        "In no order of preference, these are:\n",
        "1. **XGBoost**: https://xgboost.readthedocs.io/en/latest/\n",
        "2. **CatBoost**: https://tech.yandex.com/catboost/\n",
        "3. **LightGBM**: https://lightgbm.readthedocs.io/en/latest/"
      ]
    },
    {
      "cell_type": "markdown",
      "metadata": {
        "id": "CLWdVcE9dOND",
        "colab_type": "text"
      },
      "source": [
        "If you're using the Anaconda distribution, these are all very easy to install:"
      ]
    },
    {
      "cell_type": "code",
      "metadata": {
        "id": "s8lgCPf8dOND",
        "colab_type": "code",
        "colab": {}
      },
      "source": [
        "! conda install -c anaconda py-xgboost"
      ],
      "execution_count": 0,
      "outputs": []
    },
    {
      "cell_type": "code",
      "metadata": {
        "id": "d3yuRZs3dONG",
        "colab_type": "code",
        "colab": {}
      },
      "source": [
        "! conda install -c conda-forge catboost"
      ],
      "execution_count": 0,
      "outputs": []
    },
    {
      "cell_type": "code",
      "metadata": {
        "id": "hrrjTzawdONK",
        "colab_type": "code",
        "colab": {}
      },
      "source": [
        "! conda install -c conda-forge lightgbm"
      ],
      "execution_count": 0,
      "outputs": []
    },
    {
      "cell_type": "markdown",
      "metadata": {
        "id": "B_iytdebdONN",
        "colab_type": "text"
      },
      "source": [
        "Your task in this optional section of the mini project is to read the documentation of these three libraries, and apply all of them to the \"German Credit\" dataset, just like you did in the case of Decision Trees and Random Forests."
      ]
    },
    {
      "cell_type": "markdown",
      "metadata": {
        "id": "omepDpLUdONN",
        "colab_type": "text"
      },
      "source": [
        "The final deliverable of this section should be a table (can be a pandas DataFrame) which shows the accuracy of all the five algorthms taught in this mini project in one place."
      ]
    },
    {
      "cell_type": "markdown",
      "metadata": {
        "id": "jqgrIHwRdONN",
        "colab_type": "text"
      },
      "source": [
        "Happy modeling! :)"
      ]
    },
    {
      "cell_type": "code",
      "metadata": {
        "id": "VsG2oifodONO",
        "colab_type": "code",
        "colab": {}
      },
      "source": [
        ""
      ],
      "execution_count": 0,
      "outputs": []
    }
  ]
}