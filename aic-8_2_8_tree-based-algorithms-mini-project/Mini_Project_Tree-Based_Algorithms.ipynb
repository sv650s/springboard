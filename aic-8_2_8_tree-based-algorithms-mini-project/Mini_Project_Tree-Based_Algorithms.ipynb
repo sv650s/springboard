{
  "nbformat": 4,
  "nbformat_minor": 0,
  "metadata": {
    "colab": {
      "name": "Mini_Project_Tree-Based_Algorithms.ipynb",
      "version": "0.3.2",
      "provenance": [],
      "include_colab_link": true
    },
    "language_info": {
      "codemirror_mode": {
        "name": "ipython",
        "version": 3
      },
      "file_extension": ".py",
      "mimetype": "text/x-python",
      "name": "python",
      "nbconvert_exporter": "python",
      "pygments_lexer": "ipython3",
      "version": "3.7.3"
    },
    "kernelspec": {
      "display_name": "Python 3",
      "language": "python",
      "name": "python3"
    }
  },
  "cells": [
    {
      "cell_type": "markdown",
      "metadata": {
        "id": "view-in-github",
        "colab_type": "text"
      },
      "source": [
        "<a href=\"https://colab.research.google.com/github/sv650s/springboard/blob/master/aic-8_2_8_tree-based-algorithms-mini-project/Mini_Project_Tree-Based_Algorithms.ipynb\" target=\"_parent\"><img src=\"https://colab.research.google.com/assets/colab-badge.svg\" alt=\"Open In Colab\"/></a>"
      ]
    },
    {
      "cell_type": "markdown",
      "metadata": {
        "id": "L4RTD8FvdOMZ",
        "colab_type": "text"
      },
      "source": [
        "# Mini Project: Tree-Based Algorithms"
      ]
    },
    {
      "cell_type": "markdown",
      "metadata": {
        "id": "kLOYpXFTdOMc",
        "colab_type": "text"
      },
      "source": [
        "## The \"German Credit\" Dataset"
      ]
    },
    {
      "cell_type": "markdown",
      "metadata": {
        "id": "2MUodPtYdOMc",
        "colab_type": "text"
      },
      "source": [
        "### Dataset Details"
      ]
    },
    {
      "cell_type": "markdown",
      "metadata": {
        "id": "AoeHuFaWdOMd",
        "colab_type": "text"
      },
      "source": [
        "This dataset has two classes (these would be considered labels in Machine Learning terms) to describe the worthiness of a personal loan: \"Good\" or \"Bad\". There are predictors related to attributes, such as: checking account status, duration, credit history, purpose of the loan, amount of the loan, savings accounts or bonds, employment duration, installment rate in percentage of disposable income, personal information, other debtors/guarantors, residence duration, property, age, other installment plans, housing, number of existing credits, job information, number of people being liable to provide maintenance for, telephone, and foreign worker status.\n",
        "\n",
        "Many of these predictors are discrete and have been expanded into several 0/1 indicator variables (a.k.a. they have been one-hot-encoded).\n",
        "\n",
        "This dataset has been kindly provided by Professor Dr. Hans Hofmann of the University of Hamburg, and can also be found on the UCI Machine Learning Repository."
      ]
    },
    {
      "cell_type": "markdown",
      "metadata": {
        "id": "MbmdauBqdOMd",
        "colab_type": "text"
      },
      "source": [
        "\n",
        "\n",
        "\n"
      ]
    },
    {
      "cell_type": "markdown",
      "metadata": {
        "id": "aBiy2DkLdOMe",
        "colab_type": "text"
      },
      "source": [
        "## Decision Trees"
      ]
    },
    {
      "cell_type": "markdown",
      "metadata": {
        "id": "y5hA-SWkdOMf",
        "colab_type": "text"
      },
      "source": [
        " As we have learned in the previous lectures, Decision Trees as a family of algorithms (irrespective to the particular implementation) are powerful algorithms that can produce models with a predictive accuracy higher than that produced by linear models, such as Linear or Logistic Regression. Primarily, this is due to the fact the DT's can model nonlinear relationships, and also have a number of tuning paramters, that allow for the practicioner to achieve the best possible model. An added bonus is the ability to visualize the trained Decision Tree model, which allows for some insight into how the model has produced the predictions that it has. One caveat here, to keep in mind, is that sometimes, due to the size of the dataset (both in the sense of the number of records, as well as the number of features), the visualization might prove to be very large and complex, increasing the difficulty of interpretation."
      ]
    },
    {
      "cell_type": "markdown",
      "metadata": {
        "id": "RIAG4FfzdOMf",
        "colab_type": "text"
      },
      "source": [
        "To give you a very good example of how Decision Trees can be visualized and interpreted, we would strongly recommend that, before continuing on with solving the problems in this Mini Project, you take the time to read this fanstastic, detailed and informative blog post: http://explained.ai/decision-tree-viz/index.html"
      ]
    },
    {
      "cell_type": "markdown",
      "metadata": {
        "id": "YllrPcJadOMg",
        "colab_type": "text"
      },
      "source": [
        "## Building Your First Decision Tree Model"
      ]
    },
    {
      "cell_type": "markdown",
      "metadata": {
        "id": "coj2qJ15dOMg",
        "colab_type": "text"
      },
      "source": [
        "So, now it's time to jump straight into the heart of the matter. Your first task, is to build a Decision Tree model, using the aforementioned \"German Credit\" dataset, which contains 1,000 records, and 62 columns (one of them presents the labels, and the other 61 present the potential features for the model.)"
      ]
    },
    {
      "cell_type": "markdown",
      "metadata": {
        "id": "Y9nUdbjcdOMh",
        "colab_type": "text"
      },
      "source": [
        "For this task, you will be using the scikit-learn library, which comes already pre-installed with the Anaconda Python distribution. In case you're not using that, you can easily install it using pip."
      ]
    },
    {
      "cell_type": "markdown",
      "metadata": {
        "id": "RkltQrmvdOMi",
        "colab_type": "text"
      },
      "source": [
        "Before embarking on creating your first model, we would strongly encourage you to read the short tutorial for Decision Trees in scikit-learn (http://scikit-learn.org/stable/modules/tree.html), and then dive a bit deeper into the documentation of the algorithm itself (http://scikit-learn.org/stable/modules/generated/sklearn.tree.DecisionTreeClassifier.html). "
      ]
    },
    {
      "cell_type": "markdown",
      "metadata": {
        "id": "ZzoQQGGFdOMi",
        "colab_type": "text"
      },
      "source": [
        "Also, since you want to be able to present the results of your model, we suggest you take a look at the tutorial for accuracy metrics for classification models (http://scikit-learn.org/stable/modules/model_evaluation.html#classification-report) as well as the more detailed documentation (http://scikit-learn.org/stable/modules/generated/sklearn.metrics.classification_report.html).\n",
        "\n",
        "Finally, an *amazing* resource that explains the various classification model accuracy metrics, as well as the relationships between them, can be found on Wikipedia: https://en.wikipedia.org/wiki/Confusion_matrix"
      ]
    },
    {
      "cell_type": "markdown",
      "metadata": {
        "id": "lbqB5blHdOMj",
        "colab_type": "text"
      },
      "source": [
        "(Note: as you've already learned in the Logistic Regression mini project, a standard practice in Machine Learning for achieving the best possible result when training a model is to use hyperparameter tuning, through Grid Search and k-fold Cross Validation. We strongly encourage you to use it here as well, not just because it's standard practice, but also becuase it's not going to be computationally to intensive, due to the size of the dataset that you're working with. Our suggestion here is that you split the data into 70% training, and 30% testing. Then, do the hyperparameter tuning and Cross Validation on the training set, and afterwards to a final test on the testing set.)"
      ]
    },
    {
      "cell_type": "markdown",
      "metadata": {
        "id": "vNPbW9ltdOMj",
        "colab_type": "text"
      },
      "source": [
        "### Now we pass the torch onto you! You can start building your first Decision Tree model! :)"
      ]
    },
    {
      "cell_type": "code",
      "metadata": {
        "id": "3iqI6nTbdOMk",
        "colab_type": "code",
        "colab": {}
      },
      "source": [
        "import pandas as pd\n",
        "from sklearn.tree import DecisionTreeClassifier\n",
        "from sklearn.metrics import classification_report\n",
        "from sklearn.model_selection import train_test_split\n",
        "from sklearn.model_selection import GridSearchCV\n",
        "from sklearn.metrics import confusion_matrix"
      ],
      "execution_count": 0,
      "outputs": []
    },
    {
      "cell_type": "code",
      "metadata": {
        "id": "ww_whpZCdOMn",
        "colab_type": "code",
        "colab": {
          "base_uri": "https://localhost:8080/",
          "height": 1000
        },
        "outputId": "649b425f-c195-42b0-b304-c5bc0ce7f2a4"
      },
      "source": [
        "# Your code here! :)\n",
        "df = pd.read_csv('GermanCredit.csv')\n",
        "df.info()"
      ],
      "execution_count": 2,
      "outputs": [
        {
          "output_type": "stream",
          "text": [
            "<class 'pandas.core.frame.DataFrame'>\n",
            "RangeIndex: 1000 entries, 0 to 999\n",
            "Data columns (total 62 columns):\n",
            "Duration                                  1000 non-null int64\n",
            "Amount                                    1000 non-null int64\n",
            "InstallmentRatePercentage                 1000 non-null int64\n",
            "ResidenceDuration                         1000 non-null int64\n",
            "Age                                       1000 non-null int64\n",
            "NumberExistingCredits                     1000 non-null int64\n",
            "NumberPeopleMaintenance                   1000 non-null int64\n",
            "Telephone                                 1000 non-null int64\n",
            "ForeignWorker                             1000 non-null int64\n",
            "Class                                     1000 non-null object\n",
            "CheckingAccountStatus.lt.0                1000 non-null int64\n",
            "CheckingAccountStatus.0.to.200            1000 non-null int64\n",
            "CheckingAccountStatus.gt.200              1000 non-null int64\n",
            "CheckingAccountStatus.none                1000 non-null int64\n",
            "CreditHistory.NoCredit.AllPaid            1000 non-null int64\n",
            "CreditHistory.ThisBank.AllPaid            1000 non-null int64\n",
            "CreditHistory.PaidDuly                    1000 non-null int64\n",
            "CreditHistory.Delay                       1000 non-null int64\n",
            "CreditHistory.Critical                    1000 non-null int64\n",
            "Purpose.NewCar                            1000 non-null int64\n",
            "Purpose.UsedCar                           1000 non-null int64\n",
            "Purpose.Furniture.Equipment               1000 non-null int64\n",
            "Purpose.Radio.Television                  1000 non-null int64\n",
            "Purpose.DomesticAppliance                 1000 non-null int64\n",
            "Purpose.Repairs                           1000 non-null int64\n",
            "Purpose.Education                         1000 non-null int64\n",
            "Purpose.Vacation                          1000 non-null int64\n",
            "Purpose.Retraining                        1000 non-null int64\n",
            "Purpose.Business                          1000 non-null int64\n",
            "Purpose.Other                             1000 non-null int64\n",
            "SavingsAccountBonds.lt.100                1000 non-null int64\n",
            "SavingsAccountBonds.100.to.500            1000 non-null int64\n",
            "SavingsAccountBonds.500.to.1000           1000 non-null int64\n",
            "SavingsAccountBonds.gt.1000               1000 non-null int64\n",
            "SavingsAccountBonds.Unknown               1000 non-null int64\n",
            "EmploymentDuration.lt.1                   1000 non-null int64\n",
            "EmploymentDuration.1.to.4                 1000 non-null int64\n",
            "EmploymentDuration.4.to.7                 1000 non-null int64\n",
            "EmploymentDuration.gt.7                   1000 non-null int64\n",
            "EmploymentDuration.Unemployed             1000 non-null int64\n",
            "Personal.Male.Divorced.Seperated          1000 non-null int64\n",
            "Personal.Female.NotSingle                 1000 non-null int64\n",
            "Personal.Male.Single                      1000 non-null int64\n",
            "Personal.Male.Married.Widowed             1000 non-null int64\n",
            "Personal.Female.Single                    1000 non-null int64\n",
            "OtherDebtorsGuarantors.None               1000 non-null int64\n",
            "OtherDebtorsGuarantors.CoApplicant        1000 non-null int64\n",
            "OtherDebtorsGuarantors.Guarantor          1000 non-null int64\n",
            "Property.RealEstate                       1000 non-null int64\n",
            "Property.Insurance                        1000 non-null int64\n",
            "Property.CarOther                         1000 non-null int64\n",
            "Property.Unknown                          1000 non-null int64\n",
            "OtherInstallmentPlans.Bank                1000 non-null int64\n",
            "OtherInstallmentPlans.Stores              1000 non-null int64\n",
            "OtherInstallmentPlans.None                1000 non-null int64\n",
            "Housing.Rent                              1000 non-null int64\n",
            "Housing.Own                               1000 non-null int64\n",
            "Housing.ForFree                           1000 non-null int64\n",
            "Job.UnemployedUnskilled                   1000 non-null int64\n",
            "Job.UnskilledResident                     1000 non-null int64\n",
            "Job.SkilledEmployee                       1000 non-null int64\n",
            "Job.Management.SelfEmp.HighlyQualified    1000 non-null int64\n",
            "dtypes: int64(61), object(1)\n",
            "memory usage: 484.5+ KB\n"
          ],
          "name": "stdout"
        }
      ]
    },
    {
      "cell_type": "markdown",
      "metadata": {
        "id": "fZHg6rRynHAx",
        "colab_type": "text"
      },
      "source": [
        "# Let explore the data a little bit before we jump into impelementation\n",
        "\n",
        "Looks like there is 1000 samples in the file\n",
        "\n",
        "*   Class  is the column we want to use for classification\n",
        "  * This is in string format so we will have to convert this to 0/1\n",
        "*   Data is skewed  towards  Good with 700 samples with this classification and only 300 for Bad\n",
        "\n",
        "\n"
      ]
    },
    {
      "cell_type": "code",
      "metadata": {
        "id": "lAy-Nm0RnfHV",
        "colab_type": "code",
        "colab": {
          "base_uri": "https://localhost:8080/",
          "height": 215
        },
        "outputId": "8a313ecb-a3fc-467c-96aa-42022ea20284"
      },
      "source": [
        "df.head()"
      ],
      "execution_count": 3,
      "outputs": [
        {
          "output_type": "execute_result",
          "data": {
            "text/html": [
              "<div>\n",
              "<style scoped>\n",
              "    .dataframe tbody tr th:only-of-type {\n",
              "        vertical-align: middle;\n",
              "    }\n",
              "\n",
              "    .dataframe tbody tr th {\n",
              "        vertical-align: top;\n",
              "    }\n",
              "\n",
              "    .dataframe thead th {\n",
              "        text-align: right;\n",
              "    }\n",
              "</style>\n",
              "<table border=\"1\" class=\"dataframe\">\n",
              "  <thead>\n",
              "    <tr style=\"text-align: right;\">\n",
              "      <th></th>\n",
              "      <th>Duration</th>\n",
              "      <th>Amount</th>\n",
              "      <th>InstallmentRatePercentage</th>\n",
              "      <th>ResidenceDuration</th>\n",
              "      <th>Age</th>\n",
              "      <th>NumberExistingCredits</th>\n",
              "      <th>NumberPeopleMaintenance</th>\n",
              "      <th>Telephone</th>\n",
              "      <th>ForeignWorker</th>\n",
              "      <th>Class</th>\n",
              "      <th>CheckingAccountStatus.lt.0</th>\n",
              "      <th>CheckingAccountStatus.0.to.200</th>\n",
              "      <th>CheckingAccountStatus.gt.200</th>\n",
              "      <th>CheckingAccountStatus.none</th>\n",
              "      <th>CreditHistory.NoCredit.AllPaid</th>\n",
              "      <th>CreditHistory.ThisBank.AllPaid</th>\n",
              "      <th>CreditHistory.PaidDuly</th>\n",
              "      <th>CreditHistory.Delay</th>\n",
              "      <th>CreditHistory.Critical</th>\n",
              "      <th>Purpose.NewCar</th>\n",
              "      <th>Purpose.UsedCar</th>\n",
              "      <th>Purpose.Furniture.Equipment</th>\n",
              "      <th>Purpose.Radio.Television</th>\n",
              "      <th>Purpose.DomesticAppliance</th>\n",
              "      <th>Purpose.Repairs</th>\n",
              "      <th>Purpose.Education</th>\n",
              "      <th>Purpose.Vacation</th>\n",
              "      <th>Purpose.Retraining</th>\n",
              "      <th>Purpose.Business</th>\n",
              "      <th>Purpose.Other</th>\n",
              "      <th>SavingsAccountBonds.lt.100</th>\n",
              "      <th>SavingsAccountBonds.100.to.500</th>\n",
              "      <th>SavingsAccountBonds.500.to.1000</th>\n",
              "      <th>SavingsAccountBonds.gt.1000</th>\n",
              "      <th>SavingsAccountBonds.Unknown</th>\n",
              "      <th>EmploymentDuration.lt.1</th>\n",
              "      <th>EmploymentDuration.1.to.4</th>\n",
              "      <th>EmploymentDuration.4.to.7</th>\n",
              "      <th>EmploymentDuration.gt.7</th>\n",
              "      <th>EmploymentDuration.Unemployed</th>\n",
              "      <th>Personal.Male.Divorced.Seperated</th>\n",
              "      <th>Personal.Female.NotSingle</th>\n",
              "      <th>Personal.Male.Single</th>\n",
              "      <th>Personal.Male.Married.Widowed</th>\n",
              "      <th>Personal.Female.Single</th>\n",
              "      <th>OtherDebtorsGuarantors.None</th>\n",
              "      <th>OtherDebtorsGuarantors.CoApplicant</th>\n",
              "      <th>OtherDebtorsGuarantors.Guarantor</th>\n",
              "      <th>Property.RealEstate</th>\n",
              "      <th>Property.Insurance</th>\n",
              "      <th>Property.CarOther</th>\n",
              "      <th>Property.Unknown</th>\n",
              "      <th>OtherInstallmentPlans.Bank</th>\n",
              "      <th>OtherInstallmentPlans.Stores</th>\n",
              "      <th>OtherInstallmentPlans.None</th>\n",
              "      <th>Housing.Rent</th>\n",
              "      <th>Housing.Own</th>\n",
              "      <th>Housing.ForFree</th>\n",
              "      <th>Job.UnemployedUnskilled</th>\n",
              "      <th>Job.UnskilledResident</th>\n",
              "      <th>Job.SkilledEmployee</th>\n",
              "      <th>Job.Management.SelfEmp.HighlyQualified</th>\n",
              "    </tr>\n",
              "  </thead>\n",
              "  <tbody>\n",
              "    <tr>\n",
              "      <th>0</th>\n",
              "      <td>6</td>\n",
              "      <td>1169</td>\n",
              "      <td>4</td>\n",
              "      <td>4</td>\n",
              "      <td>67</td>\n",
              "      <td>2</td>\n",
              "      <td>1</td>\n",
              "      <td>0</td>\n",
              "      <td>1</td>\n",
              "      <td>Good</td>\n",
              "      <td>1</td>\n",
              "      <td>0</td>\n",
              "      <td>0</td>\n",
              "      <td>0</td>\n",
              "      <td>0</td>\n",
              "      <td>0</td>\n",
              "      <td>0</td>\n",
              "      <td>0</td>\n",
              "      <td>1</td>\n",
              "      <td>0</td>\n",
              "      <td>0</td>\n",
              "      <td>0</td>\n",
              "      <td>1</td>\n",
              "      <td>0</td>\n",
              "      <td>0</td>\n",
              "      <td>0</td>\n",
              "      <td>0</td>\n",
              "      <td>0</td>\n",
              "      <td>0</td>\n",
              "      <td>0</td>\n",
              "      <td>0</td>\n",
              "      <td>0</td>\n",
              "      <td>0</td>\n",
              "      <td>0</td>\n",
              "      <td>1</td>\n",
              "      <td>0</td>\n",
              "      <td>0</td>\n",
              "      <td>0</td>\n",
              "      <td>1</td>\n",
              "      <td>0</td>\n",
              "      <td>0</td>\n",
              "      <td>0</td>\n",
              "      <td>1</td>\n",
              "      <td>0</td>\n",
              "      <td>0</td>\n",
              "      <td>1</td>\n",
              "      <td>0</td>\n",
              "      <td>0</td>\n",
              "      <td>1</td>\n",
              "      <td>0</td>\n",
              "      <td>0</td>\n",
              "      <td>0</td>\n",
              "      <td>0</td>\n",
              "      <td>0</td>\n",
              "      <td>1</td>\n",
              "      <td>0</td>\n",
              "      <td>1</td>\n",
              "      <td>0</td>\n",
              "      <td>0</td>\n",
              "      <td>0</td>\n",
              "      <td>1</td>\n",
              "      <td>0</td>\n",
              "    </tr>\n",
              "    <tr>\n",
              "      <th>1</th>\n",
              "      <td>48</td>\n",
              "      <td>5951</td>\n",
              "      <td>2</td>\n",
              "      <td>2</td>\n",
              "      <td>22</td>\n",
              "      <td>1</td>\n",
              "      <td>1</td>\n",
              "      <td>1</td>\n",
              "      <td>1</td>\n",
              "      <td>Bad</td>\n",
              "      <td>0</td>\n",
              "      <td>1</td>\n",
              "      <td>0</td>\n",
              "      <td>0</td>\n",
              "      <td>0</td>\n",
              "      <td>0</td>\n",
              "      <td>1</td>\n",
              "      <td>0</td>\n",
              "      <td>0</td>\n",
              "      <td>0</td>\n",
              "      <td>0</td>\n",
              "      <td>0</td>\n",
              "      <td>1</td>\n",
              "      <td>0</td>\n",
              "      <td>0</td>\n",
              "      <td>0</td>\n",
              "      <td>0</td>\n",
              "      <td>0</td>\n",
              "      <td>0</td>\n",
              "      <td>0</td>\n",
              "      <td>1</td>\n",
              "      <td>0</td>\n",
              "      <td>0</td>\n",
              "      <td>0</td>\n",
              "      <td>0</td>\n",
              "      <td>0</td>\n",
              "      <td>1</td>\n",
              "      <td>0</td>\n",
              "      <td>0</td>\n",
              "      <td>0</td>\n",
              "      <td>0</td>\n",
              "      <td>1</td>\n",
              "      <td>0</td>\n",
              "      <td>0</td>\n",
              "      <td>0</td>\n",
              "      <td>1</td>\n",
              "      <td>0</td>\n",
              "      <td>0</td>\n",
              "      <td>1</td>\n",
              "      <td>0</td>\n",
              "      <td>0</td>\n",
              "      <td>0</td>\n",
              "      <td>0</td>\n",
              "      <td>0</td>\n",
              "      <td>1</td>\n",
              "      <td>0</td>\n",
              "      <td>1</td>\n",
              "      <td>0</td>\n",
              "      <td>0</td>\n",
              "      <td>0</td>\n",
              "      <td>1</td>\n",
              "      <td>0</td>\n",
              "    </tr>\n",
              "    <tr>\n",
              "      <th>2</th>\n",
              "      <td>12</td>\n",
              "      <td>2096</td>\n",
              "      <td>2</td>\n",
              "      <td>3</td>\n",
              "      <td>49</td>\n",
              "      <td>1</td>\n",
              "      <td>2</td>\n",
              "      <td>1</td>\n",
              "      <td>1</td>\n",
              "      <td>Good</td>\n",
              "      <td>0</td>\n",
              "      <td>0</td>\n",
              "      <td>0</td>\n",
              "      <td>1</td>\n",
              "      <td>0</td>\n",
              "      <td>0</td>\n",
              "      <td>0</td>\n",
              "      <td>0</td>\n",
              "      <td>1</td>\n",
              "      <td>0</td>\n",
              "      <td>0</td>\n",
              "      <td>0</td>\n",
              "      <td>0</td>\n",
              "      <td>0</td>\n",
              "      <td>0</td>\n",
              "      <td>1</td>\n",
              "      <td>0</td>\n",
              "      <td>0</td>\n",
              "      <td>0</td>\n",
              "      <td>0</td>\n",
              "      <td>1</td>\n",
              "      <td>0</td>\n",
              "      <td>0</td>\n",
              "      <td>0</td>\n",
              "      <td>0</td>\n",
              "      <td>0</td>\n",
              "      <td>0</td>\n",
              "      <td>1</td>\n",
              "      <td>0</td>\n",
              "      <td>0</td>\n",
              "      <td>0</td>\n",
              "      <td>0</td>\n",
              "      <td>1</td>\n",
              "      <td>0</td>\n",
              "      <td>0</td>\n",
              "      <td>1</td>\n",
              "      <td>0</td>\n",
              "      <td>0</td>\n",
              "      <td>1</td>\n",
              "      <td>0</td>\n",
              "      <td>0</td>\n",
              "      <td>0</td>\n",
              "      <td>0</td>\n",
              "      <td>0</td>\n",
              "      <td>1</td>\n",
              "      <td>0</td>\n",
              "      <td>1</td>\n",
              "      <td>0</td>\n",
              "      <td>0</td>\n",
              "      <td>1</td>\n",
              "      <td>0</td>\n",
              "      <td>0</td>\n",
              "    </tr>\n",
              "    <tr>\n",
              "      <th>3</th>\n",
              "      <td>42</td>\n",
              "      <td>7882</td>\n",
              "      <td>2</td>\n",
              "      <td>4</td>\n",
              "      <td>45</td>\n",
              "      <td>1</td>\n",
              "      <td>2</td>\n",
              "      <td>1</td>\n",
              "      <td>1</td>\n",
              "      <td>Good</td>\n",
              "      <td>1</td>\n",
              "      <td>0</td>\n",
              "      <td>0</td>\n",
              "      <td>0</td>\n",
              "      <td>0</td>\n",
              "      <td>0</td>\n",
              "      <td>1</td>\n",
              "      <td>0</td>\n",
              "      <td>0</td>\n",
              "      <td>0</td>\n",
              "      <td>0</td>\n",
              "      <td>1</td>\n",
              "      <td>0</td>\n",
              "      <td>0</td>\n",
              "      <td>0</td>\n",
              "      <td>0</td>\n",
              "      <td>0</td>\n",
              "      <td>0</td>\n",
              "      <td>0</td>\n",
              "      <td>0</td>\n",
              "      <td>1</td>\n",
              "      <td>0</td>\n",
              "      <td>0</td>\n",
              "      <td>0</td>\n",
              "      <td>0</td>\n",
              "      <td>0</td>\n",
              "      <td>0</td>\n",
              "      <td>1</td>\n",
              "      <td>0</td>\n",
              "      <td>0</td>\n",
              "      <td>0</td>\n",
              "      <td>0</td>\n",
              "      <td>1</td>\n",
              "      <td>0</td>\n",
              "      <td>0</td>\n",
              "      <td>0</td>\n",
              "      <td>0</td>\n",
              "      <td>1</td>\n",
              "      <td>0</td>\n",
              "      <td>1</td>\n",
              "      <td>0</td>\n",
              "      <td>0</td>\n",
              "      <td>0</td>\n",
              "      <td>0</td>\n",
              "      <td>1</td>\n",
              "      <td>0</td>\n",
              "      <td>0</td>\n",
              "      <td>1</td>\n",
              "      <td>0</td>\n",
              "      <td>0</td>\n",
              "      <td>1</td>\n",
              "      <td>0</td>\n",
              "    </tr>\n",
              "    <tr>\n",
              "      <th>4</th>\n",
              "      <td>24</td>\n",
              "      <td>4870</td>\n",
              "      <td>3</td>\n",
              "      <td>4</td>\n",
              "      <td>53</td>\n",
              "      <td>2</td>\n",
              "      <td>2</td>\n",
              "      <td>1</td>\n",
              "      <td>1</td>\n",
              "      <td>Bad</td>\n",
              "      <td>1</td>\n",
              "      <td>0</td>\n",
              "      <td>0</td>\n",
              "      <td>0</td>\n",
              "      <td>0</td>\n",
              "      <td>0</td>\n",
              "      <td>0</td>\n",
              "      <td>1</td>\n",
              "      <td>0</td>\n",
              "      <td>1</td>\n",
              "      <td>0</td>\n",
              "      <td>0</td>\n",
              "      <td>0</td>\n",
              "      <td>0</td>\n",
              "      <td>0</td>\n",
              "      <td>0</td>\n",
              "      <td>0</td>\n",
              "      <td>0</td>\n",
              "      <td>0</td>\n",
              "      <td>0</td>\n",
              "      <td>1</td>\n",
              "      <td>0</td>\n",
              "      <td>0</td>\n",
              "      <td>0</td>\n",
              "      <td>0</td>\n",
              "      <td>0</td>\n",
              "      <td>1</td>\n",
              "      <td>0</td>\n",
              "      <td>0</td>\n",
              "      <td>0</td>\n",
              "      <td>0</td>\n",
              "      <td>0</td>\n",
              "      <td>1</td>\n",
              "      <td>0</td>\n",
              "      <td>0</td>\n",
              "      <td>1</td>\n",
              "      <td>0</td>\n",
              "      <td>0</td>\n",
              "      <td>0</td>\n",
              "      <td>0</td>\n",
              "      <td>0</td>\n",
              "      <td>1</td>\n",
              "      <td>0</td>\n",
              "      <td>0</td>\n",
              "      <td>1</td>\n",
              "      <td>0</td>\n",
              "      <td>0</td>\n",
              "      <td>1</td>\n",
              "      <td>0</td>\n",
              "      <td>0</td>\n",
              "      <td>1</td>\n",
              "      <td>0</td>\n",
              "    </tr>\n",
              "  </tbody>\n",
              "</table>\n",
              "</div>"
            ],
            "text/plain": [
              "   Duration  ...  Job.Management.SelfEmp.HighlyQualified\n",
              "0         6  ...                                       0\n",
              "1        48  ...                                       0\n",
              "2        12  ...                                       0\n",
              "3        42  ...                                       0\n",
              "4        24  ...                                       0\n",
              "\n",
              "[5 rows x 62 columns]"
            ]
          },
          "metadata": {
            "tags": []
          },
          "execution_count": 3
        }
      ]
    },
    {
      "cell_type": "code",
      "metadata": {
        "id": "efNOsZGxi2Vq",
        "colab_type": "code",
        "colab": {
          "base_uri": "https://localhost:8080/",
          "height": 134
        },
        "outputId": "d252ecf5-bb8a-4a65-b3e3-cbadda9ac79b"
      },
      "source": [
        "df.loc[0:5, 'Class']"
      ],
      "execution_count": 4,
      "outputs": [
        {
          "output_type": "execute_result",
          "data": {
            "text/plain": [
              "0    Good\n",
              "1     Bad\n",
              "2    Good\n",
              "3    Good\n",
              "4     Bad\n",
              "5    Good\n",
              "Name: Class, dtype: object"
            ]
          },
          "metadata": {
            "tags": []
          },
          "execution_count": 4
        }
      ]
    },
    {
      "cell_type": "code",
      "metadata": {
        "id": "tJNh2eA6kmlc",
        "colab_type": "code",
        "colab": {}
      },
      "source": [
        "# class is what we are trying to predict - we are going  to map it to 0/1\n",
        "# 0 - Bad\n",
        "# 1- Good\n",
        "y = df['Class'].map({'Bad': 0, 'Good': 1})\n",
        "\n",
        "# drop this from our features\n",
        "x = df.drop(['Class'], axis='columns')"
      ],
      "execution_count": 0,
      "outputs": []
    },
    {
      "cell_type": "code",
      "metadata": {
        "id": "7VlmeQWjlUTg",
        "colab_type": "code",
        "colab": {
          "base_uri": "https://localhost:8080/",
          "height": 84
        },
        "outputId": "f2790f84-3be6-4318-c755-a3b5a97c8434"
      },
      "source": [
        "y.groupby(y).size()"
      ],
      "execution_count": 6,
      "outputs": [
        {
          "output_type": "execute_result",
          "data": {
            "text/plain": [
              "Class\n",
              "0    300\n",
              "1    700\n",
              "Name: Class, dtype: int64"
            ]
          },
          "metadata": {
            "tags": []
          },
          "execution_count": 6
        }
      ]
    },
    {
      "cell_type": "code",
      "metadata": {
        "id": "JLwvsJQXmgFk",
        "colab_type": "code",
        "colab": {
          "base_uri": "https://localhost:8080/",
          "height": 50
        },
        "outputId": "98710463-21a0-4d2a-fdd3-0a8108175c70"
      },
      "source": [
        "# split into train and test set\n",
        "# stratify since we have imbalanced classes - this will shuffly by default\n",
        "# 70% train / 30% test\n",
        "X_train, X_test, y_train, y_test = train_test_split(x, \n",
        "                                                    y, \n",
        "                                                    test_size=0.3,\n",
        "                                                    random_state=1, \n",
        "                                                    stratify=y)\n",
        "print(len(X_train))\n",
        "print(len(X_test))"
      ],
      "execution_count": 7,
      "outputs": [
        {
          "output_type": "stream",
          "text": [
            "700\n",
            "300\n"
          ],
          "name": "stdout"
        }
      ]
    },
    {
      "cell_type": "markdown",
      "metadata": {
        "id": "aAvuJQ7Ou4JI",
        "colab_type": "text"
      },
      "source": [
        "## Let's train the model with default values"
      ]
    },
    {
      "cell_type": "code",
      "metadata": {
        "id": "O5E5qvcYxqOi",
        "colab_type": "code",
        "colab": {}
      },
      "source": [
        "def evaluate_model(y_true, y_predict):\n",
        "  print(\"Classification Report:\")\n",
        "  print(classification_report(y_true, y_predict, labels=[0,1],\n",
        "                                  target_names=['Bad', 'Good']\n",
        "                                  ))\n",
        "  print(\"\\nConfusion Matrix:\")\n",
        "  print(confusion_matrix(y_test, predict))"
      ],
      "execution_count": 0,
      "outputs": []
    },
    {
      "cell_type": "code",
      "metadata": {
        "id": "mq6tV9R0txwf",
        "colab_type": "code",
        "colab": {}
      },
      "source": [
        "clf = DecisionTreeClassifier(random_state=1)\n",
        "clf = clf.fit(X_train, y_train)\n",
        "predict = clf.predict(X_test)\n",
        "\n"
      ],
      "execution_count": 0,
      "outputs": []
    },
    {
      "cell_type": "markdown",
      "metadata": {
        "id": "l1dSoVg0vTRz",
        "colab_type": "text"
      },
      "source": [
        "## Let's look at how we did with  default model\n",
        "\n",
        "Precision:\n",
        "Model is better at accurately classifying Good than Bad\n",
        "* 43%  of the time when model predicts Bad, it is Good\n",
        "* 74% of the time when model predict Good, it is Good\n",
        "\n",
        "Recall\n",
        "\n",
        "Model again is better at identifying Good vs Bad\n",
        "\n",
        "* 80% of all Goods were classified as Good\n",
        "* only 36% of all Bads were classified as Bad"
      ]
    },
    {
      "cell_type": "code",
      "metadata": {
        "id": "LtUYax7ax36H",
        "colab_type": "code",
        "colab": {
          "base_uri": "https://localhost:8080/",
          "height": 252
        },
        "outputId": "11fe227b-2f03-4af5-c066-84f87aa27e3b"
      },
      "source": [
        "evaluate_model(y_test, predict)"
      ],
      "execution_count": 10,
      "outputs": [
        {
          "output_type": "stream",
          "text": [
            "Classification Report:\n",
            "              precision    recall  f1-score   support\n",
            "\n",
            "         Bad       0.43      0.36      0.39        90\n",
            "        Good       0.74      0.80      0.77       210\n",
            "\n",
            "    accuracy                           0.67       300\n",
            "   macro avg       0.59      0.58      0.58       300\n",
            "weighted avg       0.65      0.67      0.66       300\n",
            "\n",
            "\n",
            "Confusion Matrix:\n",
            "[[ 32  58]\n",
            " [ 42 168]]\n"
          ],
          "name": "stdout"
        }
      ]
    },
    {
      "cell_type": "markdown",
      "metadata": {
        "id": "6yEzCqFswkup",
        "colab_type": "text"
      },
      "source": [
        "## Let's see if we can improve the model by tuning it\n",
        "\n",
        "Documentation recommends the following:\n",
        "* max_depth = 5\n",
        "* min_sample_leaf = 5\n",
        "* class_weight = 'balanced'\n",
        "\n",
        "\n",
        "This provided a slight improvement for the non-dominant class.\n",
        "\n",
        "Precision for Bad stayed the same at 43%\n",
        "Recall for Bad increased from 36% to 59% - meaning that we are getting much better at identifying Bad samples\n",
        "\n",
        "\n",
        "Precision also increased for our dominant class - Good from 74% to 79%.\n",
        "However, overall we are getting worse at identifying Good samples as recall decreased from 79% to 67%"
      ]
    },
    {
      "cell_type": "code",
      "metadata": {
        "id": "bz5seXpGy0Jz",
        "colab_type": "code",
        "colab": {}
      },
      "source": [
        "clf = DecisionTreeClassifier(max_depth=3, \n",
        "                             min_samples_leaf=5, \n",
        "                             class_weight='balanced',\n",
        "                            random_state=1)\n",
        "clf = clf.fit(X_train, y_train)\n",
        "predict = clf.predict(X_test)\n"
      ],
      "execution_count": 0,
      "outputs": []
    },
    {
      "cell_type": "code",
      "metadata": {
        "id": "WzBmlBoGy_MV",
        "colab_type": "code",
        "colab": {
          "base_uri": "https://localhost:8080/",
          "height": 252
        },
        "outputId": "2b93d35f-03bb-4b48-ec9d-03cb9d52856a"
      },
      "source": [
        "evaluate_model(y_test, predict)"
      ],
      "execution_count": 12,
      "outputs": [
        {
          "output_type": "stream",
          "text": [
            "Classification Report:\n",
            "              precision    recall  f1-score   support\n",
            "\n",
            "         Bad       0.43      0.59      0.50        90\n",
            "        Good       0.79      0.67      0.73       210\n",
            "\n",
            "    accuracy                           0.65       300\n",
            "   macro avg       0.61      0.63      0.61       300\n",
            "weighted avg       0.68      0.65      0.66       300\n",
            "\n",
            "\n",
            "Confusion Matrix:\n",
            "[[ 53  37]\n",
            " [ 69 141]]\n"
          ],
          "name": "stdout"
        }
      ]
    },
    {
      "cell_type": "markdown",
      "metadata": {
        "id": "sp8MzTTPzuZm",
        "colab_type": "text"
      },
      "source": [
        "## Use GridSearchCV to see if we can find a better model\n",
        "\n",
        "Parameters we will tune here are:\n",
        "* max_depth - we will try 3, 6, 12\n",
        "* min_sample_leaf - 5, 10, 20\n",
        "* min_weight_fraction_left - 0., 0.2, 0.4\n",
        "* max_features - 2, 4, 8\n",
        "\n",
        "We will use 5-fold for cross validation"
      ]
    },
    {
      "cell_type": "code",
      "metadata": {
        "id": "zKB3Uly61DAU",
        "colab_type": "code",
        "colab": {
          "base_uri": "https://localhost:8080/",
          "height": 67
        },
        "outputId": "b2f28c2d-aa29-4113-9d6a-513d6f295714"
      },
      "source": [
        "grid = {\"max_depth\": [None, 3, 6, 12],\n",
        "       \"min_samples_leaf\": [1, 5, 10, 20],\n",
        "       \"min_weight_fraction_leaf\": [0., 0.2, 0.4],\n",
        "       \"max_features\": [None, 2, 4, 8]}\n",
        "clf = DecisionTreeClassifier(random_state=1)\n",
        "gs = GridSearchCV(clf, cv=5, param_grid=grid, return_train_score=True, verbose=1)\n",
        "gs_fit = gs.fit(X_train, y_train)\n",
        "predict = gs.predict(X_test)"
      ],
      "execution_count": 27,
      "outputs": [
        {
          "output_type": "stream",
          "text": [
            "Fitting 5 folds for each of 192 candidates, totalling 960 fits\n"
          ],
          "name": "stdout"
        },
        {
          "output_type": "stream",
          "text": [
            "[Parallel(n_jobs=1)]: Using backend SequentialBackend with 1 concurrent workers.\n",
            "[Parallel(n_jobs=1)]: Done 960 out of 960 | elapsed:    4.9s finished\n"
          ],
          "name": "stderr"
        }
      ]
    },
    {
      "cell_type": "code",
      "metadata": {
        "id": "83bmKJ3b3uC7",
        "colab_type": "code",
        "colab": {
          "base_uri": "https://localhost:8080/",
          "height": 84
        },
        "outputId": "3ac69cb2-d868-4139-9526-379d91207a61"
      },
      "source": [
        "gs.best_params_"
      ],
      "execution_count": 14,
      "outputs": [
        {
          "output_type": "execute_result",
          "data": {
            "text/plain": [
              "{'max_depth': None,\n",
              " 'max_features': None,\n",
              " 'min_samples_leaf': 1,\n",
              " 'min_weight_fraction_leaf': 0.2}"
            ]
          },
          "metadata": {
            "tags": []
          },
          "execution_count": 14
        }
      ]
    },
    {
      "cell_type": "code",
      "metadata": {
        "id": "ggntlgQ64SiA",
        "colab_type": "code",
        "colab": {
          "base_uri": "https://localhost:8080/",
          "height": 34
        },
        "outputId": "44e42701-82d5-49da-a9c6-ce5b603b3857"
      },
      "source": [
        "gs.best_score_"
      ],
      "execution_count": 15,
      "outputs": [
        {
          "output_type": "execute_result",
          "data": {
            "text/plain": [
              "0.7157142857142857"
            ]
          },
          "metadata": {
            "tags": []
          },
          "execution_count": 15
        }
      ]
    },
    {
      "cell_type": "markdown",
      "metadata": {
        "id": "WJFLF5mF4-yH",
        "colab_type": "text"
      },
      "source": [
        "### Analysis for GridSearchCV\n",
        "\n",
        "Slight improvement for precision for Bad samples - 45% to 50%\n",
        "Although we are gettting worse at identifying these samples over all since recall dropped from 50% to 42%\n",
        "\n",
        "We are getting less accurate for identifying Good sampels as well since our precision dropped from 79% to 77%\n",
        "However, we are geting better that overall identifying Good samples as recall increased from 67% to 82%"
      ]
    },
    {
      "cell_type": "code",
      "metadata": {
        "id": "BAhUxxBx4amJ",
        "colab_type": "code",
        "colab": {
          "base_uri": "https://localhost:8080/",
          "height": 252
        },
        "outputId": "74186cd7-96d5-4ebc-c66f-7758575ea91a"
      },
      "source": [
        "evaluate_model(y_test, predict)"
      ],
      "execution_count": 16,
      "outputs": [
        {
          "output_type": "stream",
          "text": [
            "Classification Report:\n",
            "              precision    recall  f1-score   support\n",
            "\n",
            "         Bad       0.50      0.42      0.46        90\n",
            "        Good       0.77      0.82      0.79       210\n",
            "\n",
            "    accuracy                           0.70       300\n",
            "   macro avg       0.63      0.62      0.63       300\n",
            "weighted avg       0.69      0.70      0.69       300\n",
            "\n",
            "\n",
            "Confusion Matrix:\n",
            "[[ 38  52]\n",
            " [ 38 172]]\n"
          ],
          "name": "stdout"
        }
      ]
    },
    {
      "cell_type": "markdown",
      "metadata": {
        "id": "6_yfgO0NdOMp",
        "colab_type": "text"
      },
      "source": [
        "### After you've built the best model you can, now it's time to visualize it!"
      ]
    },
    {
      "cell_type": "markdown",
      "metadata": {
        "id": "hHf9lxmadOMq",
        "colab_type": "text"
      },
      "source": [
        "Rememeber that amazing blog post from a few paragraphs ago, that demonstrated how to visualize and interpret the results of your Decision Tree model. We've seen that this can perform very well, but let's see how it does on the \"German Credit\" dataset that we're working on, due to it being a bit larger than the one used by the blog authors."
      ]
    },
    {
      "cell_type": "markdown",
      "metadata": {
        "id": "vAFRjCGDdOMr",
        "colab_type": "text"
      },
      "source": [
        "First, we're going to need to install their package. If you're using Anaconda, this can be done easily by running:"
      ]
    },
    {
      "cell_type": "code",
      "metadata": {
        "id": "pmo2uznydOMs",
        "colab_type": "code",
        "colab": {
          "base_uri": "https://localhost:8080/",
          "height": 306
        },
        "outputId": "70c5ddae-bb35-484b-fec3-e96d474231fb"
      },
      "source": [
        "! pip install dtreeviz"
      ],
      "execution_count": 17,
      "outputs": [
        {
          "output_type": "stream",
          "text": [
            "Requirement already satisfied: dtreeviz in /usr/local/lib/python3.6/dist-packages (0.4)\n",
            "Requirement already satisfied: colour in /usr/local/lib/python3.6/dist-packages (from dtreeviz) (0.1.5)\n",
            "Requirement already satisfied: matplotlib in /usr/local/lib/python3.6/dist-packages (from dtreeviz) (3.0.3)\n",
            "Requirement already satisfied: scikit-learn in /usr/local/lib/python3.6/dist-packages (from dtreeviz) (0.21.2)\n",
            "Requirement already satisfied: numpy in /usr/local/lib/python3.6/dist-packages (from dtreeviz) (1.16.4)\n",
            "Requirement already satisfied: pandas in /usr/local/lib/python3.6/dist-packages (from dtreeviz) (0.24.2)\n",
            "Requirement already satisfied: graphviz>=0.9 in /usr/local/lib/python3.6/dist-packages (from dtreeviz) (0.10.1)\n",
            "Requirement already satisfied: pyparsing!=2.0.4,!=2.1.2,!=2.1.6,>=2.0.1 in /usr/local/lib/python3.6/dist-packages (from matplotlib->dtreeviz) (2.4.0)\n",
            "Requirement already satisfied: kiwisolver>=1.0.1 in /usr/local/lib/python3.6/dist-packages (from matplotlib->dtreeviz) (1.1.0)\n",
            "Requirement already satisfied: python-dateutil>=2.1 in /usr/local/lib/python3.6/dist-packages (from matplotlib->dtreeviz) (2.5.3)\n",
            "Requirement already satisfied: cycler>=0.10 in /usr/local/lib/python3.6/dist-packages (from matplotlib->dtreeviz) (0.10.0)\n",
            "Requirement already satisfied: scipy>=0.17.0 in /usr/local/lib/python3.6/dist-packages (from scikit-learn->dtreeviz) (1.3.0)\n",
            "Requirement already satisfied: joblib>=0.11 in /usr/local/lib/python3.6/dist-packages (from scikit-learn->dtreeviz) (0.13.2)\n",
            "Requirement already satisfied: pytz>=2011k in /usr/local/lib/python3.6/dist-packages (from pandas->dtreeviz) (2018.9)\n",
            "Requirement already satisfied: setuptools in /usr/local/lib/python3.6/dist-packages (from kiwisolver>=1.0.1->matplotlib->dtreeviz) (41.0.1)\n",
            "Requirement already satisfied: six>=1.5 in /usr/local/lib/python3.6/dist-packages (from python-dateutil>=2.1->matplotlib->dtreeviz) (1.12.0)\n"
          ],
          "name": "stdout"
        }
      ]
    },
    {
      "cell_type": "markdown",
      "metadata": {
        "id": "8qbl9ao4dOMt",
        "colab_type": "text"
      },
      "source": [
        "If for any reason this way of installing doesn't work for you straight out of the box, please refer to the more detailed documentation here: https://github.com/parrt/dtreeviz"
      ]
    },
    {
      "cell_type": "markdown",
      "metadata": {
        "id": "dG3lgkqudOMu",
        "colab_type": "text"
      },
      "source": [
        "Now you're ready to visualize your Decision Tree model! Please feel free to use the blog post for guidance and inspiration!"
      ]
    },
    {
      "cell_type": "markdown",
      "metadata": {
        "id": "yzmA9jkd8Fnh",
        "colab_type": "text"
      },
      "source": [
        "# I'm not sure what to do next. I've tried installed this package on my macbook pro but I can't get it to work. I've tried pinging the writer of this package and followed all the instrauctions but it doesn't seem to work. When I run this on google Colab, it does not show any graph just a blank screen"
      ]
    },
    {
      "cell_type": "code",
      "metadata": {
        "id": "BJRAHjRRdOMw",
        "colab_type": "code",
        "colab": {}
      },
      "source": [
        "from dtreeviz.trees import *\n",
        "\n",
        "viz = dtreeviz(gs.best_estimator_, \n",
        "               X_train, \n",
        "               y_train,\n",
        "               target_name='Class',\n",
        "              feature_names=X_train.columns, \n",
        "               class_names=[\"Bad\", \"Good\"]  # need class_names for classifier\n",
        "              )  \n",
        "viz.view()"
      ],
      "execution_count": 0,
      "outputs": []
    },
    {
      "cell_type": "markdown",
      "metadata": {
        "id": "hd_ND_h__a-u",
        "colab_type": "text"
      },
      "source": [
        "### Since I can't get dtreeviz to work. I'm going to use the default tree viewer from sklearn"
      ]
    },
    {
      "cell_type": "code",
      "metadata": {
        "id": "o-9G12aM_BAx",
        "colab_type": "code",
        "colab": {
          "base_uri": "https://localhost:8080/",
          "height": 353
        },
        "outputId": "a21fba8e-1200-4c9f-b5b1-a7cdf66e1879"
      },
      "source": [
        "from sklearn import tree\n",
        "tree.plot_tree(gs.best_estimator_.fit(X_train, y_train)) \n"
      ],
      "execution_count": 29,
      "outputs": [
        {
          "output_type": "execute_result",
          "data": {
            "text/plain": [
              "[Text(200.88000000000002, 181.2, 'X[12] <= 0.5\\nentropy = 0.42\\nsamples = 700\\nvalue = [210, 490]'),\n",
              " Text(133.92000000000002, 108.72, 'X[0] <= 22.5\\nentropy = 0.485\\nsamples = 431\\nvalue = [178, 253]'),\n",
              " Text(66.96000000000001, 36.23999999999998, 'entropy = 0.429\\nsamples = 250\\nvalue = [78, 172]'),\n",
              " Text(200.88000000000002, 36.23999999999998, 'entropy = 0.494\\nsamples = 181\\nvalue = [100, 81]'),\n",
              " Text(267.84000000000003, 108.72, 'entropy = 0.21\\nsamples = 269\\nvalue = [32, 237]')]"
            ]
          },
          "metadata": {
            "tags": []
          },
          "execution_count": 29
        },
        {
          "output_type": "display_data",
          "data": {
            "image/png": "[encoded data removed]",
            "text/plain": [
              "<Figure size 432x288 with 1 Axes>"
            ]
          },
          "metadata": {
            "tags": []
          }
        }
      ]
    },
    {
      "cell_type": "code",
      "metadata": {
        "id": "gsK9HnEg_y3i",
        "colab_type": "code",
        "colab": {
          "base_uri": "https://localhost:8080/",
          "height": 440
        },
        "outputId": "b91effcf-ffd4-431a-f28a-a67dcb003f6c"
      },
      "source": [
        " dot_data = tree.export_graphviz(gs.best_estimator_, out_file=None, \n",
        "                      feature_names=X_train.columns,  \n",
        "                      class_names=['Bad', 'Good'],  \n",
        "                      filled=True, rounded=True,  \n",
        "                      special_characters=True)  \n",
        "graph = graphviz.Source(dot_data)  \n",
        "graph "
      ],
      "execution_count": 32,
      "outputs": [
        {
          "output_type": "execute_result",
          "data": {
            "text/plain": [
              "<graphviz.files.Source at 0x7f368b894be0>"
            ],
            "image/svg+xml": "<?xml version=\"1.0\" encoding=\"UTF-8\" standalone=\"no\"?>\n<!DOCTYPE svg PUBLIC \"-//W3C//DTD SVG 1.1//EN\"\n \"http://www.w3.org/Graphics/SVG/1.1/DTD/svg11.dtd\">\n<!-- Generated by graphviz version 2.40.1 (20161225.0304)\n -->\n<!-- Title: Tree Pages: 1 -->\n<svg width=\"349pt\" height=\"314pt\"\n viewBox=\"0.00 0.00 349.00 314.00\" xmlns=\"http://www.w3.org/2000/svg\" xmlns:xlink=\"http://www.w3.org/1999/xlink\">\n<g id=\"graph0\" class=\"graph\" transform=\"scale(1 1) rotate(0) translate(4 310)\">\n<title>Tree</title>\n<polygon fill=\"#ffffff\" stroke=\"transparent\" points=\"-4,4 -4,-310 345,-310 345,4 -4,4\"/>\n<!-- 0 -->\n<g id=\"node1\" class=\"node\">\n<title>0</title>\n<path fill=\"#8ec7f0\" stroke=\"#000000\" d=\"M316.5,-306C316.5,-306 95.5,-306 95.5,-306 89.5,-306 83.5,-300 83.5,-294 83.5,-294 83.5,-235 83.5,-235 83.5,-229 89.5,-223 95.5,-223 95.5,-223 316.5,-223 316.5,-223 322.5,-223 328.5,-229 328.5,-235 328.5,-235 328.5,-294 328.5,-294 328.5,-300 322.5,-306 316.5,-306\"/>\n<text text-anchor=\"start\" x=\"91.5\" y=\"-290.8\" font-family=\"Helvetica,sans-Serif\" font-size=\"14.00\" fill=\"#000000\">CheckingAccountStatus.none ≤ 0.5</text>\n<text text-anchor=\"start\" x=\"172.5\" y=\"-275.8\" font-family=\"Helvetica,sans-Serif\" font-size=\"14.00\" fill=\"#000000\">gini = 0.42</text>\n<text text-anchor=\"start\" x=\"158\" y=\"-260.8\" font-family=\"Helvetica,sans-Serif\" font-size=\"14.00\" fill=\"#000000\">samples = 700</text>\n<text text-anchor=\"start\" x=\"148\" y=\"-245.8\" font-family=\"Helvetica,sans-Serif\" font-size=\"14.00\" fill=\"#000000\">value = [210, 490]</text>\n<text text-anchor=\"start\" x=\"163\" y=\"-230.8\" font-family=\"Helvetica,sans-Serif\" font-size=\"14.00\" fill=\"#000000\">class = Good</text>\n</g>\n<!-- 1 -->\n<g id=\"node2\" class=\"node\">\n<title>1</title>\n<path fill=\"#c4e2f7\" stroke=\"#000000\" d=\"M187,-187C187,-187 79,-187 79,-187 73,-187 67,-181 67,-175 67,-175 67,-116 67,-116 67,-110 73,-104 79,-104 79,-104 187,-104 187,-104 193,-104 199,-110 199,-116 199,-116 199,-175 199,-175 199,-181 193,-187 187,-187\"/>\n<text text-anchor=\"start\" x=\"83.5\" y=\"-171.8\" font-family=\"Helvetica,sans-Serif\" font-size=\"14.00\" fill=\"#000000\">Duration ≤ 22.5</text>\n<text text-anchor=\"start\" x=\"95\" y=\"-156.8\" font-family=\"Helvetica,sans-Serif\" font-size=\"14.00\" fill=\"#000000\">gini = 0.485</text>\n<text text-anchor=\"start\" x=\"85\" y=\"-141.8\" font-family=\"Helvetica,sans-Serif\" font-size=\"14.00\" fill=\"#000000\">samples = 431</text>\n<text text-anchor=\"start\" x=\"75\" y=\"-126.8\" font-family=\"Helvetica,sans-Serif\" font-size=\"14.00\" fill=\"#000000\">value = [178, 253]</text>\n<text text-anchor=\"start\" x=\"90\" y=\"-111.8\" font-family=\"Helvetica,sans-Serif\" font-size=\"14.00\" fill=\"#000000\">class = Good</text>\n</g>\n<!-- 0&#45;&gt;1 -->\n<g id=\"edge1\" class=\"edge\">\n<title>0&#45;&gt;1</title>\n<path fill=\"none\" stroke=\"#000000\" d=\"M180.4681,-222.8796C175.109,-214.1434 169.4021,-204.8404 163.8718,-195.8253\"/>\n<polygon fill=\"#000000\" stroke=\"#000000\" points=\"166.8533,-193.9919 158.6408,-187.2981 160.8865,-197.6522 166.8533,-193.9919\"/>\n<text text-anchor=\"middle\" x=\"152.8161\" y=\"-207.9101\" font-family=\"Helvetica,sans-Serif\" font-size=\"14.00\" fill=\"#000000\">True</text>\n</g>\n<!-- 4 -->\n<g id=\"node5\" class=\"node\">\n<title>4</title>\n<path fill=\"#54aae9\" stroke=\"#000000\" d=\"M329,-179.5C329,-179.5 229,-179.5 229,-179.5 223,-179.5 217,-173.5 217,-167.5 217,-167.5 217,-123.5 217,-123.5 217,-117.5 223,-111.5 229,-111.5 229,-111.5 329,-111.5 329,-111.5 335,-111.5 341,-117.5 341,-123.5 341,-123.5 341,-167.5 341,-167.5 341,-173.5 335,-179.5 329,-179.5\"/>\n<text text-anchor=\"start\" x=\"245.5\" y=\"-164.3\" font-family=\"Helvetica,sans-Serif\" font-size=\"14.00\" fill=\"#000000\">gini = 0.21</text>\n<text text-anchor=\"start\" x=\"231\" y=\"-149.3\" font-family=\"Helvetica,sans-Serif\" font-size=\"14.00\" fill=\"#000000\">samples = 269</text>\n<text text-anchor=\"start\" x=\"225\" y=\"-134.3\" font-family=\"Helvetica,sans-Serif\" font-size=\"14.00\" fill=\"#000000\">value = [32, 237]</text>\n<text text-anchor=\"start\" x=\"236\" y=\"-119.3\" font-family=\"Helvetica,sans-Serif\" font-size=\"14.00\" fill=\"#000000\">class = Good</text>\n</g>\n<!-- 0&#45;&gt;4 -->\n<g id=\"edge4\" class=\"edge\">\n<title>0&#45;&gt;4</title>\n<path fill=\"none\" stroke=\"#000000\" d=\"M231.5319,-222.8796C238.3448,-211.7735 245.7198,-199.7513 252.5794,-188.5691\"/>\n<polygon fill=\"#000000\" stroke=\"#000000\" points=\"255.704,-190.1691 257.9497,-179.8149 249.7372,-186.5087 255.704,-190.1691\"/>\n<text text-anchor=\"middle\" x=\"263.7744\" y=\"-200.4269\" font-family=\"Helvetica,sans-Serif\" font-size=\"14.00\" fill=\"#000000\">False</text>\n</g>\n<!-- 2 -->\n<g id=\"node3\" class=\"node\">\n<title>2</title>\n<path fill=\"#93c9f1\" stroke=\"#000000\" d=\"M112,-68C112,-68 12,-68 12,-68 6,-68 0,-62 0,-56 0,-56 0,-12 0,-12 0,-6 6,0 12,0 12,0 112,0 112,0 118,0 124,-6 124,-12 124,-12 124,-56 124,-56 124,-62 118,-68 112,-68\"/>\n<text text-anchor=\"start\" x=\"24\" y=\"-52.8\" font-family=\"Helvetica,sans-Serif\" font-size=\"14.00\" fill=\"#000000\">gini = 0.429</text>\n<text text-anchor=\"start\" x=\"14\" y=\"-37.8\" font-family=\"Helvetica,sans-Serif\" font-size=\"14.00\" fill=\"#000000\">samples = 250</text>\n<text text-anchor=\"start\" x=\"8\" y=\"-22.8\" font-family=\"Helvetica,sans-Serif\" font-size=\"14.00\" fill=\"#000000\">value = [78, 172]</text>\n<text text-anchor=\"start\" x=\"19\" y=\"-7.8\" font-family=\"Helvetica,sans-Serif\" font-size=\"14.00\" fill=\"#000000\">class = Good</text>\n</g>\n<!-- 1&#45;&gt;2 -->\n<g id=\"edge2\" class=\"edge\">\n<title>1&#45;&gt;2</title>\n<path fill=\"none\" stroke=\"#000000\" d=\"M106.5622,-103.9815C100.944,-95.1585 95.0012,-85.8258 89.3497,-76.9506\"/>\n<polygon fill=\"#000000\" stroke=\"#000000\" points=\"92.1416,-74.8188 83.8181,-68.2637 86.2371,-78.5787 92.1416,-74.8188\"/>\n</g>\n<!-- 3 -->\n<g id=\"node4\" class=\"node\">\n<title>3</title>\n<path fill=\"#fae7d9\" stroke=\"#000000\" d=\"M254,-68C254,-68 154,-68 154,-68 148,-68 142,-62 142,-56 142,-56 142,-12 142,-12 142,-6 148,0 154,0 154,0 254,0 254,0 260,0 266,-6 266,-12 266,-12 266,-56 266,-56 266,-62 260,-68 254,-68\"/>\n<text text-anchor=\"start\" x=\"166\" y=\"-52.8\" font-family=\"Helvetica,sans-Serif\" font-size=\"14.00\" fill=\"#000000\">gini = 0.494</text>\n<text text-anchor=\"start\" x=\"156\" y=\"-37.8\" font-family=\"Helvetica,sans-Serif\" font-size=\"14.00\" fill=\"#000000\">samples = 181</text>\n<text text-anchor=\"start\" x=\"150\" y=\"-22.8\" font-family=\"Helvetica,sans-Serif\" font-size=\"14.00\" fill=\"#000000\">value = [100, 81]</text>\n<text text-anchor=\"start\" x=\"166\" y=\"-7.8\" font-family=\"Helvetica,sans-Serif\" font-size=\"14.00\" fill=\"#000000\">class = Bad</text>\n</g>\n<!-- 1&#45;&gt;3 -->\n<g id=\"edge3\" class=\"edge\">\n<title>1&#45;&gt;3</title>\n<path fill=\"none\" stroke=\"#000000\" d=\"M159.4378,-103.9815C165.056,-95.1585 170.9988,-85.8258 176.6503,-76.9506\"/>\n<polygon fill=\"#000000\" stroke=\"#000000\" points=\"179.7629,-78.5787 182.1819,-68.2637 173.8584,-74.8188 179.7629,-78.5787\"/>\n</g>\n</g>\n</svg>\n"
          },
          "metadata": {
            "tags": []
          },
          "execution_count": 32
        }
      ]
    },
    {
      "cell_type": "markdown",
      "metadata": {
        "id": "GdHZu4brdOMy",
        "colab_type": "text"
      },
      "source": [
        "## Random Forests"
      ]
    },
    {
      "cell_type": "markdown",
      "metadata": {
        "id": "3vTdCqwsdOMz",
        "colab_type": "text"
      },
      "source": [
        "As discussed in the lecture videos, Decision Tree algorithms also have certain undesireable properties. Mainly the have low bias, which is good, but tend to have high variance - which is *not* so good (more about this problem here: https://en.wikipedia.org/wiki/Bias%E2%80%93variance_tradeoff)."
      ]
    },
    {
      "cell_type": "markdown",
      "metadata": {
        "id": "CrsuqcdxdOM0",
        "colab_type": "text"
      },
      "source": [
        "Noticing these problems, the late Professor Leo Breiman, in 2001, developed the Random Forests algorithm, which mitigates these problems, while at the same time providing even higher predictive accuracy than the majority of Decision Tree algorithm implementations. While the curriculum contains two excellent lectures on Random Forests, if you're interested, you can dive into the original paper here: https://link.springer.com/content/pdf/10.1023%2FA%3A1010933404324.pdf."
      ]
    },
    {
      "cell_type": "markdown",
      "metadata": {
        "id": "2aOgq2izdOM0",
        "colab_type": "text"
      },
      "source": [
        "In the next part of this assignment, your are going to use the same \"German Credit\" dataset to train, tune, and measure the performance of a Random Forests model. You will also see certain functionalities that this model, even though it's a bit of a \"black box\", provides for some degree of interpretability."
      ]
    },
    {
      "cell_type": "markdown",
      "metadata": {
        "id": "tVnqAqoXdOM1",
        "colab_type": "text"
      },
      "source": [
        "First, let's build a Random Forests model, using the same best practices that you've used for your Decision Trees model. You can reuse the things you've already imported there, so no need to do any re-imports, new train/test splits, or loading up the data again."
      ]
    },
    {
      "cell_type": "code",
      "metadata": {
        "id": "21v9xPzIdOM2",
        "colab_type": "code",
        "colab": {}
      },
      "source": [
        "from sklearn.ensemble import RandomForestClassifier"
      ],
      "execution_count": 0,
      "outputs": []
    },
    {
      "cell_type": "code",
      "metadata": {
        "id": "U5FjRuMzdOM4",
        "colab_type": "code",
        "colab": {}
      },
      "source": [
        "# Your code here! :)"
      ],
      "execution_count": 0,
      "outputs": []
    },
    {
      "cell_type": "markdown",
      "metadata": {
        "id": "rJU5ho9jdOM6",
        "colab_type": "text"
      },
      "source": [
        "As mentioned, there are certain ways to \"peek\" into a model created by the Random Forests algorithm. The first, and most popular one, is the Feature Importance calculation functionality. This allows the ML practitioner to see an ordering of the importance of the features that have contributed the most to the predictive accuracy of the model. \n",
        "\n",
        "You can see how to use this in the scikit-learn documentation (http://scikit-learn.org/stable/modules/generated/sklearn.ensemble.RandomForestClassifier.html#sklearn.ensemble.RandomForestClassifier.feature_importances_). Now, if you tried this, you would just get an ordered table of not directly interpretable numeric values. Thus, it's much more useful to show the feature importance in a visual way. You can see an example of how that's done here: http://scikit-learn.org/stable/auto_examples/ensemble/plot_forest_importances.html#sphx-glr-auto-examples-ensemble-plot-forest-importances-py\n",
        "\n",
        "Now you try! Let's visualize the importance of features from your Random Forests model!"
      ]
    },
    {
      "cell_type": "code",
      "metadata": {
        "id": "x_zTiumTdOM6",
        "colab_type": "code",
        "colab": {}
      },
      "source": [
        "# Your code here"
      ],
      "execution_count": 0,
      "outputs": []
    },
    {
      "cell_type": "markdown",
      "metadata": {
        "id": "K_tv4IfRdOM8",
        "colab_type": "text"
      },
      "source": [
        "A final method for gaining some insight into the inner working of your Random Forests models is a so-called Partial Dependence Plot. The Partial Dependence Plot (PDP or PD plot) shows the marginal effect of a feature on the predicted outcome of a previously fit model. The prediction function is fixed at a few values of the chosen features and averaged over the other features. A partial dependence plot can show if the relationship between the target and a feature is linear, monotonic or more complex. \n",
        "\n",
        "In scikit-learn, PDPs are implemented and available for certain algorithms, but at this point (version 0.20.0) they are not yet implemented for Random Forests. Thankfully, there is an add-on package called **PDPbox** (https://pdpbox.readthedocs.io/en/latest/) which adds this functionality to Random Forests. The package is easy to install through pip."
      ]
    },
    {
      "cell_type": "code",
      "metadata": {
        "id": "2J50arfIdOM8",
        "colab_type": "code",
        "colab": {
          "base_uri": "https://localhost:8080/",
          "height": 423
        },
        "outputId": "24d5d6c9-584c-48ef-d5e7-157ab31ed2ac"
      },
      "source": [
        "! pip install pdpbox"
      ],
      "execution_count": 22,
      "outputs": [
        {
          "output_type": "stream",
          "text": [
            "Collecting pdpbox\n",
            "\u001b[?25l  Downloading https://files.pythonhosted.org/packages/87/23/ac7da5ba1c6c03a87c412e7e7b6e91a10d6ecf4474906c3e736f93940d49/PDPbox-0.2.0.tar.gz (57.7MB)\n",
            "\u001b[K     |████████████████████████████████| 57.7MB 470kB/s \n",
            "\u001b[?25hRequirement already satisfied: pandas in /usr/local/lib/python3.6/dist-packages (from pdpbox) (0.24.2)\n",
            "Requirement already satisfied: numpy in /usr/local/lib/python3.6/dist-packages (from pdpbox) (1.16.4)\n",
            "Requirement already satisfied: scipy in /usr/local/lib/python3.6/dist-packages (from pdpbox) (1.3.0)\n",
            "Requirement already satisfied: matplotlib>=2.1.2 in /usr/local/lib/python3.6/dist-packages (from pdpbox) (3.0.3)\n",
            "Requirement already satisfied: joblib in /usr/local/lib/python3.6/dist-packages (from pdpbox) (0.13.2)\n",
            "Requirement already satisfied: psutil in /usr/local/lib/python3.6/dist-packages (from pdpbox) (5.4.8)\n",
            "Requirement already satisfied: scikit-learn in /usr/local/lib/python3.6/dist-packages (from pdpbox) (0.21.2)\n",
            "Requirement already satisfied: python-dateutil>=2.5.0 in /usr/local/lib/python3.6/dist-packages (from pandas->pdpbox) (2.5.3)\n",
            "Requirement already satisfied: pytz>=2011k in /usr/local/lib/python3.6/dist-packages (from pandas->pdpbox) (2018.9)\n",
            "Requirement already satisfied: cycler>=0.10 in /usr/local/lib/python3.6/dist-packages (from matplotlib>=2.1.2->pdpbox) (0.10.0)\n",
            "Requirement already satisfied: kiwisolver>=1.0.1 in /usr/local/lib/python3.6/dist-packages (from matplotlib>=2.1.2->pdpbox) (1.1.0)\n",
            "Requirement already satisfied: pyparsing!=2.0.4,!=2.1.2,!=2.1.6,>=2.0.1 in /usr/local/lib/python3.6/dist-packages (from matplotlib>=2.1.2->pdpbox) (2.4.0)\n",
            "Requirement already satisfied: six>=1.5 in /usr/local/lib/python3.6/dist-packages (from python-dateutil>=2.5.0->pandas->pdpbox) (1.12.0)\n",
            "Requirement already satisfied: setuptools in /usr/local/lib/python3.6/dist-packages (from kiwisolver>=1.0.1->matplotlib>=2.1.2->pdpbox) (41.0.1)\n",
            "Building wheels for collected packages: pdpbox\n",
            "  Building wheel for pdpbox (setup.py) ... \u001b[?25l\u001b[?25hdone\n",
            "  Stored in directory: /root/.cache/pip/wheels/7d/08/51/63fd122b04a2c87d780464eeffb94867c75bd96a64d500a3fe\n",
            "Successfully built pdpbox\n",
            "Installing collected packages: pdpbox\n",
            "Successfully installed pdpbox-0.2.0\n"
          ],
          "name": "stdout"
        }
      ]
    },
    {
      "cell_type": "markdown",
      "metadata": {
        "id": "fI4dw3_xdOM-",
        "colab_type": "text"
      },
      "source": [
        "While we encourage you to read the documentation for the package (and reading package documentation in general is a good habit to develop), the authors of the package have also written an excellent blog post on how to use it, showing examples on different algorithms from scikit-learn (the Random Forests example is towards the end of the blog post): https://briangriner.github.io/Partial_Dependence_Plots_presentation-BrianGriner-PrincetonPublicLibrary-4.14.18-updated-4.22.18.html"
      ]
    },
    {
      "cell_type": "markdown",
      "metadata": {
        "id": "HO5lWONbdOM-",
        "colab_type": "text"
      },
      "source": [
        "So, armed with this new knowledge, feel free to pick a few features, and make a couple of Partial Dependence Plots of your own!"
      ]
    },
    {
      "cell_type": "code",
      "metadata": {
        "id": "Q3c8z29OdOM_",
        "colab_type": "code",
        "colab": {}
      },
      "source": [
        "# Your code here!"
      ],
      "execution_count": 0,
      "outputs": []
    },
    {
      "cell_type": "markdown",
      "metadata": {
        "id": "SAdxyb4KdONA",
        "colab_type": "text"
      },
      "source": [
        "## (Optional) Advanced Boosting-Based Algorithms"
      ]
    },
    {
      "cell_type": "markdown",
      "metadata": {
        "id": "33JOeZB1dONB",
        "colab_type": "text"
      },
      "source": [
        "As explained in the video lectures, the next generation of algorithms after Random Forests (that use Bagging, a.k.a. Bootstrap Aggregation) were developed using Boosting, and the first one of these were Gradient Boosted Machines, which are implemented in scikit-learn (http://scikit-learn.org/stable/modules/ensemble.html#gradient-tree-boosting)."
      ]
    },
    {
      "cell_type": "markdown",
      "metadata": {
        "id": "GFVry4pSdONC",
        "colab_type": "text"
      },
      "source": [
        "Still, in recent years, a number of variations on GBMs have been developed by different research amd industry groups, all of them bringing improvements, both in speed, accuracy and functionality to the original Gradient Boosting algorithms.\n",
        "\n",
        "In no order of preference, these are:\n",
        "1. **XGBoost**: https://xgboost.readthedocs.io/en/latest/\n",
        "2. **CatBoost**: https://tech.yandex.com/catboost/\n",
        "3. **LightGBM**: https://lightgbm.readthedocs.io/en/latest/"
      ]
    },
    {
      "cell_type": "markdown",
      "metadata": {
        "id": "CLWdVcE9dOND",
        "colab_type": "text"
      },
      "source": [
        "If you're using the Anaconda distribution, these are all very easy to install:"
      ]
    },
    {
      "cell_type": "code",
      "metadata": {
        "id": "s8lgCPf8dOND",
        "colab_type": "code",
        "colab": {
          "base_uri": "https://localhost:8080/",
          "height": 34
        },
        "outputId": "c66dbdb2-c9cc-43a5-f931-be5e4be77b6f"
      },
      "source": [
        "! conda install -c anaconda py-xgboost"
      ],
      "execution_count": 24,
      "outputs": [
        {
          "output_type": "stream",
          "text": [
            "/bin/bash: conda: command not found\n"
          ],
          "name": "stdout"
        }
      ]
    },
    {
      "cell_type": "code",
      "metadata": {
        "id": "d3yuRZs3dONG",
        "colab_type": "code",
        "colab": {
          "base_uri": "https://localhost:8080/",
          "height": 34
        },
        "outputId": "ea176a33-a09a-4519-a87b-50aa6fc6d474"
      },
      "source": [
        "! conda install -c conda-forge catboost"
      ],
      "execution_count": 25,
      "outputs": [
        {
          "output_type": "stream",
          "text": [
            "/bin/bash: conda: command not found\n"
          ],
          "name": "stdout"
        }
      ]
    },
    {
      "cell_type": "code",
      "metadata": {
        "id": "hrrjTzawdONK",
        "colab_type": "code",
        "colab": {
          "base_uri": "https://localhost:8080/",
          "height": 34
        },
        "outputId": "0f6b5f66-832b-4f1f-b256-b4c0d6da5257"
      },
      "source": [
        "! conda install -c conda-forge lightgbm"
      ],
      "execution_count": 26,
      "outputs": [
        {
          "output_type": "stream",
          "text": [
            "/bin/bash: conda: command not found\n"
          ],
          "name": "stdout"
        }
      ]
    },
    {
      "cell_type": "markdown",
      "metadata": {
        "id": "B_iytdebdONN",
        "colab_type": "text"
      },
      "source": [
        "Your task in this optional section of the mini project is to read the documentation of these three libraries, and apply all of them to the \"German Credit\" dataset, just like you did in the case of Decision Trees and Random Forests."
      ]
    },
    {
      "cell_type": "markdown",
      "metadata": {
        "id": "omepDpLUdONN",
        "colab_type": "text"
      },
      "source": [
        "The final deliverable of this section should be a table (can be a pandas DataFrame) which shows the accuracy of all the five algorthms taught in this mini project in one place."
      ]
    },
    {
      "cell_type": "markdown",
      "metadata": {
        "id": "jqgrIHwRdONN",
        "colab_type": "text"
      },
      "source": [
        "Happy modeling! :)"
      ]
    },
    {
      "cell_type": "code",
      "metadata": {
        "id": "VsG2oifodONO",
        "colab_type": "code",
        "colab": {}
      },
      "source": [
        ""
      ],
      "execution_count": 0,
      "outputs": []
    }
  ]
}