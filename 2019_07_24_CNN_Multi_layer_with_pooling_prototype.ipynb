{
  "nbformat": 4,
  "nbformat_minor": 0,
  "metadata": {
    "colab": {
      "name": "2019-07-24-CNN_Multi_layer_with_pooling-prototype.ipynb",
      "version": "0.3.2",
      "provenance": [],
      "include_colab_link": true
    },
    "kernelspec": {
      "name": "python3",
      "display_name": "Python 3"
    }
  },
  "cells": [
    {
      "cell_type": "markdown",
      "metadata": {
        "id": "view-in-github",
        "colab_type": "text"
      },
      "source": [
        "<a href=\"https://colab.research.google.com/github/sv650s/springboard/blob/master/2019_07_24_CNN_Multi_layer_with_pooling_prototype.ipynb\" target=\"_parent\"><img src=\"https://colab.research.google.com/assets/colab-badge.svg\" alt=\"Open In Colab\"/></a>"
      ]
    },
    {
      "cell_type": "markdown",
      "metadata": {
        "id": "R_5AsY93eNFQ",
        "colab_type": "text"
      },
      "source": [
        "# CNN Multi-Layer With Pooling Prototype\n",
        "\n",
        "Based on the [CNN Multi-Layer Prototype](https://github.com/sv650s/sb-capstone/blob/master/2019_07_23_CNN_Multi_layer_prototype.ipynb), we run the following variations so we can compare results\n",
        "\n",
        "Since 3 layer CNN performed slight better in the previous notebook, we will start with that and add:\n",
        "* max pooling in between all CNN layers\n",
        "* instead of using early stop, we will run 15 epochs and compare results\n",
        "\n",
        "We are going to save off the metrics for both models so we can print them out and compare them\n",
        "\n",
        "As before, I am using some utility functions so I don't have copy so much code around. Source code for the modules are here:\n",
        "* [dict_util](https://github.com/sv650s/sb-capstone/blob/master/util/dict_util.py)\n",
        "* [plot_util](https://github.com/sv650s/sb-capstone/blob/master/util/plot_util.py)\n",
        "* [keras_util](https://github.com/sv650s/sb-capstone/blob/master/util/keras_util.py)\n",
        "* [file_util](https://github.com/sv650s/sb-capstone/blob/master/util/file_util.py)"
      ]
    },
    {
      "cell_type": "code",
      "metadata": {
        "id": "EGy3VGqGdzVA",
        "colab_type": "code",
        "outputId": "7eabdff6-5bcf-4693-8354-fdfa18e6200f",
        "colab": {
          "base_uri": "https://localhost:8080/",
          "height": 55
        }
      },
      "source": [
        "from google.colab import drive\n",
        "import sys\n",
        "drive.mount('/content/drive')\n",
        "# add this to sys patch so we can import utility functions\n",
        "sys.path.append('drive/My Drive/Springboard/capstone')\n"
      ],
      "execution_count": 1,
      "outputs": [
        {
          "output_type": "stream",
          "text": [
            "Drive already mounted at /content/drive; to attempt to forcibly remount, call drive.mount(\"/content/drive\", force_remount=True).\n"
          ],
          "name": "stdout"
        }
      ]
    },
    {
      "cell_type": "code",
      "metadata": {
        "id": "LaoGWTxxeosP",
        "colab_type": "code",
        "colab": {
          "base_uri": "https://localhost:8080/",
          "height": 35
        },
        "outputId": "83d8e03c-a818-4a51-c177-d2b536a5d840"
      },
      "source": [
        "from keras.models import Sequential\n",
        "from keras.layers import Dense, Activation, Dropout\n",
        "from keras.layers.normalization import BatchNormalization\n",
        "from keras.callbacks import EarlyStopping\n",
        "from keras.models import load_model\n",
        "from sklearn.model_selection import train_test_split\n",
        "from keras.optimizers import SGD\n",
        "from sklearn.preprocessing import OneHotEncoder\n",
        "from keras.layers import Flatten\n",
        "from keras.layers.convolutional import Conv1D\n",
        "from keras.layers.convolutional import MaxPooling1D\n",
        "from keras.layers.embeddings import Embedding\n",
        "import pandas as pd\n",
        "from IPython.display import SVG\n",
        "from keras.utils.vis_utils import model_to_dot\n",
        "import pickle\n",
        "from datetime import datetime\n",
        "from sklearn.metrics import confusion_matrix, classification_report\n",
        "import os\n",
        "import matplotlib.pyplot as plt\n",
        "import seaborn as sns\n",
        "\n",
        "# custom utilities\n",
        "import util.dict_util as du\n",
        "import util.plot_util as pu\n",
        "import util.keras_util as ku\n",
        "import util.file_util as fu\n",
        "\n",
        "\n",
        "sns.set()\n",
        "\n",
        "DRIVE_DIR = \"drive/My Drive/Springboard/capstone\"\n",
        "DATE_FORMAT = '%Y-%m-%d'\n",
        "TIME_FORMAT = '%Y-%m-%d %H:%M:%S'\n",
        "DATA_FILE = f\"{DRIVE_DIR}/data/amazon_reviews_us_Wireless_v1_00-preprocessed-110k.csv\"\n",
        "FEATURE_COLUMN = \"star_rating\"\n",
        "REVIEW_COLUMN = \"review_body\"\n",
        "\n"
      ],
      "execution_count": 2,
      "outputs": [
        {
          "output_type": "stream",
          "text": [
            "Using TensorFlow backend.\n"
          ],
          "name": "stderr"
        }
      ]
    },
    {
      "cell_type": "code",
      "metadata": {
        "id": "1ezZcc-MerzR",
        "colab_type": "code",
        "colab": {}
      },
      "source": [
        "# load data file\n",
        "df = pd.read_csv(f\"{DATA_FILE}\")\n",
        "\n",
        "# extract feature and label columns\n",
        "rating = df[FEATURE_COLUMN]\n",
        "reviews = df[REVIEW_COLUMN]"
      ],
      "execution_count": 0,
      "outputs": []
    },
    {
      "cell_type": "markdown",
      "metadata": {
        "id": "tCT5uM_Zetox",
        "colab_type": "text"
      },
      "source": [
        "# Preprocessing\n",
        "\n",
        "Same as previous notebooks but consolidated to one cell to make thing easier to understand\n",
        "\n",
        "Features:\n",
        "* tokenize our review body - this gives us:\n",
        "  * vocab size: 40788 words\n",
        "* then we will pad the sequences to length 186 since this encapsulates 99% of the lenght of our training data\n",
        "\n",
        "Labels:\n",
        "* one hot encode our star rating labels (y)\n"
      ]
    },
    {
      "cell_type": "code",
      "metadata": {
        "id": "rnM8yh33er5S",
        "colab_type": "code",
        "outputId": "3e262498-9ee4-46dd-ba73-d8ebed6b9750",
        "colab": {
          "base_uri": "https://localhost:8080/",
          "height": 159
        }
      },
      "source": [
        "from keras.preprocessing.text import Tokenizer\n",
        "from keras.preprocessing import sequence\n",
        "from sklearn.preprocessing import LabelEncoder\n",
        "\n",
        "\n",
        "# pre-process our lables\n",
        "# one hot encode our star ratings since Keras/TF requires this for the labels\n",
        "y = OneHotEncoder().fit_transform(rating.values.reshape(len(rating), 1)).toarray()\n",
        "\n",
        "\n",
        "# split our data into train and test sets\n",
        "reviews_train, reviews_test, y_train, y_test = train_test_split(reviews, y, random_state=1)\n",
        "\n",
        "\n",
        "# Pre-process our features (review body)\n",
        "t = Tokenizer()\n",
        "# fit the tokenizer on the documents\n",
        "t.fit_on_texts(reviews_train)\n",
        "# tokenize both our training and test data\n",
        "train_sequences = t.texts_to_sequences(reviews_train)\n",
        "test_sequences = t.texts_to_sequences(reviews_test)\n",
        "\n",
        "print(\"Vocabulary size={}\".format(len(t.word_counts)))\n",
        "print(\"Number of Documents={}\".format(t.document_count))\n",
        "\n",
        "# figure out 99% percentile for our max sequence length\n",
        "df[\"review_length\"] = df.review_body.apply(lambda x: len(x.split()))\n",
        "MAX_SEQUENCE_LENGTH = int(df.review_length.quantile([0.99]).values[0])\n",
        "print(f'Max Sequence Length: {MAX_SEQUENCE_LENGTH}')\n",
        "\n",
        "# pad our reviews to the max sequence length\n",
        "X_train = sequence.pad_sequences(train_sequences, maxlen=MAX_SEQUENCE_LENGTH)\n",
        "X_test = sequence.pad_sequences(test_sequences, maxlen=MAX_SEQUENCE_LENGTH)\n",
        "\n"
      ],
      "execution_count": 4,
      "outputs": [
        {
          "output_type": "stream",
          "text": [
            "/usr/local/lib/python3.6/dist-packages/sklearn/preprocessing/_encoders.py:415: FutureWarning: The handling of integer data will change in version 0.22. Currently, the categories are determined based on the range [0, max(values)], while in the future they will be determined based on the unique values.\n",
            "If you want the future behaviour and silence this warning, you can specify \"categories='auto'\".\n",
            "In case you used a LabelEncoder before this OneHotEncoder to convert the categories to integers, then you can now use the OneHotEncoder directly.\n",
            "  warnings.warn(msg, FutureWarning)\n"
          ],
          "name": "stderr"
        },
        {
          "output_type": "stream",
          "text": [
            "Vocabulary size=40788\n",
            "Number of Documents=84032\n",
            "Max Sequence Length: 186\n"
          ],
          "name": "stdout"
        }
      ]
    },
    {
      "cell_type": "markdown",
      "metadata": {
        "id": "DDWUQkr8e6q0",
        "colab_type": "text"
      },
      "source": [
        "# Build Our 3 Layer Model With Pooling In Between Layers\n",
        "\n",
        "* we will use embedding size of 300 since this gave us slight improvement from previous notebook for class 1 and 2"
      ]
    },
    {
      "cell_type": "code",
      "metadata": {
        "id": "JZO-xLrRe146",
        "colab_type": "code",
        "colab": {}
      },
      "source": [
        "MODEL_NAME3 = \"CNN_3layer_with_pooling_early_stop\"\n",
        "EMBED_SIZE = 300\n",
        "EPOCHS  = 15\n",
        "BATCH_SIZE = 128\n",
        "VOCAB_SIZE = len(t.word_counts)+1\n"
      ],
      "execution_count": 0,
      "outputs": []
    },
    {
      "cell_type": "code",
      "metadata": {
        "id": "pZwoKs5Ke17z",
        "colab_type": "code",
        "colab": {
          "base_uri": "https://localhost:8080/",
          "height": 263
        },
        "outputId": "507638a1-a6bd-4e68-da57-d539e0464b47"
      },
      "source": [
        "model3 = Sequential()\n",
        "model3.add(Embedding(VOCAB_SIZE, EMBED_SIZE, input_length=MAX_SEQUENCE_LENGTH))\n",
        "model3.add(Conv1D(filters=100, kernel_size=3, padding='same', activation='relu'))\n",
        "model3.add(MaxPooling1D(pool_size=2))\n",
        "model3.add(Conv1D(filters=100, kernel_size=3, padding='same', activation='relu'))\n",
        "model3.add(MaxPooling1D(pool_size=2))\n",
        "model3.add(Conv1D(filters=100, kernel_size=3, padding='same', activation='relu'))\n",
        "model3.add(MaxPooling1D(pool_size=2))\n",
        "model3.add(Flatten())\n",
        "model3.add(Dense(250, activation='relu'))\n",
        "model3.add(Dense(5, activation='softmax'))\n",
        "model3.compile(loss='categorical_crossentropy', optimizer='adam', metrics=['accuracy'])\n"
      ],
      "execution_count": 6,
      "outputs": [
        {
          "output_type": "stream",
          "text": [
            "WARNING: Logging before flag parsing goes to stderr.\n",
            "W0725 17:28:02.534390 140548307416960 deprecation_wrapper.py:119] From /usr/local/lib/python3.6/dist-packages/keras/backend/tensorflow_backend.py:74: The name tf.get_default_graph is deprecated. Please use tf.compat.v1.get_default_graph instead.\n",
            "\n",
            "W0725 17:28:02.557205 140548307416960 deprecation_wrapper.py:119] From /usr/local/lib/python3.6/dist-packages/keras/backend/tensorflow_backend.py:517: The name tf.placeholder is deprecated. Please use tf.compat.v1.placeholder instead.\n",
            "\n",
            "W0725 17:28:02.561341 140548307416960 deprecation_wrapper.py:119] From /usr/local/lib/python3.6/dist-packages/keras/backend/tensorflow_backend.py:4138: The name tf.random_uniform is deprecated. Please use tf.random.uniform instead.\n",
            "\n",
            "W0725 17:28:02.597107 140548307416960 deprecation_wrapper.py:119] From /usr/local/lib/python3.6/dist-packages/keras/backend/tensorflow_backend.py:3976: The name tf.nn.max_pool is deprecated. Please use tf.nn.max_pool2d instead.\n",
            "\n",
            "W0725 17:28:02.682382 140548307416960 deprecation_wrapper.py:119] From /usr/local/lib/python3.6/dist-packages/keras/optimizers.py:790: The name tf.train.Optimizer is deprecated. Please use tf.compat.v1.train.Optimizer instead.\n",
            "\n",
            "W0725 17:28:02.707775 140548307416960 deprecation_wrapper.py:119] From /usr/local/lib/python3.6/dist-packages/keras/backend/tensorflow_backend.py:3295: The name tf.log is deprecated. Please use tf.math.log instead.\n",
            "\n"
          ],
          "name": "stderr"
        }
      ]
    },
    {
      "cell_type": "code",
      "metadata": {
        "id": "Elohie4Je1-9",
        "colab_type": "code",
        "outputId": "144347a8-d45a-4cce-ec67-fad224a356d5",
        "colab": {
          "base_uri": "https://localhost:8080/",
          "height": 503
        }
      },
      "source": [
        "print(model3.summary())"
      ],
      "execution_count": 7,
      "outputs": [
        {
          "output_type": "stream",
          "text": [
            "_________________________________________________________________\n",
            "Layer (type)                 Output Shape              Param #   \n",
            "=================================================================\n",
            "embedding_1 (Embedding)      (None, 186, 300)          12236700  \n",
            "_________________________________________________________________\n",
            "conv1d_1 (Conv1D)            (None, 186, 100)          90100     \n",
            "_________________________________________________________________\n",
            "max_pooling1d_1 (MaxPooling1 (None, 93, 100)           0         \n",
            "_________________________________________________________________\n",
            "conv1d_2 (Conv1D)            (None, 93, 100)           30100     \n",
            "_________________________________________________________________\n",
            "max_pooling1d_2 (MaxPooling1 (None, 46, 100)           0         \n",
            "_________________________________________________________________\n",
            "conv1d_3 (Conv1D)            (None, 46, 100)           30100     \n",
            "_________________________________________________________________\n",
            "max_pooling1d_3 (MaxPooling1 (None, 23, 100)           0         \n",
            "_________________________________________________________________\n",
            "flatten_1 (Flatten)          (None, 2300)              0         \n",
            "_________________________________________________________________\n",
            "dense_1 (Dense)              (None, 250)               575250    \n",
            "_________________________________________________________________\n",
            "dense_2 (Dense)              (None, 5)                 1255      \n",
            "=================================================================\n",
            "Total params: 12,963,505\n",
            "Trainable params: 12,963,505\n",
            "Non-trainable params: 0\n",
            "_________________________________________________________________\n",
            "None\n"
          ],
          "name": "stdout"
        }
      ]
    },
    {
      "cell_type": "code",
      "metadata": {
        "id": "PWc965qVer_G",
        "colab_type": "code",
        "outputId": "aea1fa65-c37e-48e4-fbb3-75552d4855f6",
        "colab": {
          "base_uri": "https://localhost:8080/",
          "height": 297
        }
      },
      "source": [
        "# this is ame as before\n",
        "early_stop = EarlyStopping(monitor='val_loss', patience=2, verbose=1)\n",
        "network_history3 = model3.fit(X_train, y_train,\n",
        "                      batch_size=BATCH_SIZE,\n",
        "                      epochs=EPOCHS,\n",
        "                      verbose=1,\n",
        "                      validation_split=0.2,\n",
        "                      callbacks=[early_stop])"
      ],
      "execution_count": 8,
      "outputs": [
        {
          "output_type": "stream",
          "text": [
            "W0725 17:28:02.850344 140548307416960 deprecation.py:323] From /usr/local/lib/python3.6/dist-packages/tensorflow/python/ops/math_grad.py:1250: add_dispatch_support.<locals>.wrapper (from tensorflow.python.ops.array_ops) is deprecated and will be removed in a future version.\n",
            "Instructions for updating:\n",
            "Use tf.where in 2.0, which has the same broadcast rule as np.where\n",
            "W0725 17:28:02.995320 140548307416960 deprecation_wrapper.py:119] From /usr/local/lib/python3.6/dist-packages/keras/backend/tensorflow_backend.py:986: The name tf.assign_add is deprecated. Please use tf.compat.v1.assign_add instead.\n",
            "\n"
          ],
          "name": "stderr"
        },
        {
          "output_type": "stream",
          "text": [
            "Train on 67225 samples, validate on 16807 samples\n",
            "Epoch 1/15\n",
            "67225/67225 [==============================] - 357s 5ms/step - loss: 0.9423 - acc: 0.6372 - val_loss: 0.8702 - val_acc: 0.6647\n",
            "Epoch 2/15\n",
            "67225/67225 [==============================] - 360s 5ms/step - loss: 0.7416 - acc: 0.7095 - val_loss: 0.8543 - val_acc: 0.6725\n",
            "Epoch 3/15\n",
            "67225/67225 [==============================] - 359s 5ms/step - loss: 0.6117 - acc: 0.7609 - val_loss: 0.9391 - val_acc: 0.6629\n",
            "Epoch 4/15\n",
            "67225/67225 [==============================] - 363s 5ms/step - loss: 0.4856 - acc: 0.8129 - val_loss: 1.0135 - val_acc: 0.6563\n",
            "Epoch 00004: early stopping\n"
          ],
          "name": "stdout"
        }
      ]
    },
    {
      "cell_type": "markdown",
      "metadata": {
        "id": "1MoXcC8Vfqav",
        "colab_type": "text"
      },
      "source": [
        "## Get Metrics for our 3 Layer Model with Pooling"
      ]
    },
    {
      "cell_type": "code",
      "metadata": {
        "id": "haQ-0EA7esCV",
        "colab_type": "code",
        "outputId": "0ce3aa59-644f-428e-d8d5-214cca57b4e0",
        "colab": {
          "base_uri": "https://localhost:8080/",
          "height": 52
        }
      },
      "source": [
        "# get scores\n",
        "scores3 = model3.evaluate(X_test, y_test, verbose=1)\n",
        "print(\"Accuracy: %.2f%%\" % (scores3[1]*100))"
      ],
      "execution_count": 9,
      "outputs": [
        {
          "output_type": "stream",
          "text": [
            "28011/28011 [==============================] - 37s 1ms/step\n",
            "Accuracy: 65.97%\n"
          ],
          "name": "stdout"
        }
      ]
    },
    {
      "cell_type": "code",
      "metadata": {
        "id": "cxPaQv4qfxWm",
        "colab_type": "code",
        "colab": {}
      },
      "source": [
        "y_predict3 = model3.predict(X_test)"
      ],
      "execution_count": 0,
      "outputs": []
    },
    {
      "cell_type": "code",
      "metadata": {
        "id": "tgGhRMHOfxZq",
        "colab_type": "code",
        "colab": {}
      },
      "source": [
        "y_predict_unencoded3 = ku.unencode(y_predict3)\n",
        "y_test_unencoded = ku.unencode(y_test)"
      ],
      "execution_count": 0,
      "outputs": []
    },
    {
      "cell_type": "code",
      "metadata": {
        "id": "6ug3hOApfxdJ",
        "colab_type": "code",
        "colab": {}
      },
      "source": [
        "cm3 = confusion_matrix(y_test_unencoded, y_predict_unencoded3)"
      ],
      "execution_count": 0,
      "outputs": []
    },
    {
      "cell_type": "code",
      "metadata": {
        "id": "2AGh1MfufxlG",
        "colab_type": "code",
        "colab": {}
      },
      "source": [
        "roc_auc3, fpr3, tpr3 = ku.calculate_roc_auc(y_test, y_predict3)"
      ],
      "execution_count": 0,
      "outputs": []
    },
    {
      "cell_type": "markdown",
      "metadata": {
        "id": "pFW9FToUgAyc",
        "colab_type": "text"
      },
      "source": [
        "## Save our model"
      ]
    },
    {
      "cell_type": "code",
      "metadata": {
        "id": "dcqmos5gfxoK",
        "colab_type": "code",
        "colab": {}
      },
      "source": [
        "directory, INBASENAME = fu.get_dir_basename(DATA_FILE)\n",
        "DESCRIPTION = f\"{INBASENAME}-nosmote-{MODEL_NAME3}-{MAX_SEQUENCE_LENGTH}-{FEATURE_COLUMN}\"\n",
        "MODEL_FILE = f\"{DRIVE_DIR}/models/{datetime.now().strftime(DATE_FORMAT)}-{DESCRIPTION}.h5\"\n",
        "NETWORK_HISTORY_FILE = f'{DRIVE_DIR}/models/{datetime.now().strftime(DATE_FORMAT)}-{DESCRIPTION}-history.pkl'\n",
        "REPORT_FILE = f\"{DRIVE_DIR}/reports/{datetime.now().strftime(DATE_FORMAT)}-DNN_protype-report.csv\"\n",
        "TOKENIZER_FILE = f'{DRIVE_DIR}/models/{datetime.now().strftime(DATE_FORMAT)}-{DESCRIPTION}-tokenizer.pkl'\n",
        "\n",
        "model3.save(MODEL_FILE)\n",
        "pickle.dump(network_history3, open(NETWORK_HISTORY_FILE, \"wb\"))\n",
        "pickle.dump(t, open(TOKENIZER_FILE, \"wb\"))"
      ],
      "execution_count": 0,
      "outputs": []
    },
    {
      "cell_type": "markdown",
      "metadata": {
        "id": "QtG_gJC6gI8A",
        "colab_type": "text"
      },
      "source": [
        "## Generate and save our Report"
      ]
    },
    {
      "cell_type": "code",
      "metadata": {
        "id": "kGjBNZhKgEc-",
        "colab_type": "code",
        "colab": {}
      },
      "source": [
        "# generate report dictionary\n",
        "report = {}\n",
        "report = du.add_dict_to_dict(report, classification_report(y_test_unencoded, y_predict_unencoded3, output_dict=True))\n",
        "report = du.add_dict_to_dict(report, roc_auc3)\n",
        "report[\"confusion_matrix\"] = cm3\n",
        "report[\"tpr\"] = tpr3\n",
        "report[\"fpr\"] = fpr3\n",
        "report[\"loss\"] = scores3[0]\n",
        "report[\"accuracy\"] = scores3[1]\n",
        "report[\"description\"] = DESCRIPTION\n",
        "report[\"file\"] = DATA_FILE\n",
        "report[\"network_history_file\"] = NETWORK_HISTORY_FILE\n",
        "report[\"tokenizer_file\"] = TOKENIZER_FILE\n",
        "report[\"max_sequence_length\"] = MAX_SEQUENCE_LENGTH\n",
        "report[\"embedding\"] = EMBED_SIZE\n",
        "report[\"model_file\"] = MODEL_FILE\n",
        "report[\"model_name\"] = MODEL_NAME3\n",
        "report[\"test_examples\"] = X_test.shape[0]\n",
        "report[\"test_features\"] = X_test.shape[1]\n",
        "report[\"train_examples\"] = X_train.shape[0]\n",
        "report[\"train_features\"] = X_train.shape[1]\n",
        "report[\"status\"] = \"success\"\n",
        "report[\"status_date\"] = datetime.now().strftime(TIME_FORMAT)"
      ],
      "execution_count": 0,
      "outputs": []
    },
    {
      "cell_type": "code",
      "metadata": {
        "id": "JN_-o3tSgEgE",
        "colab_type": "code",
        "outputId": "07e14d30-95f1-4808-aea5-3d0053408a16",
        "colab": {
          "base_uri": "https://localhost:8080/",
          "height": 169
        }
      },
      "source": [
        "# check to see if report file exisits, if so load it and append\n",
        "exists = os.path.isfile(REPORT_FILE)\n",
        "if exists:\n",
        "    report_df = pd.read_csv(REPORT_FILE)\n",
        "else:\n",
        "    report_df = pd.DataFrame()\n",
        "    \n",
        "report_df = report_df.append(report, ignore_index=True)\n",
        "# save report\n",
        "report_df.to_csv(REPORT_FILE, index=False)\n",
        "\n",
        "report_df.head()"
      ],
      "execution_count": 17,
      "outputs": [
        {
          "output_type": "execute_result",
          "data": {
            "text/html": [
              "<div>\n",
              "<style scoped>\n",
              "    .dataframe tbody tr th:only-of-type {\n",
              "        vertical-align: middle;\n",
              "    }\n",
              "\n",
              "    .dataframe tbody tr th {\n",
              "        vertical-align: top;\n",
              "    }\n",
              "\n",
              "    .dataframe thead th {\n",
              "        text-align: right;\n",
              "    }\n",
              "</style>\n",
              "<table border=\"1\" class=\"dataframe\">\n",
              "  <thead>\n",
              "    <tr style=\"text-align: right;\">\n",
              "      <th></th>\n",
              "      <th>1_f1-score</th>\n",
              "      <th>1_precision</th>\n",
              "      <th>1_recall</th>\n",
              "      <th>1_support</th>\n",
              "      <th>2_f1-score</th>\n",
              "      <th>2_precision</th>\n",
              "      <th>2_recall</th>\n",
              "      <th>2_support</th>\n",
              "      <th>3_f1-score</th>\n",
              "      <th>3_precision</th>\n",
              "      <th>3_recall</th>\n",
              "      <th>3_support</th>\n",
              "      <th>4_f1-score</th>\n",
              "      <th>4_precision</th>\n",
              "      <th>4_recall</th>\n",
              "      <th>4_support</th>\n",
              "      <th>5_f1-score</th>\n",
              "      <th>5_precision</th>\n",
              "      <th>5_recall</th>\n",
              "      <th>5_support</th>\n",
              "      <th>accuracy</th>\n",
              "      <th>auc_1</th>\n",
              "      <th>auc_2</th>\n",
              "      <th>auc_3</th>\n",
              "      <th>auc_4</th>\n",
              "      <th>auc_5</th>\n",
              "      <th>auc_macro</th>\n",
              "      <th>auc_micro</th>\n",
              "      <th>confusion_matrix</th>\n",
              "      <th>description</th>\n",
              "      <th>embedding</th>\n",
              "      <th>file</th>\n",
              "      <th>fpr</th>\n",
              "      <th>loss</th>\n",
              "      <th>macro avg_f1-score</th>\n",
              "      <th>macro avg_precision</th>\n",
              "      <th>macro avg_recall</th>\n",
              "      <th>macro avg_support</th>\n",
              "      <th>max_sequence_length</th>\n",
              "      <th>model_file</th>\n",
              "      <th>model_name</th>\n",
              "      <th>network_history_file</th>\n",
              "      <th>status</th>\n",
              "      <th>status_date</th>\n",
              "      <th>test_examples</th>\n",
              "      <th>test_features</th>\n",
              "      <th>tokenizer_file</th>\n",
              "      <th>tpr</th>\n",
              "      <th>train_examples</th>\n",
              "      <th>train_features</th>\n",
              "      <th>weighted avg_f1-score</th>\n",
              "      <th>weighted avg_precision</th>\n",
              "      <th>weighted avg_recall</th>\n",
              "      <th>weighted avg_support</th>\n",
              "    </tr>\n",
              "  </thead>\n",
              "  <tbody>\n",
              "    <tr>\n",
              "      <th>0</th>\n",
              "      <td>0.699892</td>\n",
              "      <td>0.668502</td>\n",
              "      <td>0.734375</td>\n",
              "      <td>3968.0</td>\n",
              "      <td>0.208247</td>\n",
              "      <td>0.291627</td>\n",
              "      <td>0.161945</td>\n",
              "      <td>1871.0</td>\n",
              "      <td>0.309842</td>\n",
              "      <td>0.317823</td>\n",
              "      <td>0.302252</td>\n",
              "      <td>2531.0</td>\n",
              "      <td>0.349922</td>\n",
              "      <td>0.40936</td>\n",
              "      <td>0.305556</td>\n",
              "      <td>4752.0</td>\n",
              "      <td>0.82693</td>\n",
              "      <td>0.783</td>\n",
              "      <td>0.876083</td>\n",
              "      <td>14889.0</td>\n",
              "      <td>0.659669</td>\n",
              "      <td>0.944717</td>\n",
              "      <td>0.847903</td>\n",
              "      <td>0.809665</td>\n",
              "      <td>0.731212</td>\n",
              "      <td>0.872641</td>\n",
              "      <td>0.841251</td>\n",
              "      <td>0.89964</td>\n",
              "      <td>[[2914, 352, 369, 86, 247], [721, 303, 466, 16...</td>\n",
              "      <td>amazon_reviews_us_Wireless_v1_00-preprocessed-...</td>\n",
              "      <td>300.0</td>\n",
              "      <td>drive/My Drive/Springboard/capstone/data/amazo...</td>\n",
              "      <td>{0: [0.0, 0.0, 0.0, 4.159214740257039e-05, 4.1...</td>\n",
              "      <td>1.011368</td>\n",
              "      <td>0.478967</td>\n",
              "      <td>0.494062</td>\n",
              "      <td>0.476042</td>\n",
              "      <td>28011.0</td>\n",
              "      <td>186.0</td>\n",
              "      <td>drive/My Drive/Springboard/capstone/models/201...</td>\n",
              "      <td>CNN_3layer_with_pooling_early_stop</td>\n",
              "      <td>drive/My Drive/Springboard/capstone/models/201...</td>\n",
              "      <td>success</td>\n",
              "      <td>2019-07-25 18:13:11</td>\n",
              "      <td>28011.0</td>\n",
              "      <td>186.0</td>\n",
              "      <td>drive/My Drive/Springboard/capstone/models/201...</td>\n",
              "      <td>{0: [0.0, 0.00025201612903225806, 0.0022681451...</td>\n",
              "      <td>84032.0</td>\n",
              "      <td>186.0</td>\n",
              "      <td>0.639963</td>\n",
              "      <td>0.62854</td>\n",
              "      <td>0.659669</td>\n",
              "      <td>28011.0</td>\n",
              "    </tr>\n",
              "  </tbody>\n",
              "</table>\n",
              "</div>"
            ],
            "text/plain": [
              "   1_f1-score  1_precision  ...  weighted avg_recall  weighted avg_support\n",
              "0    0.699892     0.668502  ...             0.659669               28011.0\n",
              "\n",
              "[1 rows x 54 columns]"
            ]
          },
          "metadata": {
            "tags": []
          },
          "execution_count": 17
        }
      ]
    },
    {
      "cell_type": "markdown",
      "metadata": {
        "id": "NBlcP6QBgUfb",
        "colab_type": "text"
      },
      "source": [
        "# Build Our 3 Layer Model With Pooling In Between Layers - Do not use early stop this time\n",
        "\n",
        "* we will use embedding size of 300 since this gave us slight improvement from previous notebook for class 1 and 2"
      ]
    },
    {
      "cell_type": "code",
      "metadata": {
        "id": "20yc6gH0gElW",
        "colab_type": "code",
        "outputId": "5c3e6481-4741-4e10-a7a6-ed2ca625291c",
        "colab": {
          "base_uri": "https://localhost:8080/",
          "height": 575
        }
      },
      "source": [
        "MODEL_NAME = \"CNN_3layer_with_pooling_10_epoch\"\n",
        "\n",
        "model = Sequential()\n",
        "model.add(Embedding(VOCAB_SIZE, EMBED_SIZE, input_length=MAX_SEQUENCE_LENGTH))\n",
        "model.add(Conv1D(filters=100, kernel_size=3, padding='same', activation='relu'))\n",
        "model.add(MaxPooling1D(pool_size=2))\n",
        "model.add(Conv1D(filters=100, kernel_size=3, padding='same', activation='relu'))\n",
        "model.add(MaxPooling1D(pool_size=2))\n",
        "model.add(Conv1D(filters=100, kernel_size=3, padding='same', activation='relu'))\n",
        "model.add(MaxPooling1D(pool_size=2))\n",
        "model.add(Flatten())\n",
        "model.add(Dense(250, activation='relu'))\n",
        "model.add(Dense(5, activation='softmax'))\n",
        "model.compile(loss='categorical_crossentropy', optimizer='adam', metrics=['accuracy'])\n",
        "\n",
        "network_history = model.fit(X_train, y_train,\n",
        "                      batch_size=BATCH_SIZE,\n",
        "                      epochs=EPOCHS,\n",
        "                      verbose=1,\n",
        "                      validation_split=0.2)"
      ],
      "execution_count": 18,
      "outputs": [
        {
          "output_type": "stream",
          "text": [
            "Train on 67225 samples, validate on 16807 samples\n",
            "Epoch 1/15\n",
            "67225/67225 [==============================] - 370s 6ms/step - loss: 1.0518 - acc: 0.6063 - val_loss: 0.9496 - val_acc: 0.6413\n",
            "Epoch 2/15\n",
            "67225/67225 [==============================] - 369s 5ms/step - loss: 0.8582 - acc: 0.6757 - val_loss: 0.9299 - val_acc: 0.6503\n",
            "Epoch 3/15\n",
            "67225/67225 [==============================] - 367s 5ms/step - loss: 0.7333 - acc: 0.7237 - val_loss: 0.9971 - val_acc: 0.6418\n",
            "Epoch 4/15\n",
            "67225/67225 [==============================] - 368s 5ms/step - loss: 0.6226 - acc: 0.7697 - val_loss: 1.1064 - val_acc: 0.6172\n",
            "Epoch 5/15\n",
            "67225/67225 [==============================] - 369s 5ms/step - loss: 0.5242 - acc: 0.8096 - val_loss: 1.2675 - val_acc: 0.5978\n",
            "Epoch 6/15\n",
            "67225/67225 [==============================] - 369s 5ms/step - loss: 0.4451 - acc: 0.8400 - val_loss: 1.5238 - val_acc: 0.5979\n",
            "Epoch 7/15\n",
            "67225/67225 [==============================] - 370s 6ms/step - loss: 0.3891 - acc: 0.8638 - val_loss: 1.7009 - val_acc: 0.5990\n",
            "Epoch 8/15\n",
            "67225/67225 [==============================] - 368s 5ms/step - loss: 0.3435 - acc: 0.8840 - val_loss: 1.8608 - val_acc: 0.5955\n",
            "Epoch 9/15\n",
            "67225/67225 [==============================] - 373s 6ms/step - loss: 0.3122 - acc: 0.8942 - val_loss: 2.1110 - val_acc: 0.5835\n",
            "Epoch 10/15\n",
            "67225/67225 [==============================] - 370s 5ms/step - loss: 0.2889 - acc: 0.9042 - val_loss: 2.2066 - val_acc: 0.5767\n",
            "Epoch 11/15\n",
            "67225/67225 [==============================] - 372s 6ms/step - loss: 0.2723 - acc: 0.9099 - val_loss: 2.3097 - val_acc: 0.5843\n",
            "Epoch 12/15\n",
            "67225/67225 [==============================] - 366s 5ms/step - loss: 0.2559 - acc: 0.9155 - val_loss: 2.4405 - val_acc: 0.5946\n",
            "Epoch 13/15\n",
            "67225/67225 [==============================] - 369s 5ms/step - loss: 0.2427 - acc: 0.9213 - val_loss: 2.5145 - val_acc: 0.5826\n",
            "Epoch 14/15\n",
            "67225/67225 [==============================] - 372s 6ms/step - loss: 0.2333 - acc: 0.9252 - val_loss: 2.5304 - val_acc: 0.5947\n",
            "Epoch 15/15\n",
            "67225/67225 [==============================] - 365s 5ms/step - loss: 0.2323 - acc: 0.9254 - val_loss: 2.7316 - val_acc: 0.5886\n"
          ],
          "name": "stdout"
        }
      ]
    },
    {
      "cell_type": "code",
      "metadata": {
        "id": "W7ICd8tJh_DI",
        "colab_type": "code",
        "colab": {}
      },
      "source": [
        "MODEL_NAME = \"CNN_3layer_with_pooling_15_epoch\"\n"
      ],
      "execution_count": 0,
      "outputs": []
    },
    {
      "cell_type": "markdown",
      "metadata": {
        "id": "D3qi55Ibg8C4",
        "colab_type": "text"
      },
      "source": [
        "## Get Metrics\n"
      ]
    },
    {
      "cell_type": "code",
      "metadata": {
        "id": "gf9kelp2gaJP",
        "colab_type": "code",
        "outputId": "392aa30a-c633-41d6-e2fe-c7ea4a4f1173",
        "colab": {
          "base_uri": "https://localhost:8080/",
          "height": 35
        }
      },
      "source": [
        "# get scores\n",
        "scores = model.evaluate(X_test, y_test, verbose=1)"
      ],
      "execution_count": 19,
      "outputs": [
        {
          "output_type": "stream",
          "text": [
            "28011/28011 [==============================] - 33s 1ms/step\n"
          ],
          "name": "stdout"
        }
      ]
    },
    {
      "cell_type": "code",
      "metadata": {
        "id": "enO5TBpJH0Zf",
        "colab_type": "code",
        "colab": {}
      },
      "source": [
        "y_predict = model.predict(X_test)"
      ],
      "execution_count": 0,
      "outputs": []
    },
    {
      "cell_type": "code",
      "metadata": {
        "id": "c7_xNKH8gaMZ",
        "colab_type": "code",
        "colab": {}
      },
      "source": [
        "y_predict_unencoded = ku.unencode(y_predict)\n",
        "y_test_unencoded = ku.unencode(y_test)"
      ],
      "execution_count": 0,
      "outputs": []
    },
    {
      "cell_type": "code",
      "metadata": {
        "id": "-XlGlN99jT5F",
        "colab_type": "code",
        "colab": {}
      },
      "source": [
        "cm = confusion_matrix(y_test_unencoded, y_predict_unencoded)"
      ],
      "execution_count": 0,
      "outputs": []
    },
    {
      "cell_type": "code",
      "metadata": {
        "id": "njr0ybkOgaP3",
        "colab_type": "code",
        "colab": {}
      },
      "source": [
        "# get ROC/AUC\n",
        "roc_auc, fpr, tpr = ku.calculate_roc_auc(y_test, y_predict)"
      ],
      "execution_count": 0,
      "outputs": []
    },
    {
      "cell_type": "markdown",
      "metadata": {
        "id": "gfZloqSFh9dX",
        "colab_type": "text"
      },
      "source": [
        "## Save off our model files"
      ]
    },
    {
      "cell_type": "code",
      "metadata": {
        "id": "2WZTS31wgaU1",
        "colab_type": "code",
        "colab": {}
      },
      "source": [
        "directory, INBASENAME = fu.get_dir_basename(DATA_FILE)\n",
        "DESCRIPTION = f\"{INBASENAME}-nosmote-{MODEL_NAME}-{MAX_SEQUENCE_LENGTH}-{FEATURE_COLUMN}\"\n",
        "MODEL_FILE = f\"{DRIVE_DIR}/models/{datetime.now().strftime(DATE_FORMAT)}-{DESCRIPTION}.h5\"\n",
        "NETWORK_HISTORY_FILE = f'{DRIVE_DIR}/models/{datetime.now().strftime(DATE_FORMAT)}-{DESCRIPTION}-history.pkl'\n",
        "REPORT_FILE = f\"{DRIVE_DIR}/reports/{datetime.now().strftime(DATE_FORMAT)}-DNN_protype-report.csv\"\n",
        "TOKENIZER_FILE = f'{DRIVE_DIR}/models/{datetime.now().strftime(DATE_FORMAT)}-{DESCRIPTION}-tokenizer.pkl'\n",
        "\n",
        "model.save(MODEL_FILE)\n",
        "pickle.dump(network_history, open(NETWORK_HISTORY_FILE, \"wb\"))\n",
        "pickle.dump(t, open(TOKENIZER_FILE, \"wb\"))"
      ],
      "execution_count": 0,
      "outputs": []
    },
    {
      "cell_type": "markdown",
      "metadata": {
        "id": "zFzJDWi0iA6G",
        "colab_type": "text"
      },
      "source": [
        "## Save off the report"
      ]
    },
    {
      "cell_type": "code",
      "metadata": {
        "id": "vjgrkh-zgaYS",
        "colab_type": "code",
        "colab": {}
      },
      "source": [
        "# generate report dictionary\n",
        "report = {}\n",
        "report = du.add_dict_to_dict(report, classification_report(y_test_unencoded, y_predict_unencoded, output_dict=True))\n",
        "report = du.add_dict_to_dict(report, roc_auc)\n",
        "report[\"confusion_matrix\"] = cm\n",
        "report[\"tpr\"] = tpr\n",
        "report[\"fpr\"] = fpr\n",
        "report[\"loss\"] = scores[0]\n",
        "report[\"accuracy\"] = scores[1]\n",
        "report[\"description\"] = DESCRIPTION\n",
        "report[\"file\"] = DATA_FILE\n",
        "report[\"network_history_file\"] = NETWORK_HISTORY_FILE\n",
        "report[\"tokenizer_file\"] = TOKENIZER_FILE\n",
        "report[\"max_sequence_length\"] = MAX_SEQUENCE_LENGTH\n",
        "report[\"embedding\"] = EMBED_SIZE\n",
        "report[\"model_file\"] = MODEL_FILE\n",
        "report[\"model_name\"] = MODEL_NAME\n",
        "report[\"test_examples\"] = X_test.shape[0]\n",
        "report[\"test_features\"] = X_test.shape[1]\n",
        "report[\"train_examples\"] = X_train.shape[0]\n",
        "report[\"train_features\"] = X_train.shape[1]\n",
        "report[\"status\"] = \"success\"\n",
        "report[\"status_date\"] = datetime.now().strftime(TIME_FORMAT)\n",
        "\n"
      ],
      "execution_count": 0,
      "outputs": []
    },
    {
      "cell_type": "code",
      "metadata": {
        "id": "fuZ4sclcgadL",
        "colab_type": "code",
        "colab": {}
      },
      "source": [
        "# check to see if report file exisits, if so load it and append\n",
        "exists = os.path.isfile(REPORT_FILE)\n",
        "if exists:\n",
        "    report_df = pd.read_csv(REPORT_FILE)\n",
        "else:\n",
        "    report_df = pd.DataFrame()\n",
        "    \n",
        "report_df = report_df.append(report, ignore_index=True)\n",
        "# save report\n",
        "report_df.to_csv(REPORT_FILE, index=False)\n",
        "\n"
      ],
      "execution_count": 0,
      "outputs": []
    },
    {
      "cell_type": "markdown",
      "metadata": {
        "id": "hQsXCHbXiI14",
        "colab_type": "text"
      },
      "source": [
        "# Print metrics for the 2 models and compare\n",
        "\n",
        "\n",
        "* look at accuracy scores\n",
        "* epoch vs loss and accuarcy\n",
        "* confusion matrix\n",
        "* ROC/AUC plot"
      ]
    },
    {
      "cell_type": "code",
      "metadata": {
        "id": "HNgGwhLoiwhz",
        "colab_type": "code",
        "colab": {}
      },
      "source": [
        "TITLE_EARLY_STOP = \"Early Stop\"\n",
        "TITLE_15_EPOCHS = \"15 Epochs\""
      ],
      "execution_count": 0,
      "outputs": []
    },
    {
      "cell_type": "code",
      "metadata": {
        "id": "qe5NnpQvgabu",
        "colab_type": "code",
        "outputId": "efaa8932-2a01-4bc7-9001-6a6abffafd50",
        "colab": {
          "base_uri": "https://localhost:8080/",
          "height": 52
        }
      },
      "source": [
        "print(f\"Accuracy - {TITLE_EARLY_STOP}: %.2f%%\" % (scores3[1]*100))\n",
        "print(f\"Accuracy - {TITLE_15_EPOCHS}: %.2f%%\" % (scores[1]*100))"
      ],
      "execution_count": 42,
      "outputs": [
        {
          "output_type": "stream",
          "text": [
            "Accuracy - Early Stop: 65.97%\n",
            "Accuracy - 15 Epochs: 59.83%\n"
          ],
          "name": "stdout"
        }
      ]
    },
    {
      "cell_type": "code",
      "metadata": {
        "id": "j9uXbDVkgaTd",
        "colab_type": "code",
        "outputId": "db91aa75-1830-441b-fb59-8a51971dfc97",
        "colab": {
          "base_uri": "https://localhost:8080/",
          "height": 363
        }
      },
      "source": [
        "print(TITLE_EARLY_STOP)\n",
        "pu.plot_network_history(network_history3)"
      ],
      "execution_count": 43,
      "outputs": [
        {
          "output_type": "stream",
          "text": [
            "Early Stop\n"
          ],
          "name": "stdout"
        },
        {
          "output_type": "display_data",
          "data": {
            "image/png": "[encoded data removed]",
            "text/plain": [
              "<Figure size 720x360 with 2 Axes>"
            ]
          },
          "metadata": {
            "tags": []
          }
        }
      ]
    },
    {
      "cell_type": "code",
      "metadata": {
        "id": "sx4X0osjgEjo",
        "colab_type": "code",
        "colab": {
          "base_uri": "https://localhost:8080/",
          "height": 363
        },
        "outputId": "f0aec65c-cae2-4a0e-a0b8-db9bfc4869d6"
      },
      "source": [
        "print(TITLE_15_EPOCHS)\n",
        "pu.plot_network_history(network_history)"
      ],
      "execution_count": 44,
      "outputs": [
        {
          "output_type": "stream",
          "text": [
            "15 Epochs\n"
          ],
          "name": "stdout"
        },
        {
          "output_type": "display_data",
          "data": {
            "image/png": "[encoded data removed]",
            "text/plain": [
              "<Figure size 720x360 with 2 Axes>"
            ]
          },
          "metadata": {
            "tags": []
          }
        }
      ]
    },
    {
      "cell_type": "code",
      "metadata": {
        "id": "Z_gdQj11fxqj",
        "colab_type": "code",
        "colab": {
          "base_uri": "https://localhost:8080/",
          "height": 121
        },
        "outputId": "1fafdb42-1f82-4cf9-ec50-4a56f3b6d3cf"
      },
      "source": [
        "print(f\"Confusion matrix - {TITLE_EARLY_STOP}\")\n",
        "cm3"
      ],
      "execution_count": 45,
      "outputs": [
        {
          "output_type": "stream",
          "text": [
            "Confusion matrix - Early Stop\n"
          ],
          "name": "stdout"
        },
        {
          "output_type": "execute_result",
          "data": {
            "text/plain": [
              "array([[ 2914,   352,   369,    86,   247],\n",
              "       [  721,   303,   466,   167,   214],\n",
              "       [  395,   252,   765,   557,   562],\n",
              "       [  139,    77,   492,  1452,  2592],\n",
              "       [  190,    55,   315,  1285, 13044]])"
            ]
          },
          "metadata": {
            "tags": []
          },
          "execution_count": 45
        }
      ]
    },
    {
      "cell_type": "code",
      "metadata": {
        "id": "i6_ivRA8jGCu",
        "colab_type": "code",
        "colab": {
          "base_uri": "https://localhost:8080/",
          "height": 121
        },
        "outputId": "5d1de2b3-5c32-477c-c916-7b697249f6c6"
      },
      "source": [
        "print(f\"Confusion matrix - {TITLE_15_EPOCHS}\")\n",
        "cm"
      ],
      "execution_count": 46,
      "outputs": [
        {
          "output_type": "stream",
          "text": [
            "Confusion matrix - 15 Epochs\n"
          ],
          "name": "stdout"
        },
        {
          "output_type": "execute_result",
          "data": {
            "text/plain": [
              "array([[ 2221,   734,   346,   122,   545],\n",
              "       [  534,   463,   355,   172,   347],\n",
              "       [  344,   433,   634,   483,   637],\n",
              "       [  175,   215,   540,  1387,  2435],\n",
              "       [  344,   178,   453,  1860, 12054]])"
            ]
          },
          "metadata": {
            "tags": []
          },
          "execution_count": 46
        }
      ]
    },
    {
      "cell_type": "markdown",
      "metadata": {
        "id": "eXv8CRJm7ljy",
        "colab_type": "text"
      },
      "source": [
        "### Confusion Matrix Analysis\n",
        "\n",
        "Overall, we identified less correctly in Star rating 1, 3, 4, and 5. However, we were able to correctly identify more samples in Star ratings 2. Number of star ratings 2's that were identified as star rating 1 or 3 decrease where was Star rating 2's that were identified as 4 or 5 increased"
      ]
    },
    {
      "cell_type": "code",
      "metadata": {
        "id": "MAtBX62MjGOR",
        "colab_type": "code",
        "colab": {
          "base_uri": "https://localhost:8080/",
          "height": 243
        },
        "outputId": "a494e234-a49d-499c-e5c1-3f80d734392e"
      },
      "source": [
        "print(f\"Classification Report - {TITLE_EARLY_STOP}\")\n",
        "print(classification_report(y_test_unencoded, y_predict_unencoded3))"
      ],
      "execution_count": 47,
      "outputs": [
        {
          "output_type": "stream",
          "text": [
            "Classification Report - Early Stop\n",
            "              precision    recall  f1-score   support\n",
            "\n",
            "           1       0.67      0.73      0.70      3968\n",
            "           2       0.29      0.16      0.21      1871\n",
            "           3       0.32      0.30      0.31      2531\n",
            "           4       0.41      0.31      0.35      4752\n",
            "           5       0.78      0.88      0.83     14889\n",
            "\n",
            "    accuracy                           0.66     28011\n",
            "   macro avg       0.49      0.48      0.48     28011\n",
            "weighted avg       0.63      0.66      0.64     28011\n",
            "\n"
          ],
          "name": "stdout"
        }
      ]
    },
    {
      "cell_type": "code",
      "metadata": {
        "id": "2v9G20UTjGLX",
        "colab_type": "code",
        "colab": {
          "base_uri": "https://localhost:8080/",
          "height": 243
        },
        "outputId": "e34deed3-859b-441e-a8c8-2c35f5f24eaf"
      },
      "source": [
        "print(f\"Classification Report - {TITLE_15_EPOCHS}\")\n",
        "print(classification_report(y_test_unencoded, y_predict_unencoded))"
      ],
      "execution_count": 48,
      "outputs": [
        {
          "output_type": "stream",
          "text": [
            "Classification Report - 15 Epochs\n",
            "              precision    recall  f1-score   support\n",
            "\n",
            "           1       0.61      0.56      0.59      3968\n",
            "           2       0.23      0.25      0.24      1871\n",
            "           3       0.27      0.25      0.26      2531\n",
            "           4       0.34      0.29      0.32      4752\n",
            "           5       0.75      0.81      0.78     14889\n",
            "\n",
            "    accuracy                           0.60     28011\n",
            "   macro avg       0.44      0.43      0.44     28011\n",
            "weighted avg       0.59      0.60      0.59     28011\n",
            "\n"
          ],
          "name": "stdout"
        }
      ]
    },
    {
      "cell_type": "markdown",
      "metadata": {
        "id": "__AffT4L8GPb",
        "colab_type": "text"
      },
      "source": [
        "### Classification Report Analysis\n",
        "\n",
        "Precision, Recall, and F1 score for all classes decreased without early stopping"
      ]
    },
    {
      "cell_type": "code",
      "metadata": {
        "id": "dYcWOtLAjGJG",
        "colab_type": "code",
        "colab": {
          "base_uri": "https://localhost:8080/",
          "height": 445
        },
        "outputId": "9d547913-f592-406f-89ac-598d6cbd79a1"
      },
      "source": [
        "\n",
        "fig = plt.figure(figsize=(5,5))\n",
        "pu.plot_roc_auc(TITLE_EARLY_STOP, roc_auc3, fpr3, tpr3)"
      ],
      "execution_count": 49,
      "outputs": [
        {
          "output_type": "display_data",
          "data": {
            "image/png": "[encoded data removed]",
            "text/plain": [
              "<Figure size 360x360 with 1 Axes>"
            ]
          },
          "metadata": {
            "tags": []
          }
        }
      ]
    },
    {
      "cell_type": "code",
      "metadata": {
        "id": "9hvV9JfJjGGf",
        "colab_type": "code",
        "colab": {
          "base_uri": "https://localhost:8080/",
          "height": 445
        },
        "outputId": "ecefcd61-8a23-4b39-9a98-0eba88b91d75"
      },
      "source": [
        "\n",
        "fig = plt.figure(figsize=(5,5))\n",
        "pu.plot_roc_auc(TITLE_15_EPOCHS, roc_auc, fpr, tpr)"
      ],
      "execution_count": 50,
      "outputs": [
        {
          "output_type": "display_data",
          "data": {
            "image/png": "[encoded data removed]",
            "text/plain": [
              "<Figure size 360x360 with 1 Axes>"
            ]
          },
          "metadata": {
            "tags": []
          }
        }
      ]
    },
    {
      "cell_type": "markdown",
      "metadata": {
        "id": "exvlgkP38O_K",
        "colab_type": "text"
      },
      "source": [
        "### AUC analysis\n",
        "\n",
        "AUC for all classes decreased without early stopping. Both Micro and Macro average AUC decreased as well"
      ]
    },
    {
      "cell_type": "markdown",
      "metadata": {
        "id": "bklrae0S8dRg",
        "colab_type": "text"
      },
      "source": [
        "# Summary\n",
        "\n",
        "Overall, early stopping performed better than the model without early stopping\n",
        "\n",
        "Model without early stopping was more likely to identify something as Star Rating 2 vs non-early stopping model. Based on sheer volume of prediected Star Rating 2, it was able to identify more Star Rating 2's correctly. However, because the majority of predict Star Rating 2's were mid-classified the precision of this prediction is lower."
      ]
    },
    {
      "cell_type": "code",
      "metadata": {
        "id": "ugKkNdBIfxiX",
        "colab_type": "code",
        "colab": {}
      },
      "source": [
        ""
      ],
      "execution_count": 0,
      "outputs": []
    },
    {
      "cell_type": "code",
      "metadata": {
        "id": "qi5ZAzVWesE0",
        "colab_type": "code",
        "colab": {}
      },
      "source": [
        ""
      ],
      "execution_count": 0,
      "outputs": []
    }
  ]
}