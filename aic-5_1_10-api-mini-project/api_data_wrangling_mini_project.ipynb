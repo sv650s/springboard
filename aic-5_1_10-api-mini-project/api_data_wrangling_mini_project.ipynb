{
 "cells": [
  {
   "cell_type": "markdown",
   "metadata": {},
   "source": [
    "This exercise will require you to pull some data from the Qunadl API. Qaundl is currently the most widely used aggregator of financial market data."
   ]
  },
  {
   "cell_type": "markdown",
   "metadata": {},
   "source": [
    "As a first step, you will need to register a free account on the http://www.quandl.com website."
   ]
  },
  {
   "cell_type": "markdown",
   "metadata": {},
   "source": [
    "After you register, you will be provided with a unique API key, that you should store:"
   ]
  },
  {
   "cell_type": "code",
   "execution_count": 1,
   "metadata": {},
   "outputs": [],
   "source": [
    "# Store the API key as a string - according to PEP8, constants are always named in all upper case\n",
    "API_KEY = 'JUFS6eBwXFLthN3_ARFz'"
   ]
  },
  {
   "cell_type": "markdown",
   "metadata": {},
   "source": [
    "Qaundl has a large number of data sources, but, unfortunately, most of them require a Premium subscription. Still, there are also a good number of free datasets."
   ]
  },
  {
   "cell_type": "markdown",
   "metadata": {},
   "source": [
    "For this mini project, we will focus on equities data from the Frankfurt Stock Exhange (FSE), which is available for free. We'll try and analyze the stock prices of a company called Carl Zeiss Meditec, which manufactures tools for eye examinations, as well as medical lasers for laser eye surgery: https://www.zeiss.com/meditec/int/home.html. The company is listed under the stock ticker AFX_X."
   ]
  },
  {
   "cell_type": "markdown",
   "metadata": {},
   "source": [
    "You can find the detailed Quandl API instructions here: https://docs.quandl.com/docs/time-series"
   ]
  },
  {
   "cell_type": "markdown",
   "metadata": {},
   "source": [
    "While there is a dedicated Python package for connecting to the Quandl API, we would prefer that you use the *requests* package, which can be easily downloaded using *pip* or *conda*. You can find the documentation for the package here: http://docs.python-requests.org/en/master/ "
   ]
  },
  {
   "cell_type": "markdown",
   "metadata": {},
   "source": [
    "Finally, apart from the *requests* package, you are encouraged to not use any third party Python packages, such as *pandas*, and instead focus on what's available in the Python Standard Library (the *collections* module might come in handy: https://pymotw.com/3/collections/).\n",
    "Also, since you won't have access to DataFrames, you are encouraged to us Python's native data structures - preferably dictionaries, though some questions can also be answered using lists.\n",
    "You can read more on these data structures here: https://docs.python.org/3/tutorial/datastructures.html"
   ]
  },
  {
   "cell_type": "markdown",
   "metadata": {},
   "source": [
    "Keep in mind that the JSON responses you will be getting from the API map almost one-to-one to Python's dictionaries. Unfortunately, they can be very nested, so make sure you read up on indexing dictionaries in the documentation provided above."
   ]
  },
  {
   "cell_type": "code",
   "execution_count": 2,
   "metadata": {},
   "outputs": [],
   "source": [
    "# First, import the relevant modules\n",
    "import requests\n",
    "import json\n",
    "import logging\n",
    "from pprint import pformat\n",
    "from Quadl import Quadl\n",
    "\n",
    "LOGGING_FORMAT = '%(asctime)-15s %(levelname)-10s -  %(name)-20s.%(funcName)-15s (%(lineno)d) - %(message)s'\n",
    "logging.basicConfig(format = LOGGING_FORMAT, level = logging.INFO)\n",
    "logger = logging.getLogger(__name__)\n",
    "\n"
   ]
  },
  {
   "cell_type": "code",
   "execution_count": 3,
   "metadata": {},
   "outputs": [],
   "source": [
    "# Now, call the Quandl API and pull out a small sample of the data (only one day) to get a glimpse\n",
    "# into the JSON structure that will be returned\n",
    "# DATABASE_CODE = 'FSE'\n",
    "# TICKER_CODE = 'AFX_X'\n",
    "# START_DATE = '2017-01-01'\n",
    "# END_DATE = '2017-01-03'\n",
    "\n",
    "# def getQuadlData(start: \"str\"=None, end: \"str\" =None, database_code: \"str\" = 'FSE', ticker_code='AFX_X' order='asc', format='json') -> Response:\n",
    "#     \"\"\"\n",
    "#     Gets data from Quadl according to parameters specified\n",
    "    \n",
    "#     Returns response object\n",
    "#     \"\"\"\n",
    "#     QUADL_URL = f\"https://www.quandl.com/api/v3/datasets/{database_code}/{ticker_code}/data.{format}?\\\n",
    "# api_key={API_KEY}&start_date={start}&end_date={end}&order={order}\"\n",
    "#     print(QUADL_URL)\n",
    "#     r = requests.get(QUADL_URL)\n",
    "#     return r\n",
    "\n",
    "\n",
    "quadl = Quadl(start_date='2017-01-01', end_date='2017-01-03')\n"
   ]
  },
  {
   "cell_type": "code",
   "execution_count": 4,
   "metadata": {},
   "outputs": [
    {
     "name": "stdout",
     "output_type": "stream",
     "text": [
      "Type for r.json: <class 'dict'>\n",
      "{'dataset_data': {'collapse': None,\n",
      "                  'column_index': None,\n",
      "                  'column_names': ['Date',\n",
      "                                   'Open',\n",
      "                                   'High',\n",
      "                                   'Low',\n",
      "                                   'Close',\n",
      "                                   'Change',\n",
      "                                   'Traded Volume',\n",
      "                                   'Turnover',\n",
      "                                   'Last Price of the Day',\n",
      "                                   'Daily Traded Units',\n",
      "                                   'Daily Turnover'],\n",
      "                  'data': [['2017-01-02',\n",
      "                            34.99,\n",
      "                            35.94,\n",
      "                            34.99,\n",
      "                            35.8,\n",
      "                            None,\n",
      "                            44700.0,\n",
      "                            1590561.0,\n",
      "                            None,\n",
      "                            None,\n",
      "                            None],\n",
      "                           ['2017-01-03',\n",
      "                            35.9,\n",
      "                            35.93,\n",
      "                            35.34,\n",
      "                            35.48,\n",
      "                            None,\n",
      "                            70618.0,\n",
      "                            2515473.0,\n",
      "                            None,\n",
      "                            None,\n",
      "                            None]],\n",
      "                  'end_date': '2017-01-03',\n",
      "                  'frequency': 'daily',\n",
      "                  'limit': None,\n",
      "                  'order': 'asc',\n",
      "                  'start_date': '2017-01-01',\n",
      "                  'transform': None}}\n"
     ]
    }
   ],
   "source": [
    "# Inspect the JSON structure of the object you created, and take note of how nested it is,\n",
    "# as well as the overall structure\n",
    "print(f'Type for r.json: {type(quadl.response.json())}')\n",
    "json_dict = quadl.response.json()\n",
    "print(pformat(json_dict))\n",
    "\n"
   ]
  },
  {
   "cell_type": "markdown",
   "metadata": {},
   "source": [
    "These are your tasks for this mini project:\n",
    "\n",
    "1. Collect data from the Franfurt Stock Exchange, for the ticker AFX_X, for the whole year 2017 (keep in mind that the date format is YYYY-MM-DD).\n",
    "2. Convert the returned JSON object into a Python dictionary.\n",
    "3. Calculate what the highest and lowest opening prices were for the stock in this period.\n",
    "4. What was the largest change in any one day (based on High and Low price)?\n",
    "5. What was the largest change between any two days (based on Closing Price)?\n",
    "6. What was the average daily trading volume during this year?\n",
    "7. (Optional) What was the median trading volume during this year. (Note: you may need to implement your own function for calculating the median.)"
   ]
  },
  {
   "cell_type": "code",
   "execution_count": 5,
   "metadata": {},
   "outputs": [
    {
     "name": "stdout",
     "output_type": "stream",
     "text": [
      "min open: 34.0\n",
      "max open: 53.11\n",
      "max daily change: 2.81\n",
      "max 2 day change: 1.72\n",
      "average trading volume: 89124.34\n",
      "median volume: 76286.0\n"
     ]
    }
   ],
   "source": [
    "quadl = Quadl(start_date = '2017-01-01', end_date = '2017-12-31')\n",
    "stats = quadl.calculate_stats()\n",
    "print(f'min open: {stats[\"min_open_price\"]}')\n",
    "print(f'max open: {stats[\"max_open_price\"]}')\n",
    "print(f'max daily change: {stats[\"max_daily_change\"]}')\n",
    "print(f'max 2 day change: {stats[\"max_two_day_change\"]}')\n",
    "print(f'average trading volume: {stats[\"average_trading_volume\"]}')\n",
    "print(f'median volume: {stats[\"median_volume\"]}')"
   ]
  },
  {
   "cell_type": "code",
   "execution_count": 6,
   "metadata": {},
   "outputs": [
    {
     "name": "stdout",
     "output_type": "stream",
     "text": [
      "test_calculate_median (TestQuadl.TestQuadl) ... /Users/vinceluk/Dropbox/0_springboard/springboard-aic-mini-projects/aic-5_1_10-api-mini-project/TestQuadl.py:54: DeprecationWarning: Please use assertEqual instead.\n",
      "  self.assertEquals(median1, 2, f'median should be 2 but got {median1}')\n",
      "ok\n",
      "test_calculate_stats (TestQuadl.TestQuadl) ... ok\n",
      "test_sort_data (TestQuadl.TestQuadl) ... ok\n",
      "\n",
      "----------------------------------------------------------------------\n",
      "Ran 3 tests in 3.066s\n",
      "\n",
      "OK\n"
     ]
    }
   ],
   "source": [
    "# run unit tests\n",
    "!python -m unittest -v TestQuadl.py"
   ]
  },
  {
   "cell_type": "code",
   "execution_count": 18,
   "metadata": {},
   "outputs": [
    {
     "name": "stdout",
     "output_type": "stream",
     "text": [
      "max open: 53.11\n",
      "min open: 34.0\n",
      "max daily change: 2.81\n",
      "max 2 day change: 1.72\n",
      "average trading volume: 89124.34\n",
      "median volume: 76286.0\n"
     ]
    }
   ],
   "source": [
    "# do the calculations using list comprehension\n",
    "data_list = quadl.data\n",
    "# Calculate what the highest and lowest opening prices were for the stock in this period.\n",
    "open_index = quadl.column_names.index('Open')\n",
    "open_list = [row[open_index] for row in data_list if row[open_index] != None]\n",
    "print(f\"max open: {max(open_list)}\")\n",
    "print(f\"min open: {min(open_list)}\")\n",
    "# What was the largest change in any one day (based on High and Low price)?\n",
    "high_index = quadl.column_names.index('High')\n",
    "low_index = quadl.column_names.index('Low')\n",
    "daily_change_list = [round(row[high_index] - row[low_index], 2) for row in data_list \\\n",
    "               if row[high_index] != None and row[low_index] != None]\n",
    "print(f\"max daily change: {max(daily_change_list)}\")\n",
    "\n",
    "# What was the largest change between any two days (based on Closing Price)?\n",
    "close_index = quadl.column_names.index('Close')\n",
    "today_close_list_t = [row[close_index] for row in data_list]\n",
    "# # shift one down so we can do calcuations\n",
    "tomorrow_close_list_t = today_close_list_t.copy()\n",
    "tomorrow_close_list_t.pop(0)\n",
    "# print(\"tomorrow list\")\n",
    "# print(tomorrow_close_list_t)\n",
    "# print(today_close_list_t)\n",
    "\n",
    "# put the two lists together - index 0 is today day, 1 is next day\n",
    "today_close_list = list(map(list, zip(today_close_list_t, tomorrow_close_list_t)))\n",
    "# print(\"put together list\")\n",
    "# print(today_close_list)\n",
    "change_list = [round(row[1] - row[0], 2) for row in today_close_list if row[0] != None and row[1] != None]\n",
    "print(f\"max 2 day change: {max(change_list)}\")\n",
    "\n",
    "\n",
    "# What was the average daily trading volume during this year?\n",
    "volume_index = quadl.column_names.index('Traded Volume')\n",
    "volume_list = [row[volume_index] for row in data_list if row[volume_index] != None]\n",
    "print(f\"average trading volume: {round(sum(volume_list) / len(volume_list), 2)}\")\n",
    "\n",
    "# (Optional) What was the median trading volume during this year. (Note: you may need to implement your own function for calculating the median.)\n",
    "volume_list.sort()\n",
    "median = 0.0\n",
    "if (len(volume_list) % 2 > 0):\n",
    "    median = volume_list[len(volume_list) // 2]\n",
    "else:\n",
    "    median = round((volume_list[len(volume_list) // 2] + volume_list[len(volume_list) // 2 - 1]) / 2, 2)\n",
    "print(f\"median volume: {median}\")\n",
    "    \n"
   ]
  },
  {
   "cell_type": "code",
   "execution_count": null,
   "metadata": {},
   "outputs": [],
   "source": []
  }
 ],
 "metadata": {
  "kernelspec": {
   "display_name": "Python 3",
   "language": "python",
   "name": "python3"
  },
  "language_info": {
   "codemirror_mode": {
    "name": "ipython",
    "version": 3
   },
   "file_extension": ".py",
   "mimetype": "text/x-python",
   "name": "python",
   "nbconvert_exporter": "python",
   "pygments_lexer": "ipython3",
   "version": "3.7.2"
  }
 },
 "nbformat": 4,
 "nbformat_minor": 2
}
