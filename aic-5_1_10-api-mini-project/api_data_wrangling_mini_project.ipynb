{
 "cells": [
  {
   "cell_type": "markdown",
   "metadata": {},
   "source": [
    "This exercise will require you to pull some data from the Qunadl API. Qaundl is currently the most widely used aggregator of financial market data."
   ]
  },
  {
   "cell_type": "markdown",
   "metadata": {},
   "source": [
    "As a first step, you will need to register a free account on the http://www.quandl.com website."
   ]
  },
  {
   "cell_type": "markdown",
   "metadata": {},
   "source": [
    "After you register, you will be provided with a unique API key, that you should store:"
   ]
  },
  {
   "cell_type": "code",
   "execution_count": 1,
   "metadata": {},
   "outputs": [],
   "source": [
    "# Store the API key as a string - according to PEP8, constants are always named in all upper case\n",
    "API_KEY = 'JUFS6eBwXFLthN3_ARFz'"
   ]
  },
  {
   "cell_type": "markdown",
   "metadata": {},
   "source": [
    "Qaundl has a large number of data sources, but, unfortunately, most of them require a Premium subscription. Still, there are also a good number of free datasets."
   ]
  },
  {
   "cell_type": "markdown",
   "metadata": {},
   "source": [
    "For this mini project, we will focus on equities data from the Frankfurt Stock Exhange (FSE), which is available for free. We'll try and analyze the stock prices of a company called Carl Zeiss Meditec, which manufactures tools for eye examinations, as well as medical lasers for laser eye surgery: https://www.zeiss.com/meditec/int/home.html. The company is listed under the stock ticker AFX_X."
   ]
  },
  {
   "cell_type": "markdown",
   "metadata": {},
   "source": [
    "You can find the detailed Quandl API instructions here: https://docs.quandl.com/docs/time-series"
   ]
  },
  {
   "cell_type": "markdown",
   "metadata": {},
   "source": [
    "While there is a dedicated Python package for connecting to the Quandl API, we would prefer that you use the *requests* package, which can be easily downloaded using *pip* or *conda*. You can find the documentation for the package here: http://docs.python-requests.org/en/master/ "
   ]
  },
  {
   "cell_type": "markdown",
   "metadata": {},
   "source": [
    "Finally, apart from the *requests* package, you are encouraged to not use any third party Python packages, such as *pandas*, and instead focus on what's available in the Python Standard Library (the *collections* module might come in handy: https://pymotw.com/3/collections/).\n",
    "Also, since you won't have access to DataFrames, you are encouraged to us Python's native data structures - preferably dictionaries, though some questions can also be answered using lists.\n",
    "You can read more on these data structures here: https://docs.python.org/3/tutorial/datastructures.html"
   ]
  },
  {
   "cell_type": "markdown",
   "metadata": {},
   "source": [
    "Keep in mind that the JSON responses you will be getting from the API map almost one-to-one to Python's dictionaries. Unfortunately, they can be very nested, so make sure you read up on indexing dictionaries in the documentation provided above."
   ]
  },
  {
   "cell_type": "code",
   "execution_count": 2,
   "metadata": {},
   "outputs": [],
   "source": [
    "# First, import the relevant modules\n",
    "import requests\n",
    "import json\n",
    "import logging\n",
    "from pprint import pformat\n",
    "from quadl_util import get_quadl_data\n",
    "\n",
    "LOGGING_FORMAT = '%(asctime)-15s %(levelname)-10s -  %(name)-20s.%(funcName)-15s (%(lineno)d) - %(message)s'\n",
    "logging.basicConfig(format = LOGGING_FORMAT, level = logging.DEBUG)\n",
    "logger = logging.getLogger(__name__)\n",
    "\n"
   ]
  },
  {
   "cell_type": "code",
   "execution_count": 3,
   "metadata": {},
   "outputs": [
    {
     "name": "stderr",
     "output_type": "stream",
     "text": [
      "2019-04-02 19:07:54,191 DEBUG      -  quadl_util          .get_quadl_data  (21) - https://www.quandl.com/api/v3/datasets/FSE/AFX_X/data.json?api_key=JUFS6eBwXFLthN3_ARFz&start_date=2017-01-01&end_date=2017-01-03&order=asc\n",
      "2019-04-02 19:07:54,214 DEBUG      -  urllib3.connectionpool._new_conn       (813) - Starting new HTTPS connection (1): www.quandl.com:443\n",
      "2019-04-02 19:07:54,456 DEBUG      -  urllib3.connectionpool._make_request   (393) - https://www.quandl.com:443 \"GET /api/v3/datasets/FSE/AFX_X/data.json?api_key=JUFS6eBwXFLthN3_ARFz&start_date=2017-01-01&end_date=2017-01-03&order=asc HTTP/1.1\" 200 299\n"
     ]
    }
   ],
   "source": [
    "# Now, call the Quandl API and pull out a small sample of the data (only one day) to get a glimpse\n",
    "# into the JSON structure that will be returned\n",
    "# DATABASE_CODE = 'FSE'\n",
    "# TICKER_CODE = 'AFX_X'\n",
    "# START_DATE = '2017-01-01'\n",
    "# END_DATE = '2017-01-03'\n",
    "\n",
    "# def getQuadlData(start: \"str\"=None, end: \"str\" =None, database_code: \"str\" = 'FSE', ticker_code='AFX_X' order='asc', format='json') -> Response:\n",
    "#     \"\"\"\n",
    "#     Gets data from Quadl according to parameters specified\n",
    "    \n",
    "#     Returns response object\n",
    "#     \"\"\"\n",
    "#     QUADL_URL = f\"https://www.quandl.com/api/v3/datasets/{database_code}/{ticker_code}/data.{format}?\\\n",
    "# api_key={API_KEY}&start_date={start}&end_date={end}&order={order}\"\n",
    "#     print(QUADL_URL)\n",
    "#     r = requests.get(QUADL_URL)\n",
    "#     return r\n",
    "\n",
    "\n",
    "response = get_quadl_data(start='2017-01-01', end='2017-01-03')\n"
   ]
  },
  {
   "cell_type": "code",
   "execution_count": 5,
   "metadata": {},
   "outputs": [
    {
     "name": "stderr",
     "output_type": "stream",
     "text": [
      "2019-04-02 19:08:19,155 DEBUG      -  __main__            .<module>        (3) - Type for r.json: <class 'dict'>\n",
      "2019-04-02 19:08:19,157 DEBUG      -  __main__            .<module>        (5) - {'dataset_data': {'collapse': None,\n",
      "                  'column_index': None,\n",
      "                  'column_names': ['Date',\n",
      "                                   'Open',\n",
      "                                   'High',\n",
      "                                   'Low',\n",
      "                                   'Close',\n",
      "                                   'Change',\n",
      "                                   'Traded Volume',\n",
      "                                   'Turnover',\n",
      "                                   'Last Price of the Day',\n",
      "                                   'Daily Traded Units',\n",
      "                                   'Daily Turnover'],\n",
      "                  'data': [['2017-01-02',\n",
      "                            34.99,\n",
      "                            35.94,\n",
      "                            34.99,\n",
      "                            35.8,\n",
      "                            None,\n",
      "                            44700.0,\n",
      "                            1590561.0,\n",
      "                            None,\n",
      "                            None,\n",
      "                            None],\n",
      "                           ['2017-01-03',\n",
      "                            35.9,\n",
      "                            35.93,\n",
      "                            35.34,\n",
      "                            35.48,\n",
      "                            None,\n",
      "                            70618.0,\n",
      "                            2515473.0,\n",
      "                            None,\n",
      "                            None,\n",
      "                            None]],\n",
      "                  'end_date': '2017-01-03',\n",
      "                  'frequency': 'daily',\n",
      "                  'limit': None,\n",
      "                  'order': 'asc',\n",
      "                  'start_date': '2017-01-01',\n",
      "                  'transform': None}}\n"
     ]
    }
   ],
   "source": [
    "# Inspect the JSON structure of the object you created, and take note of how nested it is,\n",
    "# as well as the overall structure\n",
    "logger.debug(f'Type for r.json: {type(response.json())}')\n",
    "json_dict = response.json()\n",
    "logger.debug(pformat(json_dict))\n",
    "\n"
   ]
  },
  {
   "cell_type": "markdown",
   "metadata": {},
   "source": [
    "These are your tasks for this mini project:\n",
    "\n",
    "1. Collect data from the Franfurt Stock Exchange, for the ticker AFX_X, for the whole year 2017 (keep in mind that the date format is YYYY-MM-DD).\n",
    "2. Convert the returned JSON object into a Python dictionary.\n",
    "3. Calculate what the highest and lowest opening prices were for the stock in this period.\n",
    "4. What was the largest change in any one day (based on High and Low price)?\n",
    "5. What was the largest change between any two days (based on Closing Price)?\n",
    "6. What was the average daily trading volume during this year?\n",
    "7. (Optional) What was the median trading volume during this year. (Note: you may need to implement your own function for calculating the median.)"
   ]
  },
  {
   "cell_type": "code",
   "execution_count": null,
   "metadata": {},
   "outputs": [],
   "source": []
  }
 ],
 "metadata": {
  "kernelspec": {
   "display_name": "Python 3",
   "language": "python",
   "name": "python3"
  },
  "language_info": {
   "codemirror_mode": {
    "name": "ipython",
    "version": 3
   },
   "file_extension": ".py",
   "mimetype": "text/x-python",
   "name": "python",
   "nbconvert_exporter": "python",
   "pygments_lexer": "ipython3",
   "version": "3.7.2"
  }
 },
 "nbformat": 4,
 "nbformat_minor": 2
}
