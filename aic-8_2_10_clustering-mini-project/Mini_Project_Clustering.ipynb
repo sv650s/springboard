{
  "nbformat": 4,
  "nbformat_minor": 0,
  "metadata": {
    "colab": {
      "name": "Mini_Project_Clustering.ipynb",
      "version": "0.3.2",
      "provenance": [],
      "include_colab_link": true
    },
    "language_info": {
      "codemirror_mode": {
        "name": "ipython",
        "version": 2
      },
      "file_extension": ".py",
      "mimetype": "text/x-python",
      "name": "python",
      "nbconvert_exporter": "python",
      "pygments_lexer": "ipython2",
      "version": "2.7.12"
    },
    "kernelspec": {
      "display_name": "Python 2",
      "language": "python",
      "name": "python2"
    }
  },
  "cells": [
    {
      "cell_type": "markdown",
      "metadata": {
        "id": "view-in-github",
        "colab_type": "text"
      },
      "source": [
        "<a href=\"https://colab.research.google.com/github/sv650s/springboard/blob/master/aic-8_2_10_clustering-mini-project/Mini_Project_Clustering.ipynb\" target=\"_parent\"><img src=\"https://colab.research.google.com/assets/colab-badge.svg\" alt=\"Open In Colab\"/></a>"
      ]
    },
    {
      "cell_type": "markdown",
      "metadata": {
        "id": "Td4Z3jAautKq",
        "colab_type": "text"
      },
      "source": [
        "# Customer Segmentation using Clustering\n",
        "***\n",
        "This mini-project is based on [this blog post](http://blog.yhat.com/posts/customer-segmentation-using-python.html) by yhat. Please feel free to refer to the post for additional information, and solutions."
      ]
    },
    {
      "cell_type": "code",
      "metadata": {
        "id": "ful8Mar9utKs",
        "colab_type": "code",
        "colab": {}
      },
      "source": [
        "%matplotlib inline\n",
        "import pandas as pd\n",
        "import sklearn\n",
        "import matplotlib.pyplot as plt\n",
        "import seaborn as sns\n",
        "\n",
        "# Setup Seaborn\n",
        "sns.set_style(\"whitegrid\")\n",
        "sns.set_context(\"poster\")"
      ],
      "execution_count": 0,
      "outputs": []
    },
    {
      "cell_type": "markdown",
      "metadata": {
        "id": "fEgRqSFfutKw",
        "colab_type": "text"
      },
      "source": [
        "## Data\n",
        "\n",
        "The dataset contains information on marketing newsletters/e-mail campaigns (e-mail offers sent to customers) and transaction level data from customers. The transactional data shows which offer customers responded to, and what the customer ended up buying. The data is presented as an Excel workbook containing two worksheets. Each worksheet contains a different dataset."
      ]
    },
    {
      "cell_type": "code",
      "metadata": {
        "id": "kXTMAkK9utKx",
        "colab_type": "code",
        "colab": {
          "base_uri": "https://localhost:8080/",
          "height": 249
        },
        "outputId": "2c2fcda4-94b7-44d0-b588-3f6334efcfe7"
      },
      "source": [
        "df_offers = pd.read_excel(\"./WineKMC.xlsx\", sheetname=0)\n",
        "df_offers.columns = [\"offer_id\", \"campaign\", \"varietal\", \"min_qty\", \"discount\", \"origin\", \"past_peak\"]\n",
        "df_offers.head()"
      ],
      "execution_count": 3,
      "outputs": [
        {
          "output_type": "stream",
          "text": [
            "/usr/local/lib/python2.7/dist-packages/pandas/util/_decorators.py:188: FutureWarning: The `sheetname` keyword is deprecated, use `sheet_name` instead\n",
            "  return func(*args, **kwargs)\n"
          ],
          "name": "stderr"
        },
        {
          "output_type": "execute_result",
          "data": {
            "text/html": [
              "<div>\n",
              "<style scoped>\n",
              "    .dataframe tbody tr th:only-of-type {\n",
              "        vertical-align: middle;\n",
              "    }\n",
              "\n",
              "    .dataframe tbody tr th {\n",
              "        vertical-align: top;\n",
              "    }\n",
              "\n",
              "    .dataframe thead th {\n",
              "        text-align: right;\n",
              "    }\n",
              "</style>\n",
              "<table border=\"1\" class=\"dataframe\">\n",
              "  <thead>\n",
              "    <tr style=\"text-align: right;\">\n",
              "      <th></th>\n",
              "      <th>offer_id</th>\n",
              "      <th>campaign</th>\n",
              "      <th>varietal</th>\n",
              "      <th>min_qty</th>\n",
              "      <th>discount</th>\n",
              "      <th>origin</th>\n",
              "      <th>past_peak</th>\n",
              "    </tr>\n",
              "  </thead>\n",
              "  <tbody>\n",
              "    <tr>\n",
              "      <th>0</th>\n",
              "      <td>1</td>\n",
              "      <td>January</td>\n",
              "      <td>Malbec</td>\n",
              "      <td>72</td>\n",
              "      <td>56</td>\n",
              "      <td>France</td>\n",
              "      <td>False</td>\n",
              "    </tr>\n",
              "    <tr>\n",
              "      <th>1</th>\n",
              "      <td>2</td>\n",
              "      <td>January</td>\n",
              "      <td>Pinot Noir</td>\n",
              "      <td>72</td>\n",
              "      <td>17</td>\n",
              "      <td>France</td>\n",
              "      <td>False</td>\n",
              "    </tr>\n",
              "    <tr>\n",
              "      <th>2</th>\n",
              "      <td>3</td>\n",
              "      <td>February</td>\n",
              "      <td>Espumante</td>\n",
              "      <td>144</td>\n",
              "      <td>32</td>\n",
              "      <td>Oregon</td>\n",
              "      <td>True</td>\n",
              "    </tr>\n",
              "    <tr>\n",
              "      <th>3</th>\n",
              "      <td>4</td>\n",
              "      <td>February</td>\n",
              "      <td>Champagne</td>\n",
              "      <td>72</td>\n",
              "      <td>48</td>\n",
              "      <td>France</td>\n",
              "      <td>True</td>\n",
              "    </tr>\n",
              "    <tr>\n",
              "      <th>4</th>\n",
              "      <td>5</td>\n",
              "      <td>February</td>\n",
              "      <td>Cabernet Sauvignon</td>\n",
              "      <td>144</td>\n",
              "      <td>44</td>\n",
              "      <td>New Zealand</td>\n",
              "      <td>True</td>\n",
              "    </tr>\n",
              "  </tbody>\n",
              "</table>\n",
              "</div>"
            ],
            "text/plain": [
              "   offer_id  campaign            varietal  ...  discount       origin past_peak\n",
              "0         1   January              Malbec  ...        56       France     False\n",
              "1         2   January          Pinot Noir  ...        17       France     False\n",
              "2         3  February           Espumante  ...        32       Oregon      True\n",
              "3         4  February           Champagne  ...        48       France      True\n",
              "4         5  February  Cabernet Sauvignon  ...        44  New Zealand      True\n",
              "\n",
              "[5 rows x 7 columns]"
            ]
          },
          "metadata": {
            "tags": []
          },
          "execution_count": 3
        }
      ]
    },
    {
      "cell_type": "markdown",
      "metadata": {
        "id": "09cq77XNutK0",
        "colab_type": "text"
      },
      "source": [
        "We see that the first dataset contains information about each offer such as the month it is in effect and several attributes about the wine that the offer refers to: the variety, minimum quantity, discount, country of origin and whether or not it is past peak. The second dataset in the second worksheet contains transactional data -- which offer each customer responded to."
      ]
    },
    {
      "cell_type": "code",
      "metadata": {
        "id": "WH2n-9-butK0",
        "colab_type": "code",
        "colab": {
          "base_uri": "https://localhost:8080/",
          "height": 195
        },
        "outputId": "b5575f3b-b410-4609-c056-8a1b7855e590"
      },
      "source": [
        "df_transactions = pd.read_excel(\"./WineKMC.xlsx\", sheetname=1)\n",
        "df_transactions.columns = [\"customer_name\", \"offer_id\"]\n",
        "df_transactions['n'] = 1\n",
        "df_transactions.head()"
      ],
      "execution_count": 4,
      "outputs": [
        {
          "output_type": "execute_result",
          "data": {
            "text/html": [
              "<div>\n",
              "<style scoped>\n",
              "    .dataframe tbody tr th:only-of-type {\n",
              "        vertical-align: middle;\n",
              "    }\n",
              "\n",
              "    .dataframe tbody tr th {\n",
              "        vertical-align: top;\n",
              "    }\n",
              "\n",
              "    .dataframe thead th {\n",
              "        text-align: right;\n",
              "    }\n",
              "</style>\n",
              "<table border=\"1\" class=\"dataframe\">\n",
              "  <thead>\n",
              "    <tr style=\"text-align: right;\">\n",
              "      <th></th>\n",
              "      <th>customer_name</th>\n",
              "      <th>offer_id</th>\n",
              "      <th>n</th>\n",
              "    </tr>\n",
              "  </thead>\n",
              "  <tbody>\n",
              "    <tr>\n",
              "      <th>0</th>\n",
              "      <td>Smith</td>\n",
              "      <td>2</td>\n",
              "      <td>1</td>\n",
              "    </tr>\n",
              "    <tr>\n",
              "      <th>1</th>\n",
              "      <td>Smith</td>\n",
              "      <td>24</td>\n",
              "      <td>1</td>\n",
              "    </tr>\n",
              "    <tr>\n",
              "      <th>2</th>\n",
              "      <td>Johnson</td>\n",
              "      <td>17</td>\n",
              "      <td>1</td>\n",
              "    </tr>\n",
              "    <tr>\n",
              "      <th>3</th>\n",
              "      <td>Johnson</td>\n",
              "      <td>24</td>\n",
              "      <td>1</td>\n",
              "    </tr>\n",
              "    <tr>\n",
              "      <th>4</th>\n",
              "      <td>Johnson</td>\n",
              "      <td>26</td>\n",
              "      <td>1</td>\n",
              "    </tr>\n",
              "  </tbody>\n",
              "</table>\n",
              "</div>"
            ],
            "text/plain": [
              "  customer_name  offer_id  n\n",
              "0         Smith         2  1\n",
              "1         Smith        24  1\n",
              "2       Johnson        17  1\n",
              "3       Johnson        24  1\n",
              "4       Johnson        26  1"
            ]
          },
          "metadata": {
            "tags": []
          },
          "execution_count": 4
        }
      ]
    },
    {
      "cell_type": "markdown",
      "metadata": {
        "id": "f3QELa-EutK2",
        "colab_type": "text"
      },
      "source": [
        "## Data wrangling"
      ]
    },
    {
      "cell_type": "markdown",
      "metadata": {
        "id": "szBNbgkMutK3",
        "colab_type": "text"
      },
      "source": [
        "We're trying to learn more about how our customers behave, so we can use their behavior (whether or not they purchased something based on an offer) as a way to group similar minded customers together. We can then study those groups to look for patterns and trends which can help us formulate future offers.\n",
        "\n",
        "The first thing we need is a way to compare customers. To do this, we're going to create a matrix that contains each customer and a 0/1 indicator for whether or not they responded to a given offer. "
      ]
    },
    {
      "cell_type": "markdown",
      "metadata": {
        "id": "GvccBYP7utK3",
        "colab_type": "text"
      },
      "source": [
        "<div class=\"span5 alert alert-info\">\n",
        "<h3>Checkup Exercise Set I</h3>\n",
        "\n",
        "<p><b>Exercise:</b> Create a data frame where each row has the following columns (Use the pandas [`merge`](http://pandas.pydata.org/pandas-docs/stable/generated/pandas.DataFrame.merge.html) and [`pivot_table`](http://pandas.pydata.org/pandas-docs/stable/generated/pandas.pivot_table.html) functions for this purpose):\n",
        "<ul>\n",
        "<li> customer_name\n",
        "<li> One column for each offer, with a 1 if the customer responded to the offer\n",
        "</ul>\n",
        "<p>Make sure you also deal with any weird values such as `NaN`. Read the documentation to develop your solution.</p>\n",
        "</div>"
      ]
    },
    {
      "cell_type": "code",
      "metadata": {
        "scrolled": true,
        "id": "grw3cBiAutK4",
        "colab_type": "code",
        "colab": {
          "base_uri": "https://localhost:8080/",
          "height": 245
        },
        "outputId": "60471d20-89e8-4e51-b4cd-ecb4fbacb448"
      },
      "source": [
        "#your turn\n",
        "import numpy as np\n",
        "merged_df = df_transactions.merge(df_offers[\"offer_id\"], how=\"outer\", on=\"offer_id\")\n",
        "offer_matrix =  merged_df.pivot_table(values=[\"n\"], index=[\"customer_name\"], columns=[\"offer_id\"], \n",
        "                                      fill_value=0).reset_index()\n",
        "offer_matrix.head()\n",
        "\n"
      ],
      "execution_count": 39,
      "outputs": [
        {
          "output_type": "execute_result",
          "data": {
            "text/html": [
              "<div>\n",
              "<style scoped>\n",
              "    .dataframe tbody tr th:only-of-type {\n",
              "        vertical-align: middle;\n",
              "    }\n",
              "\n",
              "    .dataframe tbody tr th {\n",
              "        vertical-align: top;\n",
              "    }\n",
              "\n",
              "    .dataframe thead tr th {\n",
              "        text-align: left;\n",
              "    }\n",
              "</style>\n",
              "<table border=\"1\" class=\"dataframe\">\n",
              "  <thead>\n",
              "    <tr>\n",
              "      <th></th>\n",
              "      <th>customer_name</th>\n",
              "      <th colspan=\"32\" halign=\"left\">n</th>\n",
              "    </tr>\n",
              "    <tr>\n",
              "      <th>offer_id</th>\n",
              "      <th></th>\n",
              "      <th>1</th>\n",
              "      <th>2</th>\n",
              "      <th>3</th>\n",
              "      <th>4</th>\n",
              "      <th>5</th>\n",
              "      <th>6</th>\n",
              "      <th>7</th>\n",
              "      <th>8</th>\n",
              "      <th>9</th>\n",
              "      <th>10</th>\n",
              "      <th>11</th>\n",
              "      <th>12</th>\n",
              "      <th>13</th>\n",
              "      <th>14</th>\n",
              "      <th>15</th>\n",
              "      <th>16</th>\n",
              "      <th>17</th>\n",
              "      <th>18</th>\n",
              "      <th>19</th>\n",
              "      <th>20</th>\n",
              "      <th>21</th>\n",
              "      <th>22</th>\n",
              "      <th>23</th>\n",
              "      <th>24</th>\n",
              "      <th>25</th>\n",
              "      <th>26</th>\n",
              "      <th>27</th>\n",
              "      <th>28</th>\n",
              "      <th>29</th>\n",
              "      <th>30</th>\n",
              "      <th>31</th>\n",
              "      <th>32</th>\n",
              "    </tr>\n",
              "  </thead>\n",
              "  <tbody>\n",
              "    <tr>\n",
              "      <th>0</th>\n",
              "      <td>Adams</td>\n",
              "      <td>0</td>\n",
              "      <td>0</td>\n",
              "      <td>0</td>\n",
              "      <td>0</td>\n",
              "      <td>0</td>\n",
              "      <td>0</td>\n",
              "      <td>0</td>\n",
              "      <td>0</td>\n",
              "      <td>0</td>\n",
              "      <td>0</td>\n",
              "      <td>0</td>\n",
              "      <td>0</td>\n",
              "      <td>0</td>\n",
              "      <td>0</td>\n",
              "      <td>0</td>\n",
              "      <td>0</td>\n",
              "      <td>0</td>\n",
              "      <td>1</td>\n",
              "      <td>0</td>\n",
              "      <td>0</td>\n",
              "      <td>0</td>\n",
              "      <td>0</td>\n",
              "      <td>0</td>\n",
              "      <td>0</td>\n",
              "      <td>0</td>\n",
              "      <td>0</td>\n",
              "      <td>0</td>\n",
              "      <td>0</td>\n",
              "      <td>1</td>\n",
              "      <td>1</td>\n",
              "      <td>0</td>\n",
              "      <td>0</td>\n",
              "    </tr>\n",
              "    <tr>\n",
              "      <th>1</th>\n",
              "      <td>Allen</td>\n",
              "      <td>0</td>\n",
              "      <td>0</td>\n",
              "      <td>0</td>\n",
              "      <td>0</td>\n",
              "      <td>0</td>\n",
              "      <td>0</td>\n",
              "      <td>0</td>\n",
              "      <td>0</td>\n",
              "      <td>1</td>\n",
              "      <td>0</td>\n",
              "      <td>0</td>\n",
              "      <td>0</td>\n",
              "      <td>0</td>\n",
              "      <td>0</td>\n",
              "      <td>0</td>\n",
              "      <td>0</td>\n",
              "      <td>0</td>\n",
              "      <td>0</td>\n",
              "      <td>0</td>\n",
              "      <td>0</td>\n",
              "      <td>0</td>\n",
              "      <td>0</td>\n",
              "      <td>0</td>\n",
              "      <td>0</td>\n",
              "      <td>0</td>\n",
              "      <td>0</td>\n",
              "      <td>1</td>\n",
              "      <td>0</td>\n",
              "      <td>0</td>\n",
              "      <td>0</td>\n",
              "      <td>0</td>\n",
              "      <td>0</td>\n",
              "    </tr>\n",
              "    <tr>\n",
              "      <th>2</th>\n",
              "      <td>Anderson</td>\n",
              "      <td>0</td>\n",
              "      <td>0</td>\n",
              "      <td>0</td>\n",
              "      <td>0</td>\n",
              "      <td>0</td>\n",
              "      <td>0</td>\n",
              "      <td>0</td>\n",
              "      <td>0</td>\n",
              "      <td>0</td>\n",
              "      <td>0</td>\n",
              "      <td>0</td>\n",
              "      <td>0</td>\n",
              "      <td>0</td>\n",
              "      <td>0</td>\n",
              "      <td>0</td>\n",
              "      <td>0</td>\n",
              "      <td>0</td>\n",
              "      <td>0</td>\n",
              "      <td>0</td>\n",
              "      <td>0</td>\n",
              "      <td>0</td>\n",
              "      <td>0</td>\n",
              "      <td>0</td>\n",
              "      <td>1</td>\n",
              "      <td>0</td>\n",
              "      <td>1</td>\n",
              "      <td>0</td>\n",
              "      <td>0</td>\n",
              "      <td>0</td>\n",
              "      <td>0</td>\n",
              "      <td>0</td>\n",
              "      <td>0</td>\n",
              "    </tr>\n",
              "    <tr>\n",
              "      <th>3</th>\n",
              "      <td>Bailey</td>\n",
              "      <td>0</td>\n",
              "      <td>0</td>\n",
              "      <td>0</td>\n",
              "      <td>0</td>\n",
              "      <td>0</td>\n",
              "      <td>0</td>\n",
              "      <td>1</td>\n",
              "      <td>0</td>\n",
              "      <td>0</td>\n",
              "      <td>0</td>\n",
              "      <td>0</td>\n",
              "      <td>0</td>\n",
              "      <td>0</td>\n",
              "      <td>0</td>\n",
              "      <td>0</td>\n",
              "      <td>0</td>\n",
              "      <td>0</td>\n",
              "      <td>0</td>\n",
              "      <td>0</td>\n",
              "      <td>0</td>\n",
              "      <td>0</td>\n",
              "      <td>0</td>\n",
              "      <td>0</td>\n",
              "      <td>0</td>\n",
              "      <td>0</td>\n",
              "      <td>0</td>\n",
              "      <td>0</td>\n",
              "      <td>0</td>\n",
              "      <td>0</td>\n",
              "      <td>1</td>\n",
              "      <td>0</td>\n",
              "      <td>0</td>\n",
              "    </tr>\n",
              "    <tr>\n",
              "      <th>4</th>\n",
              "      <td>Baker</td>\n",
              "      <td>0</td>\n",
              "      <td>0</td>\n",
              "      <td>0</td>\n",
              "      <td>0</td>\n",
              "      <td>0</td>\n",
              "      <td>0</td>\n",
              "      <td>1</td>\n",
              "      <td>0</td>\n",
              "      <td>0</td>\n",
              "      <td>1</td>\n",
              "      <td>0</td>\n",
              "      <td>0</td>\n",
              "      <td>0</td>\n",
              "      <td>0</td>\n",
              "      <td>0</td>\n",
              "      <td>0</td>\n",
              "      <td>0</td>\n",
              "      <td>0</td>\n",
              "      <td>1</td>\n",
              "      <td>0</td>\n",
              "      <td>0</td>\n",
              "      <td>0</td>\n",
              "      <td>0</td>\n",
              "      <td>0</td>\n",
              "      <td>0</td>\n",
              "      <td>0</td>\n",
              "      <td>0</td>\n",
              "      <td>0</td>\n",
              "      <td>0</td>\n",
              "      <td>0</td>\n",
              "      <td>1</td>\n",
              "      <td>0</td>\n",
              "    </tr>\n",
              "  </tbody>\n",
              "</table>\n",
              "</div>"
            ],
            "text/plain": [
              "         customer_name  n                          ...                              \n",
              "offer_id                1  2  3  4  5  6  7  8  9  ... 23 24 25 26 27 28 29 30 31 32\n",
              "0                Adams  0  0  0  0  0  0  0  0  0  ...  0  0  0  0  0  0  1  1  0  0\n",
              "1                Allen  0  0  0  0  0  0  0  0  1  ...  0  0  0  0  1  0  0  0  0  0\n",
              "2             Anderson  0  0  0  0  0  0  0  0  0  ...  0  1  0  1  0  0  0  0  0  0\n",
              "3               Bailey  0  0  0  0  0  0  1  0  0  ...  0  0  0  0  0  0  0  1  0  0\n",
              "4                Baker  0  0  0  0  0  0  1  0  0  ...  0  0  0  0  0  0  0  0  1  0\n",
              "\n",
              "[5 rows x 33 columns]"
            ]
          },
          "metadata": {
            "tags": []
          },
          "execution_count": 39
        }
      ]
    },
    {
      "cell_type": "markdown",
      "metadata": {
        "id": "vFh0QRb_utK5",
        "colab_type": "text"
      },
      "source": [
        "## K-Means Clustering\n",
        "\n",
        "Recall that in K-Means Clustering we want to *maximize* the distance between centroids and *minimize* the distance between data points and the respective centroid for the cluster they are in. True evaluation for unsupervised learning would require labeled data; however, we can use a variety of intuitive metrics to try to pick the number of clusters K. We will introduce two methods: the Elbow method, the Silhouette method and the gap statistic."
      ]
    },
    {
      "cell_type": "markdown",
      "metadata": {
        "id": "9MHI4meiutK6",
        "colab_type": "text"
      },
      "source": [
        "### Choosing K: The Elbow Sum-of-Squares Method\n",
        "\n",
        "The first method looks at the sum-of-squares error in each cluster against $K$. We compute the distance from each data point to the center of the cluster (centroid) to which the data point was assigned. \n",
        "\n",
        "$$SS = \\sum_k \\sum_{x_i \\in C_k} \\sum_{x_j \\in C_k} \\left( x_i - x_j \\right)^2 = \\sum_k \\sum_{x_i \\in C_k} \\left( x_i - \\mu_k \\right)^2$$\n",
        "\n",
        "where $x_i$ is a point, $C_k$ represents cluster $k$ and $\\mu_k$ is the centroid for cluster $k$. We can plot SS vs. $K$ and choose the *elbow point* in the plot as the best value for $K$. The elbow point is the point at which the plot starts descending much more slowly. "
      ]
    },
    {
      "cell_type": "markdown",
      "metadata": {
        "id": "C6mOeftautK6",
        "colab_type": "text"
      },
      "source": [
        "<div class=\"span5 alert alert-info\">\n",
        "<h3>Checkup Exercise Set II</h3>\n",
        "\n",
        "<p><b>Exercise:</b></p> \n",
        "<ul>\n",
        "<li> What values of $SS$ do you believe represent better clusterings? Why?\n",
        "<li> Create a numpy matrix `x_cols` with only the columns representing the offers (i.e. the 0/1 colums) \n",
        "<li> Write code that applies the [`KMeans`](http://scikit-learn.org/stable/modules/generated/sklearn.cluster.KMeans.html) clustering method from scikit-learn to this matrix. \n",
        "<li> Construct a plot showing $SS$ for each $K$ and pick $K$ using this plot. For simplicity, test $2 \\le K \\le 10$.\n",
        "<li> Make a bar chart showing the number of points in each cluster for k-means under the best $K$.\n",
        "<li> What challenges did you experience using the Elbow method to pick $K$?\n",
        "</ul>\n",
        "</div>"
      ]
    },
    {
      "cell_type": "markdown",
      "metadata": {
        "id": "RF0DzAhF_8Sh",
        "colab_type": "text"
      },
      "source": [
        "**Answer**\n",
        "\n",
        "* What values of  𝑆𝑆  do you believe represent better clusterings? Why?\n",
        "\n",
        "Smaller values for SS represents better clustering as the mean squared error for each point to it's centroid is minimized\n",
        "\n",
        "* What challenges did you experience using the Elbow method to pick $K$?\n",
        "\n",
        "\n",
        "TBD"
      ]
    },
    {
      "cell_type": "code",
      "metadata": {
        "id": "A-ChK77autK7",
        "colab_type": "code",
        "colab": {}
      },
      "source": [
        "# your turn\n"
      ],
      "execution_count": 0,
      "outputs": []
    },
    {
      "cell_type": "code",
      "metadata": {
        "id": "g51Wp8QsAZhm",
        "colab_type": "code",
        "colab": {}
      },
      "source": [
        ""
      ],
      "execution_count": 0,
      "outputs": []
    },
    {
      "cell_type": "markdown",
      "metadata": {
        "id": "yC7c0saHutK9",
        "colab_type": "text"
      },
      "source": [
        "### Choosing K: The Silhouette Method\n",
        "\n",
        "There exists another method that measures how well each datapoint $x_i$ \"fits\" its assigned cluster *and also* how poorly it fits into other clusters. This is a different way of looking at the same objective. Denote $a_{x_i}$ as the *average* distance from $x_i$ to all other points within its own cluster $k$. The lower the value, the better. On the other hand $b_{x_i}$ is the minimum average distance from $x_i$ to points in a different cluster, minimized over clusters. That is, compute separately for each cluster the average distance from $x_i$ to the points within that cluster, and then take the minimum. The silhouette $s(x_i)$ is defined as\n",
        "\n",
        "$$s(x_i) = \\frac{b_{x_i} - a_{x_i}}{\\max{\\left( a_{x_i}, b_{x_i}\\right)}}$$\n",
        "\n",
        "The silhouette score is computed on *every datapoint in every cluster*. The silhouette score ranges from -1 (a poor clustering) to +1 (a very dense clustering) with 0 denoting the situation where clusters overlap. Some criteria for the silhouette coefficient is provided in the table below."
      ]
    },
    {
      "cell_type": "markdown",
      "metadata": {
        "id": "vSLbFqAPutK-",
        "colab_type": "text"
      },
      "source": [
        "<pre>\n",
        "\n",
        "| Range       | Interpretation                                |\n",
        "|-------------|-----------------------------------------------|\n",
        "| 0.71 - 1.0  | A strong structure has been found.            |\n",
        "| 0.51 - 0.7  | A reasonable structure has been found.        |\n",
        "| 0.26 - 0.5  | The structure is weak and could be artificial.|\n",
        "| < 0.25      | No substantial structure has been found.      |\n",
        "\n",
        "</pre>\n",
        "Source: http://www.stat.berkeley.edu/~spector/s133/Clus.html"
      ]
    },
    {
      "cell_type": "markdown",
      "metadata": {
        "id": "KIMB5w5sutK_",
        "colab_type": "text"
      },
      "source": [
        "Fortunately, scikit-learn provides a function to compute this for us (phew!) called [`sklearn.metrics.silhouette_score`](http://scikit-learn.org/stable/modules/generated/sklearn.metrics.silhouette_score.html). Take a look at [this article](http://scikit-learn.org/stable/auto_examples/cluster/plot_kmeans_silhouette_analysis.html) on picking $K$ in scikit-learn, as it will help you in the next exercise set."
      ]
    },
    {
      "cell_type": "markdown",
      "metadata": {
        "id": "KylhioswutLA",
        "colab_type": "text"
      },
      "source": [
        "<div class=\"span5 alert alert-info\">\n",
        "<h3>Checkup Exercise Set III</h3>\n",
        "\n",
        "<p><b>Exercise:</b> Using the documentation for the `silhouette_score` function above, construct a series of silhouette plots like the ones in the article linked above.</p>\n",
        "\n",
        "<p><b>Exercise:</b> Compute the average silhouette score for each $K$ and plot it. What $K$ does the plot suggest we should choose? Does it differ from what we found using the Elbow method?</p>\n",
        "</div>"
      ]
    },
    {
      "cell_type": "code",
      "metadata": {
        "id": "QK7mC8rHutLA",
        "colab_type": "code",
        "colab": {}
      },
      "source": [
        "# Your turn.\n"
      ],
      "execution_count": 0,
      "outputs": []
    },
    {
      "cell_type": "markdown",
      "metadata": {
        "id": "qXbo7YoXutLD",
        "colab_type": "text"
      },
      "source": [
        "### Choosing $K$: The Gap Statistic\n",
        "\n",
        "There is one last method worth covering for picking $K$, the so-called Gap statistic. The computation for the gap statistic builds on the sum-of-squares established in the Elbow method discussion, and compares it to the sum-of-squares of a \"null distribution,\" that is, a random set of points with no clustering. The estimate for the optimal number of clusters $K$ is the value for which $\\log{SS}$ falls the farthest below that of the reference distribution:\n",
        "\n",
        "$$G_k = E_n^*\\{\\log SS_k\\} - \\log SS_k$$\n",
        "\n",
        "In other words a good clustering yields a much larger difference between the reference distribution and the clustered data. The reference distribution is a Monte Carlo (randomization) procedure that constructs $B$ random distributions of points within the bounding box (limits) of the original data and then applies K-means to this synthetic distribution of data points.. $E_n^*\\{\\log SS_k\\}$ is just the average $SS_k$ over all $B$ replicates. We then compute the standard deviation $\\sigma_{SS}$ of the values of $SS_k$ computed from the $B$ replicates of the reference distribution and compute\n",
        "\n",
        "$$s_k = \\sqrt{1+1/B}\\sigma_{SS}$$\n",
        "\n",
        "Finally, we choose $K=k$ such that $G_k \\geq G_{k+1} - s_{k+1}$."
      ]
    },
    {
      "cell_type": "markdown",
      "metadata": {
        "id": "nS620GQLutLD",
        "colab_type": "text"
      },
      "source": [
        "### Aside: Choosing $K$ when we Have Labels\n",
        "\n",
        "Unsupervised learning expects that we do not have the labels. In some situations, we may wish to cluster data that is labeled. Computing the optimal number of clusters is much easier if we have access to labels. There are several methods available. We will not go into the math or details since it is rare to have access to the labels, but we provide the names and references of these measures.\n",
        "\n",
        "* Adjusted Rand Index\n",
        "* Mutual Information\n",
        "* V-Measure\n",
        "* Fowlkes–Mallows index\n",
        "\n",
        "See [this article](http://scikit-learn.org/stable/modules/clustering.html) for more information about these metrics."
      ]
    },
    {
      "cell_type": "markdown",
      "metadata": {
        "id": "3ghAoQlHutLE",
        "colab_type": "text"
      },
      "source": [
        "## Visualizing Clusters using PCA\n",
        "\n",
        "How do we visualize clusters? If we only had two features, we could likely plot the data as is. But we have 100 data points each containing 32 features (dimensions). Principal Component Analysis (PCA) will help us reduce the dimensionality of our data from 32 to something lower. For a visualization on the coordinate plane, we will use 2 dimensions. In this exercise, we're going to use it to transform our multi-dimensional dataset into a 2 dimensional dataset.\n",
        "\n",
        "This is only one use of PCA for dimension reduction. We can also use PCA when we want to perform regression but we have a set of highly correlated variables. PCA untangles these correlations into a smaller number of features/predictors all of which are orthogonal (not correlated). PCA is also used to reduce a large set of variables into a much smaller one."
      ]
    },
    {
      "cell_type": "markdown",
      "metadata": {
        "id": "dQNeFW32utLF",
        "colab_type": "text"
      },
      "source": [
        "<div class=\"span5 alert alert-info\">\n",
        "<h3>Checkup Exercise Set IV</h3>\n",
        "\n",
        "<p><b>Exercise:</b> Use PCA to plot your clusters:</p>\n",
        "\n",
        "<ul>\n",
        "<li> Use scikit-learn's [`PCA`](http://scikit-learn.org/stable/modules/generated/sklearn.decomposition.PCA.html) function to reduce the dimensionality of your clustering data to 2 components\n",
        "<li> Create a data frame with the following fields:\n",
        "  <ul>\n",
        "  <li> customer name\n",
        "  <li> cluster id the customer belongs to\n",
        "  <li> the two PCA components (label them `x` and `y`)\n",
        "  </ul>\n",
        "<li> Plot a scatterplot of the `x` vs `y` columns\n",
        "<li> Color-code points differently based on cluster ID\n",
        "<li> How do the clusters look? \n",
        "<li> Based on what you see, what seems to be the best value for $K$? Moreover, which method of choosing $K$ seems to have produced the optimal result visually?\n",
        "</ul>\n",
        "\n",
        "<p><b>Exercise:</b> Now look at both the original raw data about the offers and transactions and look at the fitted clusters. Tell a story about the clusters in context of the original data. For example, do the clusters correspond to wine variants or something else interesting?</p>\n",
        "</div>"
      ]
    },
    {
      "cell_type": "code",
      "metadata": {
        "id": "B1c6xTt0utLF",
        "colab_type": "code",
        "colab": {}
      },
      "source": [
        "#your turn\n"
      ],
      "execution_count": 0,
      "outputs": []
    },
    {
      "cell_type": "markdown",
      "metadata": {
        "id": "0nMRq2JhutLH",
        "colab_type": "text"
      },
      "source": [
        "What we've done is we've taken those columns of 0/1 indicator variables, and we've transformed them into a 2-D dataset. We took one column and arbitrarily called it `x` and then called the other `y`. Now we can throw each point into a scatterplot. We color coded each point based on it's cluster so it's easier to see them."
      ]
    },
    {
      "cell_type": "markdown",
      "metadata": {
        "id": "QOvDn1Z8utLH",
        "colab_type": "text"
      },
      "source": [
        "<div class=\"span5 alert alert-info\">\n",
        "<h3>Exercise Set V</h3>\n",
        "\n",
        "<p>As we saw earlier, PCA has a lot of other uses. Since we wanted to visualize our data in 2 dimensions, restricted the number of dimensions to 2 in PCA. But what is the true optimal number of dimensions?</p>\n",
        "\n",
        "<p><b>Exercise:</b> Using a new PCA object shown in the next cell, plot the `explained_variance_` field and look for the elbow point, the point where the curve's rate of descent seems to slow sharply. This value is one possible value for the optimal number of dimensions. What is it?</p>\n",
        "</div>"
      ]
    },
    {
      "cell_type": "code",
      "metadata": {
        "id": "sRF8fKtTutLI",
        "colab_type": "code",
        "colab": {}
      },
      "source": [
        "#your turn\n",
        "# Initialize a new PCA model with a default number of components.\n",
        "import sklearn.decomposition\n",
        "pca = sklearn.decomposition.PCA()\n",
        "pca.fit(X)\n",
        "\n",
        "# Do the rest on your own :)\n"
      ],
      "execution_count": 0,
      "outputs": []
    },
    {
      "cell_type": "markdown",
      "metadata": {
        "id": "IgAnbpfgutLK",
        "colab_type": "text"
      },
      "source": [
        "## Other Clustering Algorithms\n",
        "\n",
        "k-means is only one of a ton of clustering algorithms. Below is a brief description of several clustering algorithms, and the table provides references to the other clustering algorithms in scikit-learn. \n",
        "\n",
        "* **Affinity Propagation** does not require the number of clusters $K$ to be known in advance! AP uses a \"message passing\" paradigm to cluster points based on their similarity. \n",
        "\n",
        "* **Spectral Clustering** uses the eigenvalues of a similarity matrix to reduce the dimensionality of the data before clustering in a lower dimensional space. This is tangentially similar to what we did to visualize k-means clusters using PCA. The number of clusters must be known a priori.\n",
        "\n",
        "* **Ward's Method** applies to hierarchical clustering. Hierarchical clustering algorithms take a set of data and successively divide the observations into more and more clusters at each layer of the hierarchy. Ward's method is used to determine when two clusters in the hierarchy should be combined into one. It is basically an extension of hierarchical clustering. Hierarchical clustering is *divisive*, that is, all observations are part of the same cluster at first, and at each successive iteration, the clusters are made smaller and smaller. With hierarchical clustering, a hierarchy is constructed, and there is not really the concept of \"number of clusters.\" The number of clusters simply determines how low or how high in the hierarchy we reference and can be determined empirically or by looking at the [dendogram](https://docs.scipy.org/doc/scipy-0.18.1/reference/generated/scipy.cluster.hierarchy.dendrogram.html).\n",
        "\n",
        "* **Agglomerative Clustering** is similar to hierarchical clustering but but is not divisive, it is *agglomerative*. That is, every observation is placed into its own cluster and at each iteration or level or the hierarchy, observations are merged into fewer and fewer clusters until convergence. Similar to hierarchical clustering, the constructed hierarchy contains all possible numbers of clusters and it is up to the analyst to pick the number by reviewing statistics or the dendogram.\n",
        "\n",
        "* **DBSCAN** is based on point density rather than distance. It groups together points with many nearby neighbors. DBSCAN is one of the most cited algorithms in the literature. It does not require knowing the number of clusters a priori, but does require specifying the neighborhood size."
      ]
    },
    {
      "cell_type": "markdown",
      "metadata": {
        "id": "8i9HzNCoutLL",
        "colab_type": "text"
      },
      "source": [
        "### Clustering Algorithms in Scikit-learn\n",
        "<table border=\"1\">\n",
        "<colgroup>\n",
        "<col width=\"15%\" />\n",
        "<col width=\"16%\" />\n",
        "<col width=\"20%\" />\n",
        "<col width=\"27%\" />\n",
        "<col width=\"22%\" />\n",
        "</colgroup>\n",
        "<thead valign=\"bottom\">\n",
        "<tr><th>Method name</th>\n",
        "<th>Parameters</th>\n",
        "<th>Scalability</th>\n",
        "<th>Use Case</th>\n",
        "<th>Geometry (metric used)</th>\n",
        "</tr>\n",
        "</thead>\n",
        "<tbody valign=\"top\">\n",
        "<tr><td>K-Means</span></a></td>\n",
        "<td>number of clusters</td>\n",
        "<td>Very large<span class=\"pre\">n_samples</span>, medium <span class=\"pre\">n_clusters</span> with\n",
        "MiniBatch code</td>\n",
        "<td>General-purpose, even cluster size, flat geometry, not too many clusters</td>\n",
        "<td>Distances between points</td>\n",
        "</tr>\n",
        "<tr><td>Affinity propagation</td>\n",
        "<td>damping, sample preference</td>\n",
        "<td>Not scalable with n_samples</td>\n",
        "<td>Many clusters, uneven cluster size, non-flat geometry</td>\n",
        "<td>Graph distance (e.g. nearest-neighbor graph)</td>\n",
        "</tr>\n",
        "<tr><td>Mean-shift</td>\n",
        "<td>bandwidth</td>\n",
        "<td>Not scalable with <span class=\"pre\">n_samples</span></td>\n",
        "<td>Many clusters, uneven cluster size, non-flat geometry</td>\n",
        "<td>Distances between points</td>\n",
        "</tr>\n",
        "<tr><td>Spectral clustering</td>\n",
        "<td>number of clusters</td>\n",
        "<td>Medium <span class=\"pre\">n_samples</span>, small <span class=\"pre\">n_clusters</span></td>\n",
        "<td>Few clusters, even cluster size, non-flat geometry</td>\n",
        "<td>Graph distance (e.g. nearest-neighbor graph)</td>\n",
        "</tr>\n",
        "<tr><td>Ward hierarchical clustering</td>\n",
        "<td>number of clusters</td>\n",
        "<td>Large <span class=\"pre\">n_samples</span> and <span class=\"pre\">n_clusters</span></td>\n",
        "<td>Many clusters, possibly connectivity constraints</td>\n",
        "<td>Distances between points</td>\n",
        "</tr>\n",
        "<tr><td>Agglomerative clustering</td>\n",
        "<td>number of clusters, linkage type, distance</td>\n",
        "<td>Large <span class=\"pre\">n_samples</span> and <span class=\"pre\">n_clusters</span></td>\n",
        "<td>Many clusters, possibly connectivity constraints, non Euclidean\n",
        "distances</td>\n",
        "<td>Any pairwise distance</td>\n",
        "</tr>\n",
        "<tr><td>DBSCAN</td>\n",
        "<td>neighborhood size</td>\n",
        "<td>Very large <span class=\"pre\">n_samples</span>, medium <span class=\"pre\">n_clusters</span></td>\n",
        "<td>Non-flat geometry, uneven cluster sizes</td>\n",
        "<td>Distances between nearest points</td>\n",
        "</tr>\n",
        "<tr><td>Gaussian mixtures</td>\n",
        "<td>many</td>\n",
        "<td>Not scalable</td>\n",
        "<td>Flat geometry, good for density estimation</td>\n",
        "<td>Mahalanobis distances to  centers</td>\n",
        "</tr>\n",
        "<tr><td>Birch</td>\n",
        "<td>branching factor, threshold, optional global clusterer.</td>\n",
        "<td>Large <span class=\"pre\">n_clusters</span> and <span class=\"pre\">n_samples</span></td>\n",
        "<td>Large dataset, outlier removal, data reduction.</td>\n",
        "<td>Euclidean distance between points</td>\n",
        "</tr>\n",
        "</tbody>\n",
        "</table>\n",
        "Source: http://scikit-learn.org/stable/modules/clustering.html"
      ]
    },
    {
      "cell_type": "markdown",
      "metadata": {
        "id": "jLkWdNoButLL",
        "colab_type": "text"
      },
      "source": [
        "<div class=\"span5 alert alert-info\">\n",
        "<h3>Exercise Set VI</h3>\n",
        "\n",
        "<p><b>Exercise:</b> Try clustering using the following algorithms. </p>\n",
        "<ol>\n",
        "<li>Affinity propagation\n",
        "<li>Spectral clustering\n",
        "<li>Agglomerative clustering\n",
        "<li>DBSCAN\n",
        "</ol>\n",
        "<p>How do their results compare? Which performs the best? Tell a story why you think it performs the best.</p>\n",
        "</div>\n"
      ]
    },
    {
      "cell_type": "code",
      "metadata": {
        "id": "Qa87kGSJutLM",
        "colab_type": "code",
        "colab": {}
      },
      "source": [
        "# Your turn"
      ],
      "execution_count": 0,
      "outputs": []
    }
  ]
}