{
 "cells": [
  {
   "cell_type": "markdown",
   "metadata": {},
   "source": [
    "## SQL at Scale with Spark SQL\n",
    "\n",
    "Welcome to the SQL mini project. For this project, you will use the Domino Data Lab Platform and work through a series of exercises using Spark SQL. The dataset size may not be too big but the intent here is to familiarize yourself with the Spark SQL interface which scales easily to huge datasets, without you having to worry about changing your SQL queries. \n",
    "\n",
    "The data you need is present in the mini-project folder in the form of three CSV files. You need to make sure that these datasets are uploaded and present in the same directory as this notebook file, since we will be importing these files in Spark and create the following tables under the __`country_club`__ database using Spark SQL.\n",
    "\n",
    "1. The __`bookings`__ table,\n",
    "2. The __`facilities`__ table, and\n",
    "3. The __`members`__ table.\n",
    "\n",
    "You will be uploading these datasets shortly into Spark to understand how to create a database within minutes! Once the database and the tables are populated, you will be focusing on the mini-project questions.\n",
    "\n",
    "In the mini project, you'll be asked a series of questions. You can solve them using the Domino platform, but for the final deliverable, please download this notebook as an IPython notebook (__`File -> Export -> IPython Notebook`__) and upload it to your GitHub."
   ]
  },
  {
   "cell_type": "markdown",
   "metadata": {},
   "source": [
    "# Checking Existence of Spark Environment Variables\n",
    "\n",
    "Make sure your notebook is loaded using a PySpark Workspace. If you open up a regular Jupyter workspace the following variables might not exist"
   ]
  },
  {
   "cell_type": "code",
   "execution_count": null,
   "metadata": {},
   "outputs": [],
   "source": [
    "spark"
   ]
  },
  {
   "cell_type": "code",
   "execution_count": null,
   "metadata": {},
   "outputs": [],
   "source": [
    "sqlContext"
   ]
  },
  {
   "cell_type": "markdown",
   "metadata": {},
   "source": [
    "### Run the following if you failed to open a notebook in the PySpark Workspace\n",
    "\n",
    "This will work assuming you are using Spark in the cloud on domino or you might need to configure with your own spark instance if you are working offline"
   ]
  },
  {
   "cell_type": "code",
   "execution_count": null,
   "metadata": {
    "collapsed": true
   },
   "outputs": [],
   "source": [
    "if 'sc' not in locals():\n",
    "    from pyspark.context import SparkContext\n",
    "    from pyspark.sql.context import SQLContext\n",
    "    from pyspark.sql.session import SparkSession\n",
    "    \n",
    "    sc = SparkContext()\n",
    "    sqlContext = SQLContext(sc)\n",
    "    spark = SparkSession(sc)"
   ]
  },
  {
   "cell_type": "markdown",
   "metadata": {},
   "source": [
    "# Create a utility function to run SQL commands\n",
    "\n",
    "Instead of typing the same python functions repeatedly, we build a small function where you can just pass your query to get results.\n",
    "\n",
    "- Remember we are using Spark SQL in PySpark\n",
    "- We can't run multiple SQL statements in one go (no semi-colon ';' separated SQL statements)\n",
    "- We can run multi-line SQL queries (but still has to be a single statement)"
   ]
  },
  {
   "cell_type": "code",
   "execution_count": null,
   "metadata": {
    "collapsed": true
   },
   "outputs": [],
   "source": [
    "def run_sql(statement):\n",
    "    try:\n",
    "        result = sqlContext.sql(statement)\n",
    "    except Exception as e:\n",
    "        print(e.desc, '\\n', e.stackTrace)\n",
    "        return\n",
    "    return result"
   ]
  },
  {
   "cell_type": "markdown",
   "metadata": {},
   "source": [
    "# Creating the Database\n",
    "\n",
    "We will first create our database in which we will be creating our three tables of interest"
   ]
  },
  {
   "cell_type": "code",
   "execution_count": null,
   "metadata": {},
   "outputs": [],
   "source": [
    "run_sql('drop database if exists country_club cascade')\n",
    "run_sql('create database country_club')\n",
    "dbs = run_sql('show databases')\n",
    "dbs.toPandas()"
   ]
  },
  {
   "cell_type": "markdown",
   "metadata": {},
   "source": [
    "# Creating the Tables\n",
    "\n",
    "In this section, we will be creating the three tables of interest and populate them with the data from the CSV files already available to you.\n",
    "\n",
    "To get started, first make sure you have already uploaded the three CSV files and they are present in the same directory as the notebook.\n",
    "\n",
    "Once you have done this, please remember to execute the following code to build the dataframes which will be saved as tables in our database"
   ]
  },
  {
   "cell_type": "code",
   "execution_count": null,
   "metadata": {
    "collapsed": true
   },
   "outputs": [],
   "source": [
    "# File location and type\n",
    "file_location_bookings = \"./Bookings.csv\"\n",
    "file_location_facilities = \"./Facilities.csv\"\n",
    "file_location_members = \"./Members.csv\"\n",
    "\n",
    "file_type = \"csv\"\n",
    "\n",
    "# CSV options\n",
    "infer_schema = \"true\"\n",
    "first_row_is_header = \"true\"\n",
    "delimiter = \",\"\n",
    "\n",
    "# The applied options are for CSV files. For other file types, these will be ignored.\n",
    "bookings_df = (spark.read.format(file_type) \n",
    "                    .option(\"inferSchema\", infer_schema) \n",
    "                    .option(\"header\", first_row_is_header) \n",
    "                    .option(\"sep\", delimiter) \n",
    "                    .load(file_location_bookings))\n",
    "\n",
    "facilities_df = (spark.read.format(file_type) \n",
    "                      .option(\"inferSchema\", infer_schema) \n",
    "                      .option(\"header\", first_row_is_header) \n",
    "                      .option(\"sep\", delimiter) \n",
    "                      .load(file_location_facilities))\n",
    "\n",
    "members_df = (spark.read.format(file_type) \n",
    "                      .option(\"inferSchema\", infer_schema) \n",
    "                      .option(\"header\", first_row_is_header) \n",
    "                      .option(\"sep\", delimiter) \n",
    "                      .load(file_location_members))"
   ]
  },
  {
   "cell_type": "markdown",
   "metadata": {},
   "source": [
    "### Viewing the dataframe schemas\n",
    "\n",
    "We can take a look at the schemas of our potential tables to be written to our database soon"
   ]
  },
  {
   "cell_type": "code",
   "execution_count": null,
   "metadata": {},
   "outputs": [],
   "source": [
    "print('Bookings Schema')\n",
    "bookings_df.printSchema()\n",
    "print('Facilities Schema')\n",
    "facilities_df.printSchema()\n",
    "print('Members Schema')\n",
    "members_df.printSchema()"
   ]
  },
  {
   "cell_type": "markdown",
   "metadata": {},
   "source": [
    "# Create permanent tables\n",
    "We will be creating three permanent tables here in our __`country_club`__ database as we discussed previously with the following code"
   ]
  },
  {
   "cell_type": "code",
   "execution_count": null,
   "metadata": {
    "collapsed": true
   },
   "outputs": [],
   "source": [
    "permanent_table_name_bookings = \"country_club.Bookings\"\n",
    "bookings_df.write.format(\"parquet\").saveAsTable(permanent_table_name_bookings)\n",
    "\n",
    "permanent_table_name_facilities = \"country_club.Facilities\"\n",
    "facilities_df.write.format(\"parquet\").saveAsTable(permanent_table_name_facilities)\n",
    "\n",
    "permanent_table_name_members = \"country_club.Members\"\n",
    "members_df.write.format(\"parquet\").saveAsTable(permanent_table_name_members)"
   ]
  },
  {
   "cell_type": "markdown",
   "metadata": {},
   "source": [
    "### Refresh tables and check them"
   ]
  },
  {
   "cell_type": "code",
   "execution_count": null,
   "metadata": {},
   "outputs": [],
   "source": [
    "run_sql('use country_club')\n",
    "run_sql('REFRESH table bookings')\n",
    "run_sql('REFRESH table facilities')\n",
    "run_sql('REFRESH table members')\n",
    "tbls = run_sql('show tables')\n",
    "tbls.toPandas()"
   ]
  },
  {
   "cell_type": "markdown",
   "metadata": {},
   "source": [
    "# Test a sample SQL query\n",
    "\n",
    "__Note:__ You can use multi-line SQL queries (but still a single statement) as follows"
   ]
  },
  {
   "cell_type": "code",
   "execution_count": null,
   "metadata": {},
   "outputs": [],
   "source": [
    "result = run_sql('''\n",
    "                    SELECT * \n",
    "                    FROM bookings \n",
    "                    LIMIT 3\n",
    "                 ''')\n",
    "result.toPandas()"
   ]
  },
  {
   "cell_type": "markdown",
   "metadata": {},
   "source": [
    "# Your Turn: Solve the following questions with Spark SQL\n",
    "\n",
    "- Make use of the `run_sql(...)` function as seen in the previous example\n",
    "- You can write multi-line SQL queries but it has to be a single statement (no use of semi-colons ';')\n",
    "- Make use of the `toPandas()` function as depicted in the previous example to display the query results"
   ]
  },
  {
   "cell_type": "markdown",
   "metadata": {},
   "source": [
    "#### Q1: Some of the facilities charge a fee to members, but some do not. Please list the names of the facilities that do."
   ]
  },
  {
   "cell_type": "code",
   "execution_count": null,
   "metadata": {},
   "outputs": [],
   "source": [
    "result = run_sql('''\n",
    "                    SELECT *\n",
    "                    FROM facilities\n",
    "                    WHERE membercost > 0\n",
    "                 ''')\n",
    "result.toPandas()"
   ]
  },
  {
   "cell_type": "markdown",
   "metadata": {},
   "source": [
    "####  Q2: How many facilities do not charge a fee to members?"
   ]
  },
  {
   "cell_type": "code",
   "execution_count": null,
   "metadata": {},
   "outputs": [],
   "source": [
    "result = run_sql('''\n",
    "                    SELECT COUNT(*) as freq\n",
    "                    FROM facilities\n",
    "                    WHERE membercost = 0\n",
    "                 ''')\n",
    "result.toPandas()"
   ]
  },
  {
   "cell_type": "markdown",
   "metadata": {},
   "source": [
    "#### Q3: How can you produce a list of facilities that charge a fee to members, where the fee is less than 20% of the facility's monthly maintenance cost? \n",
    "#### Return the facid, facility name, member cost, and monthly maintenance of the facilities in question."
   ]
  },
  {
   "cell_type": "code",
   "execution_count": null,
   "metadata": {},
   "outputs": [],
   "source": [
    "result = run_sql('''\n",
    "                    SELECT facid, name, membercost, monthlymaintenance\n",
    "                    FROM facilities\n",
    "                    WHERE membercost > 0 \n",
    "                    AND (membercost < monthlymaintenance/5.0)\n",
    "                ''')\n",
    "result.toPandas()"
   ]
  },
  {
   "cell_type": "markdown",
   "metadata": {},
   "source": [
    "#### Q4: How can you retrieve the details of facilities with ID 1 and 5? Write the query without using the OR operator."
   ]
  },
  {
   "cell_type": "code",
   "execution_count": null,
   "metadata": {},
   "outputs": [],
   "source": [
    "result = run_sql('''\n",
    "                    SELECT *\n",
    "                    FROM facilities\n",
    "                    WHERE facid IN (1,5)\n",
    "                ''')\n",
    "result.toPandas()"
   ]
  },
  {
   "cell_type": "markdown",
   "metadata": {},
   "source": [
    "#### Q5: How can you produce a list of facilities, with each labelled as 'cheap' or 'expensive', depending on if their monthly maintenance cost is more than $100? \n",
    "#### Return the name and monthly maintenance of the facilities in question."
   ]
  },
  {
   "cell_type": "code",
   "execution_count": null,
   "metadata": {},
   "outputs": [],
   "source": [
    "result = run_sql('''\n",
    "                    SELECT name,\n",
    "                    CASE WHEN monthlymaintenance > 100 \n",
    "                            THEN 'expensive' \n",
    "                         ELSE 'cheap' \n",
    "                    END AS cost\n",
    "                    FROM facilities\n",
    "                 ''')\n",
    "result.toPandas()"
   ]
  },
  {
   "cell_type": "markdown",
   "metadata": {},
   "source": [
    "#### Q6: You'd like to get the first and last name of the last member(s) who signed up. Do not use the LIMIT clause for your solution."
   ]
  },
  {
   "cell_type": "code",
   "execution_count": null,
   "metadata": {},
   "outputs": [],
   "source": [
    "result = run_sql('''\n",
    "                    SELECT firstname, surname, joindate\n",
    "                    FROM members\n",
    "                    WHERE joindate = (SELECT MAX(joindate)\n",
    "                                       FROM members)\n",
    "                 ''')\n",
    "result.toPandas()"
   ]
  },
  {
   "cell_type": "markdown",
   "metadata": {},
   "source": [
    "####  Q7: How can you produce a list of all members who have used a tennis court?\n",
    "- Include in your output the name of the court, and the name of the member formatted as a single column. \n",
    "- Ensure no duplicate data\n",
    "- Also order by the member name."
   ]
  },
  {
   "cell_type": "code",
   "execution_count": null,
   "metadata": {
    "scrolled": true
   },
   "outputs": [],
   "source": [
    "result = run_sql('''\n",
    "                    SELECT DISTINCT CONCAT(firstname, ' ', surname) AS member, name AS facility\n",
    "                    FROM members\n",
    "                    INNER JOIN bookings\n",
    "                        ON members.memid = bookings.memid\n",
    "                    INNER JOIN facilities\n",
    "                        ON bookings.facid = facilities.facid\n",
    "                    WHERE name LIKE '%Tennis Court%'\n",
    "                    ORDER BY member\n",
    "                 ''')\n",
    "result.toPandas()"
   ]
  },
  {
   "cell_type": "markdown",
   "metadata": {},
   "source": [
    "#### Q8: How can you produce a list of bookings on the day of 2012-09-14 which will cost the member (or guest) more than $30? \n",
    "\n",
    "- Remember that guests have different costs to members (the listed costs are per half-hour 'slot')\n",
    "- The guest user's ID is always 0. \n",
    "\n",
    "#### Include in your output the name of the facility, the name of the member formatted as a single column, and the cost.\n",
    "\n",
    "- Order by descending cost, and do not use any subqueries."
   ]
  },
  {
   "cell_type": "code",
   "execution_count": null,
   "metadata": {},
   "outputs": [],
   "source": [
    "result = run_sql('''\n",
    "                    SELECT\n",
    "                        CONCAT(firstname, ' ', surname) AS member,\n",
    "                        name AS facility,\n",
    "                        CASE WHEN firstname = 'GUEST' \n",
    "                                THEN guestcost * slots \n",
    "                             ELSE membercost * slots \n",
    "                        END AS cost\n",
    "                    FROM members\n",
    "                    INNER JOIN bookings\n",
    "                        ON members.memid = bookings.memid\n",
    "                    INNER JOIN facilities\n",
    "                        ON bookings.facid = facilities.facid\n",
    "                    WHERE starttime >= '2012-09-14' \n",
    "                    AND starttime < '2012-09-15'\n",
    "                    AND CASE WHEN firstname = 'GUEST' \n",
    "                                THEN guestcost * slots \n",
    "                             ELSE membercost * slots \n",
    "                        END > 30\n",
    "                    ORDER BY cost DESC\n",
    "                 ''')\n",
    "result.toPandas()"
   ]
  },
  {
   "cell_type": "markdown",
   "metadata": {},
   "source": [
    "#### Q9: This time, produce the same result as in Q8, but using a subquery."
   ]
  },
  {
   "cell_type": "code",
   "execution_count": null,
   "metadata": {},
   "outputs": [],
   "source": [
    "result = run_sql('''\n",
    "                    SELECT\n",
    "                    CONCAT(firstname, ' ', surname) AS member,\n",
    "                    name AS facility,\n",
    "                    cost\n",
    "                    FROM\n",
    "                        (SELECT\n",
    "                            firstname,\n",
    "                            surname,\n",
    "                            name,\n",
    "                            CASE WHEN firstname = 'GUEST' \n",
    "                                    THEN guestcost * slots \n",
    "                                 ELSE membercost * slots \n",
    "                            END AS cost,\n",
    "                            starttime\n",
    "                        FROM members\n",
    "                        INNER JOIN bookings\n",
    "                            ON members.memid = bookings.memid\n",
    "                        INNER JOIN facilities\n",
    "                            ON bookings.facid = facilities.facid) AS inner_table\n",
    "                    WHERE starttime >= '2012-09-14' \n",
    "                    AND starttime < '2012-09-15'\n",
    "                    AND cost > 30\n",
    "                    ORDER BY cost DESC\n",
    "                 ''')\n",
    "result.toPandas()"
   ]
  },
  {
   "cell_type": "markdown",
   "metadata": {},
   "source": [
    "#### Q10: Produce a list of facilities with a total revenue less than 1000.\n",
    "- The output should have facility name and total revenue, sorted by revenue. \n",
    "- Remember that there's a different cost for guests and members!"
   ]
  },
  {
   "cell_type": "code",
   "execution_count": null,
   "metadata": {},
   "outputs": [],
   "source": [
    "result = run_sql('''\n",
    "                    SELECT\n",
    "                        name,\n",
    "                        revenue\n",
    "                        FROM\n",
    "                            (SELECT\n",
    "                                name,\n",
    "                                SUM(CASE WHEN memid = 0 \n",
    "                                            THEN guestcost * slots \n",
    "                                         ELSE membercost * slots \n",
    "                                    END) AS revenue\n",
    "                             FROM bookings \n",
    "                             INNER JOIN facilities\n",
    "                                ON bookings.facid = facilities.facid\n",
    "                             GROUP BY name) AS inner_table\n",
    "                        WHERE revenue < 1000\n",
    "                        ORDER BY revenue\n",
    "                 ''')\n",
    "result.toPandas()"
   ]
  }
 ],
 "metadata": {
  "kernelspec": {
   "display_name": "Python 3",
   "language": "python",
   "name": "python3"
  },
  "language_info": {
   "codemirror_mode": {
    "name": "ipython",
    "version": 3
   },
   "file_extension": ".py",
   "mimetype": "text/x-python",
   "name": "python",
   "nbconvert_exporter": "python",
   "pygments_lexer": "ipython3",
   "version": "3.6.2"
  },
  "name": "Mini_Project_SQL_with_Spark_Solutions",
  "notebookId": 1931807081501703
 },
 "nbformat": 4,
 "nbformat_minor": 1
}
