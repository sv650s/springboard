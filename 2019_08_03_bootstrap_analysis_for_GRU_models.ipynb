{
  "nbformat": 4,
  "nbformat_minor": 0,
  "metadata": {
    "colab": {
      "name": "2019-08-03-bootstrap-analysis-for-GRU-models.ipynb",
      "version": "0.3.2",
      "provenance": [],
      "include_colab_link": true
    },
    "kernelspec": {
      "name": "python3",
      "display_name": "Python 3"
    },
    "accelerator": "GPU"
  },
  "cells": [
    {
      "cell_type": "markdown",
      "metadata": {
        "id": "view-in-github",
        "colab_type": "text"
      },
      "source": [
        "<a href=\"https://colab.research.google.com/github/sv650s/springboard/blob/master/2019_08_03_bootstrap_analysis_for_GRU_models.ipynb\" target=\"_parent\"><img src=\"https://colab.research.google.com/assets/colab-badge.svg\" alt=\"Open In Colab\"/></a>"
      ]
    },
    {
      "cell_type": "markdown",
      "metadata": {
        "id": "eorNYVczOnOi",
        "colab_type": "text"
      },
      "source": [
        "# Use bootstraping to test statistical signifiance of our models\n",
        "\n",
        "In our previous [notebook](https://github.com/sv650s/sb-capstone/blob/master/2019_08_02_biGRU_1layer_random_embedding_vs_pretrained.ipynb) where we compared the difference between pre-trained embeddings and random embeddings for 1 layer bidirectional GRUs we saw that the precision for class 2 was 34% in our base mode (random embedding) compared to 30% in the pargram model\n",
        "\n",
        "We will use p-value to see if the difference in precision is statistically significant\n",
        "\n",
        "Base mode - 1 layer bidirectional GRU with Attention using random embeddings\n",
        "Pargram mode - 1 layer bidirectional GRU with Attetion using pre-trained paragram embeddings\n",
        "\n",
        "Our *hypothesis* is that the base model produceses better precision for class 2 than paragrm model\n",
        "\n",
        "I used 2 methods to do this:\n",
        "* bootstrap paragram model predictions to see how likely it would be to produce the same precision as our base model - in hind sight this test is probably not valid because it does not account for variability of the precision of the base model as we are only bootstraping the paragram model predictions (but the code is included here anyways)\n",
        "* using permutation method to get the p-value for predictions in both models to see how likely it is to generate the difference we saw in precisions in our GRU prototypes\n",
        "\n",
        "**Conclusion**\n",
        "\n",
        "p-value for generated the 4% difference in our precision for class 2 was around 10%. This is a borderline result - we cannot say it's definitive that one model is better than the other however, the likelihood that the difference is generated due to randomness is also rather low (~10% chance).\n",
        "\n",
        "\n",
        "Code for our custom models are here:\n",
        "* [dict_util](https://github.com/sv650s/sb-capstone/blob/master/util/dict_util.py)\n",
        "* [keras_util](https://github.com/sv650s/sb-capstone/blob/master/util/keras_util.py)\n",
        "\n",
        "\n"
      ]
    },
    {
      "cell_type": "code",
      "metadata": {
        "id": "WIT9fNjeOyPL",
        "colab_type": "code",
        "outputId": "db814d15-57c4-4be1-bd51-d90278a09dfa",
        "colab": {
          "base_uri": "https://localhost:8080/",
          "height": 34
        }
      },
      "source": [
        "from google.colab import drive\n",
        "import sys\n",
        "drive.mount('/content/drive')\n",
        "DRIVE_DIR = \"drive/My Drive/Springboard/capstone\"\n",
        "# add this to sys patch so we can import utility functions\n",
        "sys.path.append(DRIVE_DIR)"
      ],
      "execution_count": 1,
      "outputs": [
        {
          "output_type": "stream",
          "text": [
            "Drive already mounted at /content/drive; to attempt to forcibly remount, call drive.mount(\"/content/drive\", force_remount=True).\n"
          ],
          "name": "stdout"
        }
      ]
    },
    {
      "cell_type": "code",
      "metadata": {
        "id": "lywYcW_gOyOn",
        "colab_type": "code",
        "colab": {
          "base_uri": "https://localhost:8080/",
          "height": 34
        },
        "outputId": "0dcd2add-cef2-4c5b-eeaa-337a8d8a32a2"
      },
      "source": [
        "import pandas as pd\n",
        "from sklearn.metrics import classification_report\n",
        "import numpy as np\n",
        "\n",
        "# load from our custom modules\n",
        "import util.keras_util as ku\n",
        "import util.dict_util as du\n",
        "\n",
        "\n",
        "report = pd.read_csv(f'{DRIVE_DIR}/reports/2019-08-03-dl_prototype-report.csv', quotechar=\"'\")\n",
        "\n",
        "\n",
        "base = report[report.model_name == 'biGRU_1layer_attention']\n",
        "paragram = report[report.model_name == 'biGRU_1layer_attention-paragram']\n",
        "\n",
        "DATA_FILE = f'{DRIVE_DIR}/data/amazon_reviews_us_Wireless_v1_00-preprocessed-110k.csv'\n",
        "data = pd.read_csv(DATA_FILE)\n",
        "\n",
        "# number of times we will sample\n",
        "SAMPLE_ITERATIONS = 5000"
      ],
      "execution_count": 2,
      "outputs": [
        {
          "output_type": "stream",
          "text": [
            "Using TensorFlow backend.\n"
          ],
          "name": "stderr"
        }
      ]
    },
    {
      "cell_type": "markdown",
      "metadata": {
        "id": "vpX8-NTy66ra",
        "colab_type": "text"
      },
      "source": [
        "## Reload our training data so we can create bootstrap samples\n",
        "\n",
        "\n"
      ]
    },
    {
      "cell_type": "code",
      "metadata": {
        "id": "-odQXzblPuLV",
        "colab_type": "code",
        "outputId": "47acb669-d6f8-4e98-9851-e2db41531c41",
        "colab": {
          "base_uri": "https://localhost:8080/",
          "height": 190
        }
      },
      "source": [
        "FEATURE_COLUMN = \"review_body\"\n",
        "LABEL_COLUMN = \"star_rating\"\n",
        "\n",
        "X_train, X_test, y_train, y_test, t, max_sequence_length = ku.preprocess_file(data, FEATURE_COLUMN, LABEL_COLUMN, 0.99)"
      ],
      "execution_count": 3,
      "outputs": [
        {
          "output_type": "stream",
          "text": [
            "One hot enocde label data...\n",
            "Splitting data into training and test sets...\n"
          ],
          "name": "stdout"
        },
        {
          "output_type": "stream",
          "text": [
            "/usr/local/lib/python3.6/dist-packages/sklearn/preprocessing/_encoders.py:415: FutureWarning: The handling of integer data will change in version 0.22. Currently, the categories are determined based on the range [0, max(values)], while in the future they will be determined based on the unique values.\n",
            "If you want the future behaviour and silence this warning, you can specify \"categories='auto'\".\n",
            "In case you used a LabelEncoder before this OneHotEncoder to convert the categories to integers, then you can now use the OneHotEncoder directly.\n",
            "  warnings.warn(msg, FutureWarning)\n"
          ],
          "name": "stderr"
        },
        {
          "output_type": "stream",
          "text": [
            "Vocabulary size=40788\n",
            "Number of Documents=84032\n",
            "Max Sequence Length: 186\n"
          ],
          "name": "stdout"
        }
      ]
    },
    {
      "cell_type": "code",
      "metadata": {
        "id": "hY-pcW0hRwgk",
        "colab_type": "code",
        "outputId": "02d2f88c-149b-4f0a-b2e4-990ea305e48f",
        "colab": {
          "base_uri": "https://localhost:8080/",
          "height": 510
        }
      },
      "source": [
        "base.info()"
      ],
      "execution_count": 4,
      "outputs": [
        {
          "output_type": "stream",
          "text": [
            "<class 'pandas.core.frame.DataFrame'>\n",
            "Int64Index: 1 entries, 3 to 3\n",
            "Data columns (total 24 columns):\n",
            "accuracy                 1 non-null float64\n",
            "classification_report    1 non-null object\n",
            "confusion_matrix         1 non-null object\n",
            "description              1 non-null object\n",
            "embedding                1 non-null float64\n",
            "evaluate_time_min        1 non-null float64\n",
            "file                     1 non-null object\n",
            "fpr                      1 non-null object\n",
            "loss                     1 non-null float64\n",
            "max_sequence_length      1 non-null float64\n",
            "model_file               1 non-null object\n",
            "model_name               1 non-null object\n",
            "network_history_file     1 non-null object\n",
            "predict_time_min         1 non-null float64\n",
            "roc_auc                  1 non-null object\n",
            "status                   1 non-null object\n",
            "status_date              1 non-null object\n",
            "test_examples            1 non-null float64\n",
            "test_features            1 non-null float64\n",
            "tokenizer_file           1 non-null object\n",
            "tpr                      1 non-null object\n",
            "train_examples           1 non-null float64\n",
            "train_features           1 non-null float64\n",
            "train_time_min           1 non-null float64\n",
            "dtypes: float64(11), object(13)\n",
            "memory usage: 200.0+ bytes\n"
          ],
          "name": "stdout"
        }
      ]
    },
    {
      "cell_type": "markdown",
      "metadata": {
        "id": "hgt_s0Gt7Ewq",
        "colab_type": "text"
      },
      "source": [
        "### Reload our models so we can use them to do predictions later"
      ]
    },
    {
      "cell_type": "code",
      "metadata": {
        "id": "erUaASnFSt_c",
        "colab_type": "code",
        "colab": {}
      },
      "source": [
        "import keras\n",
        "from keras.layers import CuDNNGRU\n",
        "from util.keras_util import AttentionLayer\n"
      ],
      "execution_count": 0,
      "outputs": []
    },
    {
      "cell_type": "code",
      "metadata": {
        "id": "duRQpKUJ7Ufj",
        "colab_type": "code",
        "outputId": "09d4dc12-ccf5-47e4-ca5a-06262c8b3f68",
        "colab": {
          "base_uri": "https://localhost:8080/",
          "height": 394
        }
      },
      "source": [
        "base_model = keras.models.load_model(base.model_file.values[0], \n",
        "                                     custom_objects={'AttentionLayer': AttentionLayer})\n",
        "base_predicted = base_model.predict(X_test, verbose=1)\n",
        "base_predicted_unencoded = ku.unencode(base_predicted)\n",
        "y_test_unencoded = ku.unencode(y_test)\n",
        "base_predicted_unencoded[:5]"
      ],
      "execution_count": 6,
      "outputs": [
        {
          "output_type": "stream",
          "text": [
            "WARNING: Logging before flag parsing goes to stderr.\n",
            "W0804 22:06:35.001941 140053671044992 deprecation_wrapper.py:119] From /usr/local/lib/python3.6/dist-packages/keras/backend/tensorflow_backend.py:517: The name tf.placeholder is deprecated. Please use tf.compat.v1.placeholder instead.\n",
            "\n",
            "W0804 22:06:35.026881 140053671044992 deprecation_wrapper.py:119] From /usr/local/lib/python3.6/dist-packages/keras/backend/tensorflow_backend.py:4138: The name tf.random_uniform is deprecated. Please use tf.random.uniform instead.\n",
            "\n",
            "W0804 22:06:36.458085 140053671044992 deprecation_wrapper.py:119] From /usr/local/lib/python3.6/dist-packages/keras/backend/tensorflow_backend.py:131: The name tf.get_default_graph is deprecated. Please use tf.compat.v1.get_default_graph instead.\n",
            "\n",
            "W0804 22:06:36.459074 140053671044992 deprecation_wrapper.py:119] From /usr/local/lib/python3.6/dist-packages/keras/backend/tensorflow_backend.py:133: The name tf.placeholder_with_default is deprecated. Please use tf.compat.v1.placeholder_with_default instead.\n",
            "\n",
            "W0804 22:06:36.469124 140053671044992 deprecation.py:506] From /usr/local/lib/python3.6/dist-packages/keras/backend/tensorflow_backend.py:3445: calling dropout (from tensorflow.python.ops.nn_ops) with keep_prob is deprecated and will be removed in a future version.\n",
            "Instructions for updating:\n",
            "Please use `rate` instead of `keep_prob`. Rate should be set to `rate = 1 - keep_prob`.\n",
            "W0804 22:06:36.605448 140053671044992 deprecation_wrapper.py:119] From /usr/local/lib/python3.6/dist-packages/keras/backend/tensorflow_backend.py:174: The name tf.get_default_session is deprecated. Please use tf.compat.v1.get_default_session instead.\n",
            "\n",
            "W0804 22:06:37.524179 140053671044992 deprecation_wrapper.py:119] From /usr/local/lib/python3.6/dist-packages/keras/optimizers.py:790: The name tf.train.Optimizer is deprecated. Please use tf.compat.v1.train.Optimizer instead.\n",
            "\n",
            "W0804 22:06:37.626383 140053671044992 deprecation.py:323] From /usr/local/lib/python3.6/dist-packages/tensorflow/python/ops/math_grad.py:1250: add_dispatch_support.<locals>.wrapper (from tensorflow.python.ops.array_ops) is deprecated and will be removed in a future version.\n",
            "Instructions for updating:\n",
            "Use tf.where in 2.0, which has the same broadcast rule as np.where\n"
          ],
          "name": "stderr"
        },
        {
          "output_type": "stream",
          "text": [
            "28011/28011 [==============================] - 19s 688us/step\n"
          ],
          "name": "stdout"
        },
        {
          "output_type": "execute_result",
          "data": {
            "text/plain": [
              "[5, 5, 5, 5, 5]"
            ]
          },
          "metadata": {
            "tags": []
          },
          "execution_count": 6
        }
      ]
    },
    {
      "cell_type": "code",
      "metadata": {
        "id": "yBTWGRE7Xip3",
        "colab_type": "code",
        "outputId": "a1f1be71-c2dd-4b95-f53b-217e4c9482f5",
        "colab": {
          "base_uri": "https://localhost:8080/",
          "height": 51
        }
      },
      "source": [
        "paragram_model = keras.models.load_model(paragram.model_file.values[0], \n",
        "                                     custom_objects={'AttentionLayer': AttentionLayer})\n",
        "paragram_predicted = paragram_model.predict(X_test, verbose=1)\n",
        "paragram_predicted_unencoded = ku.unencode(paragram_predicted)\n",
        "paragram_predicted_unencoded[:5]"
      ],
      "execution_count": 7,
      "outputs": [
        {
          "output_type": "stream",
          "text": [
            "28011/28011 [==============================] - 1s 40us/step\n"
          ],
          "name": "stdout"
        },
        {
          "output_type": "execute_result",
          "data": {
            "text/plain": [
              "[5, 5, 5, 1, 5]"
            ]
          },
          "metadata": {
            "tags": []
          },
          "execution_count": 7
        }
      ]
    },
    {
      "cell_type": "markdown",
      "metadata": {
        "id": "x51am3m57PF5",
        "colab_type": "text"
      },
      "source": [
        "## Bootstrap method\n",
        "\n",
        "Here we will use the predictions for the paragram model and create bootstrap samples with replacement. For each bootstrap sample, we will create a classification report and extract the class 2 precision to create our distribution.\n",
        "\n",
        "Once we have our distribution of class 2 precision from the paragram model, we will look at how likely it is to generate a precision that is equal or above the precision we saw from the our base model"
      ]
    },
    {
      "cell_type": "code",
      "metadata": {
        "id": "6og1oUVWYr5L",
        "colab_type": "code",
        "colab": {}
      },
      "source": [
        "import numpy as np\n",
        "from sklearn.metrics import classification_report\n",
        "\n",
        "\n",
        "def bootstrap_classification_report(predictions: np.ndarray,\n",
        "                                    truths: np.ndarray,\n",
        "                                    sample_size: int,\n",
        "                                    ) -> dict:\n",
        "  \"\"\"\n",
        "  Create bootstrap replicates classification report based on sample_size\n",
        "\n",
        "  Parameters\n",
        "  ----------\n",
        "  :predictions: ndarray of predictions\n",
        "  :truths: ndarray of truths\n",
        "  :sample_size: number of samples with replacement \n",
        "\n",
        "  Return\n",
        "  ------\n",
        "  classfication report dictionary\n",
        "  \"\"\"\n",
        "  sample_size = min(sample_size, len(predictions))\n",
        "  indexes = np.random.choice(np.arange(sample_size), sample_size)\n",
        "  truth_replicates = [truths[i] for i in indexes]\n",
        "  prediction_replicates = [predictions[i] for i in indexes]\n",
        "  return classification_report(truth_replicates,\n",
        "                               prediction_replicates,\n",
        "                               output_dict=True)\n",
        "\n",
        "\n",
        "  \n"
      ],
      "execution_count": 0,
      "outputs": []
    },
    {
      "cell_type": "code",
      "metadata": {
        "id": "hOhWeISHoYGB",
        "colab_type": "code",
        "outputId": "615f4b28-90b2-4bab-dc97-cf7af6dcbc38",
        "colab": {
          "base_uri": "https://localhost:8080/",
          "height": 258
        }
      },
      "source": [
        "# Create bootstrap replicate is the class 2 precision\n",
        "\n",
        "cr_df = pd.DataFrame()\n",
        "for i in range(SAMPLE_ITERATIONS):\n",
        "  cr = bootstrap_classification_report(paragram_predicted_unencoded,\n",
        "                                      y_test_unencoded,\n",
        "                                      len(paragram_predicted_unencoded))\n",
        "  d = du.add_dict_to_dict({}, cr)\n",
        "  cr_df = cr_df.append(d, ignore_index=True)\n",
        "cr_df.head()"
      ],
      "execution_count": 9,
      "outputs": [
        {
          "output_type": "execute_result",
          "data": {
            "text/html": [
              "<div>\n",
              "<style scoped>\n",
              "    .dataframe tbody tr th:only-of-type {\n",
              "        vertical-align: middle;\n",
              "    }\n",
              "\n",
              "    .dataframe tbody tr th {\n",
              "        vertical-align: top;\n",
              "    }\n",
              "\n",
              "    .dataframe thead th {\n",
              "        text-align: right;\n",
              "    }\n",
              "</style>\n",
              "<table border=\"1\" class=\"dataframe\">\n",
              "  <thead>\n",
              "    <tr style=\"text-align: right;\">\n",
              "      <th></th>\n",
              "      <th>1_f1-score</th>\n",
              "      <th>1_precision</th>\n",
              "      <th>1_recall</th>\n",
              "      <th>1_support</th>\n",
              "      <th>2_f1-score</th>\n",
              "      <th>2_precision</th>\n",
              "      <th>2_recall</th>\n",
              "      <th>2_support</th>\n",
              "      <th>3_f1-score</th>\n",
              "      <th>3_precision</th>\n",
              "      <th>3_recall</th>\n",
              "      <th>3_support</th>\n",
              "      <th>4_f1-score</th>\n",
              "      <th>4_precision</th>\n",
              "      <th>4_recall</th>\n",
              "      <th>4_support</th>\n",
              "      <th>5_f1-score</th>\n",
              "      <th>5_precision</th>\n",
              "      <th>5_recall</th>\n",
              "      <th>5_support</th>\n",
              "      <th>accuracy</th>\n",
              "      <th>macro avg_f1-score</th>\n",
              "      <th>macro avg_precision</th>\n",
              "      <th>macro avg_recall</th>\n",
              "      <th>macro avg_support</th>\n",
              "      <th>weighted avg_f1-score</th>\n",
              "      <th>weighted avg_precision</th>\n",
              "      <th>weighted avg_recall</th>\n",
              "      <th>weighted avg_support</th>\n",
              "    </tr>\n",
              "  </thead>\n",
              "  <tbody>\n",
              "    <tr>\n",
              "      <th>0</th>\n",
              "      <td>0.705869</td>\n",
              "      <td>0.652361</td>\n",
              "      <td>0.768937</td>\n",
              "      <td>3934.0</td>\n",
              "      <td>0.123754</td>\n",
              "      <td>0.304703</td>\n",
              "      <td>0.077645</td>\n",
              "      <td>1919.0</td>\n",
              "      <td>0.314154</td>\n",
              "      <td>0.352826</td>\n",
              "      <td>0.283123</td>\n",
              "      <td>2536.0</td>\n",
              "      <td>0.306690</td>\n",
              "      <td>0.412710</td>\n",
              "      <td>0.244008</td>\n",
              "      <td>4631.0</td>\n",
              "      <td>0.834728</td>\n",
              "      <td>0.762809</td>\n",
              "      <td>0.921620</td>\n",
              "      <td>14991.0</td>\n",
              "      <td>0.672522</td>\n",
              "      <td>0.457039</td>\n",
              "      <td>0.497082</td>\n",
              "      <td>0.459067</td>\n",
              "      <td>28011.0</td>\n",
              "      <td>0.633492</td>\n",
              "      <td>0.620914</td>\n",
              "      <td>0.672522</td>\n",
              "      <td>28011.0</td>\n",
              "    </tr>\n",
              "    <tr>\n",
              "      <th>1</th>\n",
              "      <td>0.704116</td>\n",
              "      <td>0.653177</td>\n",
              "      <td>0.763673</td>\n",
              "      <td>3931.0</td>\n",
              "      <td>0.123288</td>\n",
              "      <td>0.289225</td>\n",
              "      <td>0.078341</td>\n",
              "      <td>1953.0</td>\n",
              "      <td>0.307073</td>\n",
              "      <td>0.341498</td>\n",
              "      <td>0.278953</td>\n",
              "      <td>2599.0</td>\n",
              "      <td>0.314646</td>\n",
              "      <td>0.410140</td>\n",
              "      <td>0.255222</td>\n",
              "      <td>4596.0</td>\n",
              "      <td>0.834841</td>\n",
              "      <td>0.765570</td>\n",
              "      <td>0.917894</td>\n",
              "      <td>14932.0</td>\n",
              "      <td>0.669701</td>\n",
              "      <td>0.456793</td>\n",
              "      <td>0.491922</td>\n",
              "      <td>0.458817</td>\n",
              "      <td>28011.0</td>\n",
              "      <td>0.632562</td>\n",
              "      <td>0.618919</td>\n",
              "      <td>0.669701</td>\n",
              "      <td>28011.0</td>\n",
              "    </tr>\n",
              "    <tr>\n",
              "      <th>2</th>\n",
              "      <td>0.701717</td>\n",
              "      <td>0.659518</td>\n",
              "      <td>0.749686</td>\n",
              "      <td>3979.0</td>\n",
              "      <td>0.120018</td>\n",
              "      <td>0.271287</td>\n",
              "      <td>0.077053</td>\n",
              "      <td>1778.0</td>\n",
              "      <td>0.308610</td>\n",
              "      <td>0.351969</td>\n",
              "      <td>0.274763</td>\n",
              "      <td>2635.0</td>\n",
              "      <td>0.307127</td>\n",
              "      <td>0.408092</td>\n",
              "      <td>0.246212</td>\n",
              "      <td>4752.0</td>\n",
              "      <td>0.829071</td>\n",
              "      <td>0.755800</td>\n",
              "      <td>0.918074</td>\n",
              "      <td>14867.0</td>\n",
              "      <td>0.666274</td>\n",
              "      <td>0.453309</td>\n",
              "      <td>0.489333</td>\n",
              "      <td>0.453157</td>\n",
              "      <td>28011.0</td>\n",
              "      <td>0.628467</td>\n",
              "      <td>0.614392</td>\n",
              "      <td>0.666274</td>\n",
              "      <td>28011.0</td>\n",
              "    </tr>\n",
              "    <tr>\n",
              "      <th>3</th>\n",
              "      <td>0.708870</td>\n",
              "      <td>0.663938</td>\n",
              "      <td>0.760324</td>\n",
              "      <td>3947.0</td>\n",
              "      <td>0.117204</td>\n",
              "      <td>0.293501</td>\n",
              "      <td>0.073222</td>\n",
              "      <td>1912.0</td>\n",
              "      <td>0.293713</td>\n",
              "      <td>0.328692</td>\n",
              "      <td>0.265462</td>\n",
              "      <td>2490.0</td>\n",
              "      <td>0.330579</td>\n",
              "      <td>0.430475</td>\n",
              "      <td>0.268313</td>\n",
              "      <td>4696.0</td>\n",
              "      <td>0.832153</td>\n",
              "      <td>0.760566</td>\n",
              "      <td>0.918616</td>\n",
              "      <td>14966.0</td>\n",
              "      <td>0.671522</td>\n",
              "      <td>0.456504</td>\n",
              "      <td>0.495435</td>\n",
              "      <td>0.457187</td>\n",
              "      <td>28011.0</td>\n",
              "      <td>0.634028</td>\n",
              "      <td>0.621339</td>\n",
              "      <td>0.671522</td>\n",
              "      <td>28011.0</td>\n",
              "    </tr>\n",
              "    <tr>\n",
              "      <th>4</th>\n",
              "      <td>0.696412</td>\n",
              "      <td>0.649218</td>\n",
              "      <td>0.751005</td>\n",
              "      <td>3980.0</td>\n",
              "      <td>0.115649</td>\n",
              "      <td>0.270321</td>\n",
              "      <td>0.073560</td>\n",
              "      <td>1944.0</td>\n",
              "      <td>0.308423</td>\n",
              "      <td>0.341137</td>\n",
              "      <td>0.281435</td>\n",
              "      <td>2537.0</td>\n",
              "      <td>0.320757</td>\n",
              "      <td>0.429950</td>\n",
              "      <td>0.255794</td>\n",
              "      <td>4703.0</td>\n",
              "      <td>0.835963</td>\n",
              "      <td>0.762995</td>\n",
              "      <td>0.924362</td>\n",
              "      <td>14847.0</td>\n",
              "      <td>0.670201</td>\n",
              "      <td>0.455441</td>\n",
              "      <td>0.490724</td>\n",
              "      <td>0.457231</td>\n",
              "      <td>28011.0</td>\n",
              "      <td>0.631861</td>\n",
              "      <td>0.618511</td>\n",
              "      <td>0.670201</td>\n",
              "      <td>28011.0</td>\n",
              "    </tr>\n",
              "  </tbody>\n",
              "</table>\n",
              "</div>"
            ],
            "text/plain": [
              "   1_f1-score  1_precision  ...  weighted avg_recall  weighted avg_support\n",
              "0    0.705869     0.652361  ...             0.672522               28011.0\n",
              "1    0.704116     0.653177  ...             0.669701               28011.0\n",
              "2    0.701717     0.659518  ...             0.666274               28011.0\n",
              "3    0.708870     0.663938  ...             0.671522               28011.0\n",
              "4    0.696412     0.649218  ...             0.670201               28011.0\n",
              "\n",
              "[5 rows x 29 columns]"
            ]
          },
          "metadata": {
            "tags": []
          },
          "execution_count": 9
        }
      ]
    },
    {
      "cell_type": "code",
      "metadata": {
        "id": "rEev-Wwvp0ky",
        "colab_type": "code",
        "outputId": "045a3713-5e5d-4136-ffaf-fe6758008f48",
        "colab": {
          "base_uri": "https://localhost:8080/",
          "height": 518
        }
      },
      "source": [
        "import matplotlib.pyplot as plt\n",
        "import seaborn as sns\n",
        "import json\n",
        "\n",
        "%matplotlib inline\n",
        "sns.set()\n",
        "\n",
        "base_cr_dict = du.add_dict_to_dict({}, json.loads(base.classification_report.values[0]))\n",
        "\n",
        "\n",
        "precision2 = cr_df[\"2_precision\"]\n",
        "paragram_ci = np.percentile(precision2.to_list(), [2.5, 97.5])\n",
        "\n",
        "print(precision2.describe())\n",
        "\n",
        "f, a = plt.subplots(1, 1, figsize=(25, 5))\n",
        "sns.kdeplot(cr_df[\"2_precision\"].values, alpha=0.25, color=\"b\", cumulative=False)\n",
        "plt.vlines(precision2.mean(), ymin=0, ymax=20.0, linestyle=\"--\", color=\"b\", label='paragram')\n",
        "plt.vlines(base_cr_dict[\"2_precision\"], ymin=0, ymax=20.0, linestyle=\"--\", color=\"r\", label='base')\n",
        "for i in paragram_ci:\n",
        "  plt.vlines(i, ymin=0, ymax=20.0, linestyle=\"--\", color=\"b\")\n",
        "a.legend(['class 2 precision', 'paragram - mean and 95% confidence interval', 'base - class 2 precision'])\n"
      ],
      "execution_count": 23,
      "outputs": [
        {
          "output_type": "stream",
          "text": [
            "count    5000.000000\n",
            "mean        0.302756\n",
            "std         0.020892\n",
            "min         0.224206\n",
            "25%         0.288678\n",
            "50%         0.302594\n",
            "75%         0.316876\n",
            "max         0.373518\n",
            "Name: 2_precision, dtype: float64\n"
          ],
          "name": "stdout"
        },
        {
          "output_type": "execute_result",
          "data": {
            "text/plain": [
              "<matplotlib.legend.Legend at 0x7f5f9c4c9f98>"
            ]
          },
          "metadata": {
            "tags": []
          },
          "execution_count": 23
        },
        {
          "output_type": "display_data",
          "data": {
            "image/png": "[encoded data removed]",
            "text/plain": [
              "<Figure size 1800x360 with 1 Axes>"
            ]
          },
          "metadata": {
            "tags": []
          }
        }
      ]
    },
    {
      "cell_type": "code",
      "metadata": {
        "id": "IOT7CWCg-GiL",
        "colab_type": "code",
        "outputId": "a28ed5c9-0148-4957-8531-d4b1d2b0bafd",
        "colab": {
          "base_uri": "https://localhost:8080/",
          "height": 34
        }
      },
      "source": [
        "print(f'p-value: {len(cr_df[cr_df[\"2_precision\"] > base_cr_dict[\"2_precision\"]]) / SAMPLE_ITERATIONS}')"
      ],
      "execution_count": 13,
      "outputs": [
        {
          "output_type": "stream",
          "text": [
            "p-value: 0.0194\n"
          ],
          "name": "stdout"
        }
      ]
    },
    {
      "cell_type": "markdown",
      "metadata": {
        "id": "b0teer-r4hZc",
        "colab_type": "text"
      },
      "source": [
        "# Bootstrap Conclusion\n",
        "\n",
        "It looks like that our p-value is 1.4%\n",
        "\n",
        "Genreally we consider p-value of 5% or lower as statistically significant. In this case, there is less than a 1.4% chance that the precision results that we saw in our test that we would generate a difference of ~4% in precision for class 2. This means that the class 2 precision difference between our base model and the paragram model is statistically significant.\n",
        "\n",
        "We can confidently say that the base model is more accurate in predicting class 2 reviews\n",
        "\n",
        "\n",
        "Again, this test may not valid since we are not accounting for variations in class 2 precision for the base model and only using the precision result from our notebook"
      ]
    },
    {
      "cell_type": "markdown",
      "metadata": {
        "id": "sHzevuxfOTUs",
        "colab_type": "text"
      },
      "source": [
        "# Permutation Method\n",
        "\n",
        "Our null hypothesis is that the difference in class 2 precision (~4%) is due to chance.\n",
        "\n",
        "In order to test this, we are going to combine the predictions from both models, permuate and split into 2 groups. The statistic we will use the difference in precision between the 2 groups."
      ]
    },
    {
      "cell_type": "code",
      "metadata": {
        "id": "oisuXomktqO4",
        "colab_type": "code",
        "colab": {}
      },
      "source": [
        "# to test the null hypothesis, we permutate between the 2 groups and see what the difference\n",
        "# in class 2 precision is\n",
        "\n",
        "\n",
        "def permutate(truths, predictions):\n",
        "\n",
        "  indexes = np.random.permutation(len(truths))\n",
        "  indexes1 = indexes[:len(truths) // 2]\n",
        "  indexes2 = indexes[len(truths) // 2:]\n",
        "\n",
        "  # create our permutation sets\n",
        "  truth1 = [truths[i] for i in indexes1]\n",
        "  predictions1 = [predictions[i] for i in indexes1]\n",
        "  truth2 = [truths[i] for i in indexes2]\n",
        "  predictions2 = [predictions[i] for i in indexes2]\n",
        "\n",
        "  class2_precision1 = du.add_dict_to_dict({}, classification_report(truth1, predictions1, output_dict=True))[\"2_precision\"]\n",
        "  class2_precision2 = du.add_dict_to_dict({}, classification_report(truth2, predictions2, output_dict=True))[\"2_precision\"]\n",
        "\n",
        "  class2_precision_diff = class2_precision2 - class2_precision1\n",
        "\n",
        "  return class2_precision_diff\n",
        "\n",
        "\n",
        "\n",
        "\n",
        "\n",
        "  \n",
        "\n"
      ],
      "execution_count": 0,
      "outputs": []
    },
    {
      "cell_type": "code",
      "metadata": {
        "id": "gbF4y5kq7CE2",
        "colab_type": "code",
        "outputId": "2060eec4-a727-4218-eff0-12fc13a03cd3",
        "colab": {
          "base_uri": "https://localhost:8080/",
          "height": 34
        }
      },
      "source": [
        "truth_concat = np.hstack((y_test_unencoded, y_test_unencoded))\n",
        "predictions_concat = np.hstack((base_predicted_unencoded, paragram_predicted_unencoded))\n",
        "\n",
        "diffs = np.empty(SAMPLE_ITERATIONS)\n",
        "for i in range(SAMPLE_ITERATIONS):\n",
        "  diffs[i] = permutate(truth_concat, predictions_concat)\n",
        "\n",
        "diffs[:5]"
      ],
      "execution_count": 27,
      "outputs": [
        {
          "output_type": "execute_result",
          "data": {
            "text/plain": [
              "array([ 0.01019701, -0.00447367, -0.04377028,  0.05954767, -0.01515663])"
            ]
          },
          "metadata": {
            "tags": []
          },
          "execution_count": 27
        }
      ]
    },
    {
      "cell_type": "code",
      "metadata": {
        "id": "PG6tQ34b_HEJ",
        "colab_type": "code",
        "outputId": "270df9e7-f4b4-450e-ab03-6194e40f2a6c",
        "colab": {
          "base_uri": "https://localhost:8080/",
          "height": 382
        }
      },
      "source": [
        "import matplotlib.pyplot as plt\n",
        "import seaborn as sns\n",
        "import json\n",
        "\n",
        "%matplotlib inline\n",
        "sns.set()\n",
        "\n",
        "base_class2_precision = du.add_dict_to_dict({}, json.loads(base.classification_report.values[0]))[\"2_precision\"]\n",
        "paragram_class2_precision = du.add_dict_to_dict({}, json.loads(paragram.classification_report.values[0]))[\"2_precision\"]\n",
        "\n",
        "class2_diff = base_class2_precision - paragram_class2_precision\n",
        "\n",
        "\n",
        "f, a = plt.subplots(figsize=(10, 5))\n",
        "num_bins = 30\n",
        "# plot histogram\n",
        "# plt.hist(diffs, bins=num_bins, color='b', alpha=0.25, density=True)\n",
        "\n",
        "# plot CDF\n",
        "counts, bin_edges = np.histogram(diffs, bins=num_bins, normed=True) \n",
        "cdf = np.cumsum (counts)\n",
        "plt.plot (bin_edges[1:], cdf/cdf[-1])\n",
        "plt.vlines(class2_diff, ymin=0, ymax=1.0, color='r', linestyles='--')\n",
        "a.legend(['CDF', 'Difference from Notebook'])\n",
        "\n",
        "\n",
        "# plt.hist(diffs, bins=num_bins, density=True)"
      ],
      "execution_count": 28,
      "outputs": [
        {
          "output_type": "stream",
          "text": [
            "/usr/local/lib/python3.6/dist-packages/ipykernel_launcher.py:20: VisibleDeprecationWarning: Passing `normed=True` on non-uniform bins has always been broken, and computes neither the probability density function nor the probability mass function. The result is only correct if the bins are uniform, when density=True will produce the same result anyway. The argument will be removed in a future version of numpy.\n"
          ],
          "name": "stderr"
        },
        {
          "output_type": "execute_result",
          "data": {
            "text/plain": [
              "<matplotlib.legend.Legend at 0x7f600e465160>"
            ]
          },
          "metadata": {
            "tags": []
          },
          "execution_count": 28
        },
        {
          "output_type": "display_data",
          "data": {
            "image/png": "[encoded data removed]",
            "text/plain": [
              "<Figure size 720x360 with 1 Axes>"
            ]
          },
          "metadata": {
            "tags": []
          }
        }
      ]
    },
    {
      "cell_type": "code",
      "metadata": {
        "id": "csKbI3OI_9Mf",
        "colab_type": "code",
        "colab": {
          "base_uri": "https://localhost:8080/",
          "height": 34
        },
        "outputId": "62643c6f-a764-4b0b-ee3e-5dac0640a341"
      },
      "source": [
        "print(f'P-value: {np.sum(diffs >= class2_diff) / len(diffs)}')"
      ],
      "execution_count": 29,
      "outputs": [
        {
          "output_type": "stream",
          "text": [
            "P-value: 0.1008\n"
          ],
          "name": "stdout"
        }
      ]
    },
    {
      "cell_type": "markdown",
      "metadata": {
        "id": "LmbYt_yXJwb6",
        "colab_type": "text"
      },
      "source": [
        "# Conclusion\n",
        "\n",
        "Blue line is the CDF of the difference in class 2 precision from our test of 10k iterations. Red line is the difference we saw in our previous notebook. The intersect between these 2 lines tells us the p-value of the difference.\n",
        "\n",
        "The p-value for the difference in class 2 precision we saw between the 2 models is about 10%. This means that if it was by chance, we would expect that the difference to be what we saw 10% of the time. Generally, we consider 5% as statistically significant and 10% is borderline which means our results may not be conclusive enough to say that our base model is definitely better than the paragram model."
      ]
    },
    {
      "cell_type": "code",
      "metadata": {
        "id": "4uCixYeIBT52",
        "colab_type": "code",
        "colab": {}
      },
      "source": [
        ""
      ],
      "execution_count": 0,
      "outputs": []
    }
  ]
}